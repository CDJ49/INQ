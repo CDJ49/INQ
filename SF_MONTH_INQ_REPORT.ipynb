{
 "cells": [
  {
   "cell_type": "code",
   "execution_count": 1,
   "metadata": {},
   "outputs": [],
   "source": [
    "import numpy as np\n",
    "import pandas as pd\n",
    "import matplotlib.pyplot as plt\n",
    "import seaborn as sns\n",
    "%matplotlib inline"
   ]
  },
  {
   "cell_type": "code",
   "execution_count": 2,
   "metadata": {},
   "outputs": [],
   "source": [
    "#disable warnings\n",
    "import warnings; warnings.simplefilter('ignore')"
   ]
  },
  {
   "cell_type": "code",
   "execution_count": 3,
   "metadata": {},
   "outputs": [],
   "source": [
    "#INT is the contact information for INTERACTIONS\n",
    "INT=pd.read_csv('C:/Users/mjc341/Desktop/UMAN 1507 Monthly INQ summary Report/Interactions.Contacts.csv',skipfooter=5,encoding='latin-1',engine ='python')\n",
    "#INT=pd.read_csv('C:/Users/sxh706/Desktop/Interactions.by.Month/2018/June/Interactions.Contacts.csv',skipfooter=5,encoding='latin-1',engine ='python')"
   ]
  },
  {
   "cell_type": "code",
   "execution_count": 4,
   "metadata": {},
   "outputs": [],
   "source": [
    "#CON is the CONTACT TERM information\n",
    "CON=pd.read_csv('C:/Users/mjc341/Desktop/UMAN 1507 Monthly INQ summary Report/Interactions.Opportunity.Term.csv',skipfooter=5,encoding='latin-1',engine ='python')\n",
    "#CON=pd.read_csv('C:/Users/sxh706/Desktop/Interactions.by.Month/2018/June/Interactions.Opportunity.Term.csv',skipfooter=5,encoding='latin-1',engine ='python')"
   ]
  },
  {
   "cell_type": "code",
   "execution_count": 5,
   "metadata": {},
   "outputs": [
    {
     "data": {
      "text/plain": [
       "1476708"
      ]
     },
     "execution_count": 5,
     "metadata": {},
     "output_type": "execute_result"
    }
   ],
   "source": [
    "len(INT)"
   ]
  },
  {
   "cell_type": "code",
   "execution_count": 6,
   "metadata": {},
   "outputs": [
    {
     "data": {
      "text/plain": [
       "818555"
      ]
     },
     "execution_count": 6,
     "metadata": {},
     "output_type": "execute_result"
    }
   ],
   "source": [
    "len(CON)"
   ]
  },
  {
   "cell_type": "code",
   "execution_count": 7,
   "metadata": {},
   "outputs": [],
   "source": [
    "#INT.info()"
   ]
  },
  {
   "cell_type": "code",
   "execution_count": 8,
   "metadata": {},
   "outputs": [
    {
     "data": {
      "text/plain": [
       "Index(['Contact: Contact ID (18-digit)', 'Interaction: Interaction Name',\n",
       "       'Admit Type', 'Contact: First Name', 'Contact: Middle Name',\n",
       "       'Contact: Last Name', 'Contact: Ethnic Group', 'Contact: Ethnicity',\n",
       "       'Contact: Gender', 'Term', 'Lead Source', 'Interaction: Created Date',\n",
       "       'Contact: Mailing Street', 'Contact: Mailing City',\n",
       "       'Contact: Mailing State/Province', 'Contact: Mailing Zip/Postal Code',\n",
       "       'Contact: Mailing Country', 'Contact: Other City',\n",
       "       'Contact: Other State/Province', 'Contact: Other Zip/Postal Code',\n",
       "       'Contact: Other Country', 'Contact: Market Segment Code',\n",
       "       'Contact: Market Segment'],\n",
       "      dtype='object')"
      ]
     },
     "execution_count": 8,
     "metadata": {},
     "output_type": "execute_result"
    }
   ],
   "source": [
    "INT.columns"
   ]
  },
  {
   "cell_type": "code",
   "execution_count": 9,
   "metadata": {},
   "outputs": [
    {
     "data": {
      "text/plain": [
       "Index(['Contact ID (18-digit)', 'Full Name', 'Opportunity Name',\n",
       "       'Term: Term Name', 'Opportunity Record Type', 'Inquiry', 'Inquiry Date',\n",
       "       'Opportunity ID (18-digit)', 'Empl ID', 'Application Number'],\n",
       "      dtype='object')"
      ]
     },
     "execution_count": 9,
     "metadata": {},
     "output_type": "execute_result"
    }
   ],
   "source": [
    "CON.columns"
   ]
  },
  {
   "cell_type": "code",
   "execution_count": 10,
   "metadata": {},
   "outputs": [],
   "source": [
    "#CON.info()"
   ]
  },
  {
   "cell_type": "code",
   "execution_count": 11,
   "metadata": {},
   "outputs": [],
   "source": [
    "#remove columns with identifing info\n",
    "CON = CON.drop(columns =['Full Name'])"
   ]
  },
  {
   "cell_type": "code",
   "execution_count": 12,
   "metadata": {},
   "outputs": [],
   "source": [
    "#remove columsn with identifing info\n",
    "INT = INT.drop(columns= ['Contact: First Name', 'Contact: Middle Name',\n",
    "       'Contact: Last Name'])"
   ]
  },
  {
   "cell_type": "code",
   "execution_count": 13,
   "metadata": {},
   "outputs": [],
   "source": [
    "#changed the name of columns using a dictionary\n",
    "INT = INT.rename(columns ={'Contact: Contact ID (18-digit)':'Contact_ID','Interaction: Interaction Name':'Int_Name',\n",
    "       'Admit Type':'Admit_Type','Contact: Ethnic Group': 'Ethnic_Group', 'Contact: Ethnicity':'Ethnicity',\n",
    "       'Contact: Gender':'Gender', 'Term':'Term', 'Lead Source':'Lead_Source', 'Interaction: Created Date':'Create_Date',\n",
    "       'Contact: Mailing Street':'Mailing_Street', 'Contact: Mailing City':'Mailing_City',\n",
    "       'Contact: Mailing State/Province':'Mailing_State', 'Contact: Mailing Zip/Postal Code':'Mailing_Postal',\n",
    "       'Contact: Mailing Country':'Mailing_Country', 'Contact: Other City':'Other_City',\n",
    "       'Contact: Other State/Province':'Other_State', 'Contact: Other Zip/Postal Code':'Other_Postal',\n",
    "       'Contact: Other Country':'Mailing_Country', 'Contact: Market Segment Code':'Market_Segment_Code',\n",
    "       'Contact: Market Segment':'Market_Segment'},inplace =False)"
   ]
  },
  {
   "cell_type": "code",
   "execution_count": 14,
   "metadata": {},
   "outputs": [],
   "source": [
    "#changed the name of columns\n",
    "CON = CON.rename(columns={  'Contact ID (18-digit)':'Contact_ID', 'Opportunity Name':'OppName', \n",
    "       'Term: Term Name':'Term', 'Opportunity Record Type':'Record_Type', 'Inquiry':'Inquiry', 'Inquiry Date':'Inquiry_Date',\n",
    "       'Opportunity ID (18-digit)':'Opp_ID', 'Empl ID':'EMPL', 'Application Number':'App_Number'})"
   ]
  },
  {
   "cell_type": "code",
   "execution_count": 15,
   "metadata": {},
   "outputs": [],
   "source": [
    "#Sort INT by Contact_ID and Interaction Name\n",
    "INT = INT.sort_values(by = ['Contact_ID','Int_Name'])"
   ]
  },
  {
   "cell_type": "code",
   "execution_count": 16,
   "metadata": {},
   "outputs": [],
   "source": [
    "#Sort CON by Contact_ID and Opportunity Name\n",
    "CON = CON.sort_values(by = ['Contact_ID','OppName'])"
   ]
  },
  {
   "cell_type": "code",
   "execution_count": 17,
   "metadata": {},
   "outputs": [],
   "source": [
    "#Dropping the duplicates to then merge later\n",
    "CON=CON.drop_duplicates(['Contact_ID'], keep='first')"
   ]
  },
  {
   "cell_type": "code",
   "execution_count": 18,
   "metadata": {},
   "outputs": [
    {
     "data": {
      "text/html": [
       "<div>\n",
       "<style scoped>\n",
       "    .dataframe tbody tr th:only-of-type {\n",
       "        vertical-align: middle;\n",
       "    }\n",
       "\n",
       "    .dataframe tbody tr th {\n",
       "        vertical-align: top;\n",
       "    }\n",
       "\n",
       "    .dataframe thead th {\n",
       "        text-align: right;\n",
       "    }\n",
       "</style>\n",
       "<table border=\"1\" class=\"dataframe\">\n",
       "  <thead>\n",
       "    <tr style=\"text-align: right;\">\n",
       "      <th></th>\n",
       "      <th>Contact_ID</th>\n",
       "      <th>Int_Name</th>\n",
       "      <th>Admit_Type</th>\n",
       "      <th>Ethnic_Group</th>\n",
       "      <th>Ethnicity</th>\n",
       "      <th>Gender</th>\n",
       "      <th>Term</th>\n",
       "      <th>Lead_Source</th>\n",
       "      <th>Create_Date</th>\n",
       "      <th>Mailing_Street</th>\n",
       "      <th>Mailing_City</th>\n",
       "      <th>Mailing_State</th>\n",
       "      <th>Mailing_Postal</th>\n",
       "      <th>Mailing_Country</th>\n",
       "      <th>Other_City</th>\n",
       "      <th>Other_State</th>\n",
       "      <th>Other_Postal</th>\n",
       "      <th>Mailing_Country</th>\n",
       "      <th>Market_Segment_Code</th>\n",
       "      <th>Market_Segment</th>\n",
       "    </tr>\n",
       "  </thead>\n",
       "  <tbody>\n",
       "    <tr>\n",
       "      <th>774326</th>\n",
       "      <td>0031500001d4Si8AAE</td>\n",
       "      <td>20160320-0100599</td>\n",
       "      <td>New Student</td>\n",
       "      <td>NaN</td>\n",
       "      <td>NaN</td>\n",
       "      <td>Female</td>\n",
       "      <td>Fall 2015</td>\n",
       "      <td>Purchased List</td>\n",
       "      <td>1/4/2013</td>\n",
       "      <td>12831 sw 43 dr</td>\n",
       "      <td>miami</td>\n",
       "      <td>FL</td>\n",
       "      <td>33175</td>\n",
       "      <td>United States</td>\n",
       "      <td>NaN</td>\n",
       "      <td>NaN</td>\n",
       "      <td>NaN</td>\n",
       "      <td>NaN</td>\n",
       "      <td>NaN</td>\n",
       "      <td>NaN</td>\n",
       "    </tr>\n",
       "  </tbody>\n",
       "</table>\n",
       "</div>"
      ],
      "text/plain": [
       "                Contact_ID          Int_Name   Admit_Type Ethnic_Group  \\\n",
       "774326  0031500001d4Si8AAE  20160320-0100599  New Student          NaN   \n",
       "\n",
       "       Ethnicity  Gender       Term     Lead_Source Create_Date  \\\n",
       "774326       NaN  Female  Fall 2015  Purchased List    1/4/2013   \n",
       "\n",
       "        Mailing_Street Mailing_City Mailing_State Mailing_Postal  \\\n",
       "774326  12831 sw 43 dr        miami            FL          33175   \n",
       "\n",
       "       Mailing_Country Other_City Other_State Other_Postal Mailing_Country  \\\n",
       "774326   United States        NaN         NaN          NaN             NaN   \n",
       "\n",
       "       Market_Segment_Code Market_Segment  \n",
       "774326                 NaN            NaN  "
      ]
     },
     "execution_count": 18,
     "metadata": {},
     "output_type": "execute_result"
    }
   ],
   "source": [
    "INT.head(1)"
   ]
  },
  {
   "cell_type": "code",
   "execution_count": 19,
   "metadata": {},
   "outputs": [],
   "source": [
    "# Create a datetime variable from Create_Date this operation takes up to 3 min\n",
    "INT['Create_Date']= pd.to_datetime(INT.Create_Date)"
   ]
  },
  {
   "cell_type": "code",
   "execution_count": 20,
   "metadata": {},
   "outputs": [
    {
     "data": {
      "text/plain": [
       "Timestamp('2001-08-06 00:00:00')"
      ]
     },
     "execution_count": 20,
     "metadata": {},
     "output_type": "execute_result"
    }
   ],
   "source": [
    "#find earliest create date\n",
    "INT['Create_Date'].min()"
   ]
  },
  {
   "cell_type": "markdown",
   "metadata": {},
   "source": [
    "Here we will insert the lambda function to extract the YEAR and MONTH from the new datetime type so we can filter on YEAR and groupby MONTH also add M col that can be dictionaried to Names of MONTHS instead of numbers. Question can we format the month names at the conversion?"
   ]
  },
  {
   "cell_type": "code",
   "execution_count": 21,
   "metadata": {},
   "outputs": [],
   "source": [
    "INT.loc[:,'YEAR'] =INT['Create_Date'].apply(lambda x: \"%d\" % (x.year))"
   ]
  },
  {
   "cell_type": "code",
   "execution_count": 22,
   "metadata": {},
   "outputs": [],
   "source": [
    "INT.loc[:,'MONTH'] = INT['Create_Date'].apply(lambda x: \"%d\" % (x.month))"
   ]
  },
  {
   "cell_type": "code",
   "execution_count": 23,
   "metadata": {},
   "outputs": [],
   "source": [
    "INT.loc[:,'M'] = INT['Create_Date'].apply(lambda x: \"%d\" % (x.month))"
   ]
  },
  {
   "cell_type": "code",
   "execution_count": 24,
   "metadata": {},
   "outputs": [
    {
     "data": {
      "text/html": [
       "<div>\n",
       "<style scoped>\n",
       "    .dataframe tbody tr th:only-of-type {\n",
       "        vertical-align: middle;\n",
       "    }\n",
       "\n",
       "    .dataframe tbody tr th {\n",
       "        vertical-align: top;\n",
       "    }\n",
       "\n",
       "    .dataframe thead th {\n",
       "        text-align: right;\n",
       "    }\n",
       "</style>\n",
       "<table border=\"1\" class=\"dataframe\">\n",
       "  <thead>\n",
       "    <tr style=\"text-align: right;\">\n",
       "      <th></th>\n",
       "      <th>Contact_ID</th>\n",
       "      <th>Int_Name</th>\n",
       "      <th>Admit_Type</th>\n",
       "      <th>Ethnic_Group</th>\n",
       "      <th>Ethnicity</th>\n",
       "      <th>Gender</th>\n",
       "      <th>Term</th>\n",
       "      <th>Lead_Source</th>\n",
       "      <th>Create_Date</th>\n",
       "      <th>Mailing_Street</th>\n",
       "      <th>...</th>\n",
       "      <th>Mailing_Country</th>\n",
       "      <th>Other_City</th>\n",
       "      <th>Other_State</th>\n",
       "      <th>Other_Postal</th>\n",
       "      <th>Mailing_Country</th>\n",
       "      <th>Market_Segment_Code</th>\n",
       "      <th>Market_Segment</th>\n",
       "      <th>YEAR</th>\n",
       "      <th>MONTH</th>\n",
       "      <th>M</th>\n",
       "    </tr>\n",
       "  </thead>\n",
       "  <tbody>\n",
       "    <tr>\n",
       "      <th>774326</th>\n",
       "      <td>0031500001d4Si8AAE</td>\n",
       "      <td>20160320-0100599</td>\n",
       "      <td>New Student</td>\n",
       "      <td>NaN</td>\n",
       "      <td>NaN</td>\n",
       "      <td>Female</td>\n",
       "      <td>Fall 2015</td>\n",
       "      <td>Purchased List</td>\n",
       "      <td>2013-01-04</td>\n",
       "      <td>12831 sw 43 dr</td>\n",
       "      <td>...</td>\n",
       "      <td>United States</td>\n",
       "      <td>NaN</td>\n",
       "      <td>NaN</td>\n",
       "      <td>NaN</td>\n",
       "      <td>NaN</td>\n",
       "      <td>NaN</td>\n",
       "      <td>NaN</td>\n",
       "      <td>2013</td>\n",
       "      <td>1</td>\n",
       "      <td>1</td>\n",
       "    </tr>\n",
       "  </tbody>\n",
       "</table>\n",
       "<p>1 rows × 23 columns</p>\n",
       "</div>"
      ],
      "text/plain": [
       "                Contact_ID          Int_Name   Admit_Type Ethnic_Group  \\\n",
       "774326  0031500001d4Si8AAE  20160320-0100599  New Student          NaN   \n",
       "\n",
       "       Ethnicity  Gender       Term     Lead_Source Create_Date  \\\n",
       "774326       NaN  Female  Fall 2015  Purchased List  2013-01-04   \n",
       "\n",
       "        Mailing_Street ... Mailing_Country Other_City Other_State  \\\n",
       "774326  12831 sw 43 dr ...   United States        NaN         NaN   \n",
       "\n",
       "       Other_Postal Mailing_Country Market_Segment_Code Market_Segment  YEAR  \\\n",
       "774326          NaN             NaN                 NaN            NaN  2013   \n",
       "\n",
       "       MONTH  M  \n",
       "774326     1  1  \n",
       "\n",
       "[1 rows x 23 columns]"
      ]
     },
     "execution_count": 24,
     "metadata": {},
     "output_type": "execute_result"
    }
   ],
   "source": [
    "INT.head(1)"
   ]
  },
  {
   "cell_type": "code",
   "execution_count": 25,
   "metadata": {},
   "outputs": [],
   "source": [
    "# filter on term for 2017,2018,2019\n",
    "TERM2017 = INT.loc[(INT.Term == 'Fall 2017')]\n",
    "TERM2018 = INT.loc[(INT.Term == 'Fall 2018')]\n",
    "TERM2019 = INT.loc[(INT.Term == 'Fall 2019')]\n"
   ]
  },
  {
   "cell_type": "code",
   "execution_count": 26,
   "metadata": {},
   "outputs": [],
   "source": [
    "#filter on YEAR for  2016,2017,2018\n",
    "INQ2016 = TERM2017[TERM2017['YEAR'] == '2016']\n",
    "INQ2017 = TERM2018[TERM2018['YEAR'] == '2017']\n",
    "INQ2018 =TERM2019[TERM2019['YEAR'] == '2018']"
   ]
  },
  {
   "cell_type": "code",
   "execution_count": 27,
   "metadata": {},
   "outputs": [
    {
     "data": {
      "text/plain": [
       "124743"
      ]
     },
     "execution_count": 27,
     "metadata": {},
     "output_type": "execute_result"
    }
   ],
   "source": [
    "len(INQ2016)"
   ]
  },
  {
   "cell_type": "code",
   "execution_count": 28,
   "metadata": {},
   "outputs": [
    {
     "data": {
      "text/plain": [
       "115443"
      ]
     },
     "execution_count": 28,
     "metadata": {},
     "output_type": "execute_result"
    }
   ],
   "source": [
    "len(INQ2017)"
   ]
  },
  {
   "cell_type": "code",
   "execution_count": 29,
   "metadata": {},
   "outputs": [
    {
     "data": {
      "text/plain": [
       "46989"
      ]
     },
     "execution_count": 29,
     "metadata": {},
     "output_type": "execute_result"
    }
   ],
   "source": [
    "len(INQ2018)"
   ]
  },
  {
   "cell_type": "code",
   "execution_count": 30,
   "metadata": {},
   "outputs": [
    {
     "data": {
      "text/html": [
       "<div>\n",
       "<style scoped>\n",
       "    .dataframe tbody tr th:only-of-type {\n",
       "        vertical-align: middle;\n",
       "    }\n",
       "\n",
       "    .dataframe tbody tr th {\n",
       "        vertical-align: top;\n",
       "    }\n",
       "\n",
       "    .dataframe thead th {\n",
       "        text-align: right;\n",
       "    }\n",
       "</style>\n",
       "<table border=\"1\" class=\"dataframe\">\n",
       "  <thead>\n",
       "    <tr style=\"text-align: right;\">\n",
       "      <th></th>\n",
       "      <th>Contact_ID</th>\n",
       "      <th>Int_Name</th>\n",
       "      <th>Admit_Type</th>\n",
       "      <th>Ethnic_Group</th>\n",
       "      <th>Ethnicity</th>\n",
       "      <th>Gender</th>\n",
       "      <th>Term</th>\n",
       "      <th>Lead_Source</th>\n",
       "      <th>Create_Date</th>\n",
       "      <th>Mailing_Street</th>\n",
       "      <th>...</th>\n",
       "      <th>Mailing_Country</th>\n",
       "      <th>Other_City</th>\n",
       "      <th>Other_State</th>\n",
       "      <th>Other_Postal</th>\n",
       "      <th>Mailing_Country</th>\n",
       "      <th>Market_Segment_Code</th>\n",
       "      <th>Market_Segment</th>\n",
       "      <th>YEAR</th>\n",
       "      <th>MONTH</th>\n",
       "      <th>M</th>\n",
       "    </tr>\n",
       "  </thead>\n",
       "  <tbody>\n",
       "    <tr>\n",
       "      <th>1475299</th>\n",
       "      <td>0031500001d4SiCAAU</td>\n",
       "      <td>20160320-0910984</td>\n",
       "      <td>New Student</td>\n",
       "      <td>NaN</td>\n",
       "      <td>Black/African American</td>\n",
       "      <td>Female</td>\n",
       "      <td>Fall 2017</td>\n",
       "      <td>Web Form</td>\n",
       "      <td>2016-01-12</td>\n",
       "      <td>3 Horsley Road</td>\n",
       "      <td>...</td>\n",
       "      <td>ENGLAND</td>\n",
       "      <td>Clermont</td>\n",
       "      <td>Florida</td>\n",
       "      <td>34714</td>\n",
       "      <td>United States</td>\n",
       "      <td>EW-5</td>\n",
       "      <td>EW-5-I-England</td>\n",
       "      <td>2016</td>\n",
       "      <td>1</td>\n",
       "      <td>1</td>\n",
       "    </tr>\n",
       "  </tbody>\n",
       "</table>\n",
       "<p>1 rows × 23 columns</p>\n",
       "</div>"
      ],
      "text/plain": [
       "                 Contact_ID          Int_Name   Admit_Type Ethnic_Group  \\\n",
       "1475299  0031500001d4SiCAAU  20160320-0910984  New Student          NaN   \n",
       "\n",
       "                      Ethnicity  Gender       Term Lead_Source Create_Date  \\\n",
       "1475299  Black/African American  Female  Fall 2017    Web Form  2016-01-12   \n",
       "\n",
       "         Mailing_Street ... Mailing_Country Other_City Other_State  \\\n",
       "1475299  3 Horsley Road ...         ENGLAND   Clermont     Florida   \n",
       "\n",
       "        Other_Postal Mailing_Country Market_Segment_Code  Market_Segment  \\\n",
       "1475299        34714   United States                EW-5  EW-5-I-England   \n",
       "\n",
       "         YEAR MONTH  M  \n",
       "1475299  2016     1  1  \n",
       "\n",
       "[1 rows x 23 columns]"
      ]
     },
     "execution_count": 30,
     "metadata": {},
     "output_type": "execute_result"
    }
   ],
   "source": [
    "#show head of INQ2016 same for 2017,2018\n",
    "INQ2016.head(1)"
   ]
  },
  {
   "cell_type": "code",
   "execution_count": 31,
   "metadata": {},
   "outputs": [
    {
     "data": {
      "text/plain": [
       "Index(['Contact_ID', 'Int_Name', 'Admit_Type', 'Ethnic_Group', 'Ethnicity',\n",
       "       'Gender', 'Term', 'Lead_Source', 'Create_Date', 'Mailing_Street',\n",
       "       'Mailing_City', 'Mailing_State', 'Mailing_Postal', 'Mailing_Country',\n",
       "       'Other_City', 'Other_State', 'Other_Postal', 'Mailing_Country',\n",
       "       'Market_Segment_Code', 'Market_Segment', 'YEAR', 'MONTH', 'M'],\n",
       "      dtype='object')"
      ]
     },
     "execution_count": 31,
     "metadata": {},
     "output_type": "execute_result"
    }
   ],
   "source": [
    "INQ2016.columns"
   ]
  },
  {
   "cell_type": "code",
   "execution_count": 32,
   "metadata": {},
   "outputs": [
    {
     "data": {
      "text/plain": [
       "pandas.core.frame.DataFrame"
      ]
     },
     "execution_count": 32,
     "metadata": {},
     "output_type": "execute_result"
    }
   ],
   "source": [
    "#confirm that filtered data is a datafram\n",
    "type(INQ2016)"
   ]
  },
  {
   "cell_type": "code",
   "execution_count": 33,
   "metadata": {},
   "outputs": [],
   "source": [
    "#pd.show_versions()"
   ]
  },
  {
   "cell_type": "code",
   "execution_count": 34,
   "metadata": {},
   "outputs": [
    {
     "data": {
      "text/plain": [
       "1      3503\n",
       "2      4667\n",
       "3      1686\n",
       "4      1413\n",
       "5      2558\n",
       "6     12485\n",
       "7     12934\n",
       "8      2437\n",
       "9      8965\n",
       "10    25071\n",
       "11    28158\n",
       "12    20866\n",
       "Name: Create_Date, dtype: int64"
      ]
     },
     "execution_count": 34,
     "metadata": {},
     "output_type": "execute_result"
    }
   ],
   "source": [
    "#get count by month of each term\n",
    "INQ2016.Create_Date.dt.month.value_counts().sort_index()"
   ]
  },
  {
   "cell_type": "code",
   "execution_count": 35,
   "metadata": {},
   "outputs": [
    {
     "data": {
      "text/plain": [
       "1      1882\n",
       "2      3795\n",
       "3      3614\n",
       "4      3560\n",
       "5     10591\n",
       "6      6949\n",
       "7      3798\n",
       "8      5233\n",
       "9      7122\n",
       "10    31401\n",
       "11    25950\n",
       "12    11548\n",
       "Name: Create_Date, dtype: int64"
      ]
     },
     "execution_count": 35,
     "metadata": {},
     "output_type": "execute_result"
    }
   ],
   "source": [
    "INQ2017.Create_Date.dt.month.value_counts().sort_index()"
   ]
  },
  {
   "cell_type": "code",
   "execution_count": 36,
   "metadata": {},
   "outputs": [
    {
     "data": {
      "text/plain": [
       "1     2418\n",
       "2     2757\n",
       "3     9018\n",
       "4    11971\n",
       "5     7061\n",
       "6    11067\n",
       "7     2697\n",
       "Name: Create_Date, dtype: int64"
      ]
     },
     "execution_count": 36,
     "metadata": {},
     "output_type": "execute_result"
    }
   ],
   "source": [
    "INQ2018.Create_Date.dt.month.value_counts().sort_index()"
   ]
  },
  {
   "cell_type": "code",
   "execution_count": 37,
   "metadata": {},
   "outputs": [],
   "source": [
    "#create a timestamp to get values from the FAll 2018 term that are prior to Jan 1 2017\n",
    "tsprior = pd.Timestamp('1/1/2016')\n",
    "tsprior2 = pd.Timestamp ('1/1/2017')\n",
    "tsprior3 = pd.Timestamp('1/1/2018')"
   ]
  },
  {
   "cell_type": "code",
   "execution_count": 38,
   "metadata": {},
   "outputs": [
    {
     "data": {
      "text/plain": [
       "Timestamp('2017-01-01 00:00:00')"
      ]
     },
     "execution_count": 38,
     "metadata": {},
     "output_type": "execute_result"
    }
   ],
   "source": [
    "tsprior2"
   ]
  },
  {
   "cell_type": "code",
   "execution_count": 39,
   "metadata": {},
   "outputs": [],
   "source": [
    "B4JAN16 = TERM2017.loc[TERM2017.Create_Date <= tsprior,:]\n",
    "B4JAN17 = TERM2018.loc[TERM2018.Create_Date <= tsprior2,:]\n",
    "B4JAN18 = TERM2019.loc[TERM2019.Create_Date <= tsprior3,:]"
   ]
  },
  {
   "cell_type": "code",
   "execution_count": 40,
   "metadata": {},
   "outputs": [
    {
     "data": {
      "text/plain": [
       "58733"
      ]
     },
     "execution_count": 40,
     "metadata": {},
     "output_type": "execute_result"
    }
   ],
   "source": [
    "len(B4JAN16)"
   ]
  },
  {
   "cell_type": "code",
   "execution_count": 41,
   "metadata": {},
   "outputs": [
    {
     "data": {
      "text/plain": [
       "35766"
      ]
     },
     "execution_count": 41,
     "metadata": {},
     "output_type": "execute_result"
    }
   ],
   "source": [
    "len(B4JAN17)"
   ]
  },
  {
   "cell_type": "code",
   "execution_count": 42,
   "metadata": {},
   "outputs": [
    {
     "data": {
      "text/plain": [
       "27464"
      ]
     },
     "execution_count": 42,
     "metadata": {},
     "output_type": "execute_result"
    }
   ],
   "source": [
    "len(B4JAN18)"
   ]
  },
  {
   "cell_type": "code",
   "execution_count": 43,
   "metadata": {},
   "outputs": [
    {
     "data": {
      "text/plain": [
       "58733"
      ]
     },
     "execution_count": 43,
     "metadata": {},
     "output_type": "execute_result"
    }
   ],
   "source": [
    "#test the counts\n",
    "B4JAN16['Contact_ID'].value_counts().sum()\n",
    "#B4JAN17['Contact_ID'].value_counts().sum()\n",
    "#B4JAN18['Contact_ID'].value_counts().sum()"
   ]
  },
  {
   "cell_type": "code",
   "execution_count": 44,
   "metadata": {},
   "outputs": [],
   "source": [
    "# M = Month end frq and MS = month start freq\n",
    "rng2017 = pd.date_range('2017 Jan 1 00:00', periods = 12, freq = 'MS')\n",
    "rng2018 = pd.date_range('2018 Jan 1 00:00', periods = 12, freq = 'MS')\n",
    "rng2019 = pd.date_range('2019 Jan 1 00:00', periods = 12, freq = 'MS')"
   ]
  },
  {
   "cell_type": "code",
   "execution_count": 45,
   "metadata": {},
   "outputs": [
    {
     "data": {
      "text/plain": [
       "DatetimeIndex(['2017-01-01', '2017-02-01', '2017-03-01', '2017-04-01',\n",
       "               '2017-05-01', '2017-06-01', '2017-07-01', '2017-08-01',\n",
       "               '2017-09-01', '2017-10-01', '2017-11-01', '2017-12-01'],\n",
       "              dtype='datetime64[ns]', freq='MS')"
      ]
     },
     "execution_count": 45,
     "metadata": {},
     "output_type": "execute_result"
    }
   ],
   "source": [
    "# create ranges which are interval by month for 2016\n",
    "rng2017"
   ]
  },
  {
   "cell_type": "code",
   "execution_count": 46,
   "metadata": {},
   "outputs": [
    {
     "data": {
      "text/plain": [
       "DatetimeIndex(['2018-01-01', '2018-02-01', '2018-03-01', '2018-04-01',\n",
       "               '2018-05-01', '2018-06-01', '2018-07-01', '2018-08-01',\n",
       "               '2018-09-01', '2018-10-01', '2018-11-01', '2018-12-01'],\n",
       "              dtype='datetime64[ns]', freq='MS')"
      ]
     },
     "execution_count": 46,
     "metadata": {},
     "output_type": "execute_result"
    }
   ],
   "source": [
    "rng2018"
   ]
  },
  {
   "cell_type": "code",
   "execution_count": 47,
   "metadata": {},
   "outputs": [
    {
     "data": {
      "text/plain": [
       "DatetimeIndex(['2019-01-01', '2019-02-01', '2019-03-01', '2019-04-01',\n",
       "               '2019-05-01', '2019-06-01', '2019-07-01', '2019-08-01',\n",
       "               '2019-09-01', '2019-10-01', '2019-11-01', '2019-12-01'],\n",
       "              dtype='datetime64[ns]', freq='MS')"
      ]
     },
     "execution_count": 47,
     "metadata": {},
     "output_type": "execute_result"
    }
   ],
   "source": [
    "rng2019"
   ]
  },
  {
   "cell_type": "code",
   "execution_count": 48,
   "metadata": {},
   "outputs": [],
   "source": [
    "#AT17['M'] = AT17['M'].map(dict)"
   ]
  },
  {
   "cell_type": "code",
   "execution_count": 49,
   "metadata": {},
   "outputs": [
    {
     "data": {
      "text/plain": [
       "58733"
      ]
     },
     "execution_count": 49,
     "metadata": {},
     "output_type": "execute_result"
    }
   ],
   "source": [
    "#create a variable that can be used later to find the running total\n",
    "x = len(B4JAN16)\n",
    "x"
   ]
  },
  {
   "cell_type": "code",
   "execution_count": 50,
   "metadata": {},
   "outputs": [],
   "source": [
    "R16 = INQ2016.Create_Date.dt.month.value_counts().sort_index()\n",
    "R17 = INQ2017.Create_Date.dt.month.value_counts().sort_index()\n",
    "R18 = INQ2018.Create_Date.dt.month.value_counts().sort_index()"
   ]
  },
  {
   "cell_type": "code",
   "execution_count": 51,
   "metadata": {},
   "outputs": [
    {
     "data": {
      "text/plain": [
       "pandas.core.series.Series"
      ]
     },
     "execution_count": 51,
     "metadata": {},
     "output_type": "execute_result"
    }
   ],
   "source": [
    "type(R16)"
   ]
  },
  {
   "cell_type": "code",
   "execution_count": 52,
   "metadata": {},
   "outputs": [],
   "source": [
    "R16df = pd.DataFrame([R16]).T\n",
    "R17df = pd.DataFrame([R17]).T\n",
    "R18df = pd.DataFrame([R18]).T"
   ]
  },
  {
   "cell_type": "code",
   "execution_count": 53,
   "metadata": {},
   "outputs": [
    {
     "data": {
      "text/plain": [
       "pandas.core.frame.DataFrame"
      ]
     },
     "execution_count": 53,
     "metadata": {},
     "output_type": "execute_result"
    }
   ],
   "source": [
    "type(R16df)"
   ]
  },
  {
   "cell_type": "code",
   "execution_count": 54,
   "metadata": {},
   "outputs": [
    {
     "data": {
      "text/html": [
       "<div>\n",
       "<style scoped>\n",
       "    .dataframe tbody tr th:only-of-type {\n",
       "        vertical-align: middle;\n",
       "    }\n",
       "\n",
       "    .dataframe tbody tr th {\n",
       "        vertical-align: top;\n",
       "    }\n",
       "\n",
       "    .dataframe thead th {\n",
       "        text-align: right;\n",
       "    }\n",
       "</style>\n",
       "<table border=\"1\" class=\"dataframe\">\n",
       "  <thead>\n",
       "    <tr style=\"text-align: right;\">\n",
       "      <th></th>\n",
       "      <th>Create_Date</th>\n",
       "    </tr>\n",
       "  </thead>\n",
       "  <tbody>\n",
       "    <tr>\n",
       "      <th>1</th>\n",
       "      <td>3503</td>\n",
       "    </tr>\n",
       "    <tr>\n",
       "      <th>2</th>\n",
       "      <td>4667</td>\n",
       "    </tr>\n",
       "    <tr>\n",
       "      <th>3</th>\n",
       "      <td>1686</td>\n",
       "    </tr>\n",
       "    <tr>\n",
       "      <th>4</th>\n",
       "      <td>1413</td>\n",
       "    </tr>\n",
       "    <tr>\n",
       "      <th>5</th>\n",
       "      <td>2558</td>\n",
       "    </tr>\n",
       "  </tbody>\n",
       "</table>\n",
       "</div>"
      ],
      "text/plain": [
       "   Create_Date\n",
       "1         3503\n",
       "2         4667\n",
       "3         1686\n",
       "4         1413\n",
       "5         2558"
      ]
     },
     "execution_count": 54,
     "metadata": {},
     "output_type": "execute_result"
    }
   ],
   "source": [
    "R16df.head()"
   ]
  },
  {
   "cell_type": "code",
   "execution_count": 55,
   "metadata": {},
   "outputs": [],
   "source": [
    "a =R16df.rename({'Create_Date': 'Count-2016'}, axis = 'columns')\n",
    "#R16df.rename({'Create_Date': 'Count-2016'}, axis = 'columns')"
   ]
  },
  {
   "cell_type": "code",
   "execution_count": 56,
   "metadata": {},
   "outputs": [],
   "source": [
    "b = R17df.rename({'Create_Date': 'Count-2017'}, axis = 'columns')\n",
    "#R17df.rename({'Create_Date': 'Count-2017'}, axis = 'columns')"
   ]
  },
  {
   "cell_type": "code",
   "execution_count": 57,
   "metadata": {},
   "outputs": [],
   "source": [
    "#R18df.rename({'Create_Date': 'Count-2018'}, axis = 'columns')\n",
    "c = R18df.rename({'Create_Date': 'Count-2018'}, axis = 'columns')"
   ]
  },
  {
   "cell_type": "code",
   "execution_count": 58,
   "metadata": {},
   "outputs": [],
   "source": [
    " j = pd.concat([a, b], axis=1, join_axes=[a.index])"
   ]
  },
  {
   "cell_type": "code",
   "execution_count": 59,
   "metadata": {},
   "outputs": [
    {
     "data": {
      "text/html": [
       "<div>\n",
       "<style scoped>\n",
       "    .dataframe tbody tr th:only-of-type {\n",
       "        vertical-align: middle;\n",
       "    }\n",
       "\n",
       "    .dataframe tbody tr th {\n",
       "        vertical-align: top;\n",
       "    }\n",
       "\n",
       "    .dataframe thead th {\n",
       "        text-align: right;\n",
       "    }\n",
       "</style>\n",
       "<table border=\"1\" class=\"dataframe\">\n",
       "  <thead>\n",
       "    <tr style=\"text-align: right;\">\n",
       "      <th></th>\n",
       "      <th>Count-2016</th>\n",
       "      <th>Count-2017</th>\n",
       "    </tr>\n",
       "  </thead>\n",
       "  <tbody>\n",
       "    <tr>\n",
       "      <th>1</th>\n",
       "      <td>3503</td>\n",
       "      <td>1882</td>\n",
       "    </tr>\n",
       "    <tr>\n",
       "      <th>2</th>\n",
       "      <td>4667</td>\n",
       "      <td>3795</td>\n",
       "    </tr>\n",
       "    <tr>\n",
       "      <th>3</th>\n",
       "      <td>1686</td>\n",
       "      <td>3614</td>\n",
       "    </tr>\n",
       "    <tr>\n",
       "      <th>4</th>\n",
       "      <td>1413</td>\n",
       "      <td>3560</td>\n",
       "    </tr>\n",
       "    <tr>\n",
       "      <th>5</th>\n",
       "      <td>2558</td>\n",
       "      <td>10591</td>\n",
       "    </tr>\n",
       "  </tbody>\n",
       "</table>\n",
       "</div>"
      ],
      "text/plain": [
       "   Count-2016  Count-2017\n",
       "1        3503        1882\n",
       "2        4667        3795\n",
       "3        1686        3614\n",
       "4        1413        3560\n",
       "5        2558       10591"
      ]
     },
     "execution_count": 59,
     "metadata": {},
     "output_type": "execute_result"
    }
   ],
   "source": [
    "j.head()"
   ]
  },
  {
   "cell_type": "code",
   "execution_count": 60,
   "metadata": {},
   "outputs": [],
   "source": [
    "k = pd.concat([j, c], axis=1, join_axes=[a.index])"
   ]
  },
  {
   "cell_type": "code",
   "execution_count": 61,
   "metadata": {},
   "outputs": [
    {
     "data": {
      "text/html": [
       "<div>\n",
       "<style scoped>\n",
       "    .dataframe tbody tr th:only-of-type {\n",
       "        vertical-align: middle;\n",
       "    }\n",
       "\n",
       "    .dataframe tbody tr th {\n",
       "        vertical-align: top;\n",
       "    }\n",
       "\n",
       "    .dataframe thead th {\n",
       "        text-align: right;\n",
       "    }\n",
       "</style>\n",
       "<table border=\"1\" class=\"dataframe\">\n",
       "  <thead>\n",
       "    <tr style=\"text-align: right;\">\n",
       "      <th></th>\n",
       "      <th>Count-2016</th>\n",
       "      <th>Count-2017</th>\n",
       "      <th>Count-2018</th>\n",
       "    </tr>\n",
       "  </thead>\n",
       "  <tbody>\n",
       "    <tr>\n",
       "      <th>1</th>\n",
       "      <td>3503</td>\n",
       "      <td>1882</td>\n",
       "      <td>2418.0</td>\n",
       "    </tr>\n",
       "    <tr>\n",
       "      <th>2</th>\n",
       "      <td>4667</td>\n",
       "      <td>3795</td>\n",
       "      <td>2757.0</td>\n",
       "    </tr>\n",
       "    <tr>\n",
       "      <th>3</th>\n",
       "      <td>1686</td>\n",
       "      <td>3614</td>\n",
       "      <td>9018.0</td>\n",
       "    </tr>\n",
       "    <tr>\n",
       "      <th>4</th>\n",
       "      <td>1413</td>\n",
       "      <td>3560</td>\n",
       "      <td>11971.0</td>\n",
       "    </tr>\n",
       "    <tr>\n",
       "      <th>5</th>\n",
       "      <td>2558</td>\n",
       "      <td>10591</td>\n",
       "      <td>7061.0</td>\n",
       "    </tr>\n",
       "  </tbody>\n",
       "</table>\n",
       "</div>"
      ],
      "text/plain": [
       "   Count-2016  Count-2017  Count-2018\n",
       "1        3503        1882      2418.0\n",
       "2        4667        3795      2757.0\n",
       "3        1686        3614      9018.0\n",
       "4        1413        3560     11971.0\n",
       "5        2558       10591      7061.0"
      ]
     },
     "execution_count": 61,
     "metadata": {},
     "output_type": "execute_result"
    }
   ],
   "source": [
    "k.head()"
   ]
  },
  {
   "cell_type": "code",
   "execution_count": 62,
   "metadata": {},
   "outputs": [
    {
     "data": {
      "text/plain": [
       "pandas.core.frame.DataFrame"
      ]
     },
     "execution_count": 62,
     "metadata": {},
     "output_type": "execute_result"
    }
   ],
   "source": [
    "type(k)"
   ]
  },
  {
   "cell_type": "code",
   "execution_count": 63,
   "metadata": {},
   "outputs": [
    {
     "data": {
      "text/plain": [
       "Count-2016      int64\n",
       "Count-2017      int64\n",
       "Count-2018    float64\n",
       "dtype: object"
      ]
     },
     "execution_count": 63,
     "metadata": {},
     "output_type": "execute_result"
    }
   ],
   "source": [
    "k.dtypes"
   ]
  },
  {
   "cell_type": "code",
   "execution_count": 64,
   "metadata": {},
   "outputs": [],
   "source": [
    "k =  k.replace(np.nan,0)"
   ]
  },
  {
   "cell_type": "code",
   "execution_count": 65,
   "metadata": {},
   "outputs": [
    {
     "data": {
      "text/html": [
       "<div>\n",
       "<style scoped>\n",
       "    .dataframe tbody tr th:only-of-type {\n",
       "        vertical-align: middle;\n",
       "    }\n",
       "\n",
       "    .dataframe tbody tr th {\n",
       "        vertical-align: top;\n",
       "    }\n",
       "\n",
       "    .dataframe thead th {\n",
       "        text-align: right;\n",
       "    }\n",
       "</style>\n",
       "<table border=\"1\" class=\"dataframe\">\n",
       "  <thead>\n",
       "    <tr style=\"text-align: right;\">\n",
       "      <th></th>\n",
       "      <th>Count-2016</th>\n",
       "      <th>Count-2017</th>\n",
       "      <th>Count-2018</th>\n",
       "    </tr>\n",
       "  </thead>\n",
       "  <tbody>\n",
       "    <tr>\n",
       "      <th>1</th>\n",
       "      <td>3503</td>\n",
       "      <td>1882</td>\n",
       "      <td>2418.0</td>\n",
       "    </tr>\n",
       "    <tr>\n",
       "      <th>2</th>\n",
       "      <td>4667</td>\n",
       "      <td>3795</td>\n",
       "      <td>2757.0</td>\n",
       "    </tr>\n",
       "    <tr>\n",
       "      <th>3</th>\n",
       "      <td>1686</td>\n",
       "      <td>3614</td>\n",
       "      <td>9018.0</td>\n",
       "    </tr>\n",
       "    <tr>\n",
       "      <th>4</th>\n",
       "      <td>1413</td>\n",
       "      <td>3560</td>\n",
       "      <td>11971.0</td>\n",
       "    </tr>\n",
       "    <tr>\n",
       "      <th>5</th>\n",
       "      <td>2558</td>\n",
       "      <td>10591</td>\n",
       "      <td>7061.0</td>\n",
       "    </tr>\n",
       "    <tr>\n",
       "      <th>6</th>\n",
       "      <td>12485</td>\n",
       "      <td>6949</td>\n",
       "      <td>11067.0</td>\n",
       "    </tr>\n",
       "    <tr>\n",
       "      <th>7</th>\n",
       "      <td>12934</td>\n",
       "      <td>3798</td>\n",
       "      <td>2697.0</td>\n",
       "    </tr>\n",
       "    <tr>\n",
       "      <th>8</th>\n",
       "      <td>2437</td>\n",
       "      <td>5233</td>\n",
       "      <td>0.0</td>\n",
       "    </tr>\n",
       "    <tr>\n",
       "      <th>9</th>\n",
       "      <td>8965</td>\n",
       "      <td>7122</td>\n",
       "      <td>0.0</td>\n",
       "    </tr>\n",
       "    <tr>\n",
       "      <th>10</th>\n",
       "      <td>25071</td>\n",
       "      <td>31401</td>\n",
       "      <td>0.0</td>\n",
       "    </tr>\n",
       "    <tr>\n",
       "      <th>11</th>\n",
       "      <td>28158</td>\n",
       "      <td>25950</td>\n",
       "      <td>0.0</td>\n",
       "    </tr>\n",
       "    <tr>\n",
       "      <th>12</th>\n",
       "      <td>20866</td>\n",
       "      <td>11548</td>\n",
       "      <td>0.0</td>\n",
       "    </tr>\n",
       "  </tbody>\n",
       "</table>\n",
       "</div>"
      ],
      "text/plain": [
       "    Count-2016  Count-2017  Count-2018\n",
       "1         3503        1882      2418.0\n",
       "2         4667        3795      2757.0\n",
       "3         1686        3614      9018.0\n",
       "4         1413        3560     11971.0\n",
       "5         2558       10591      7061.0\n",
       "6        12485        6949     11067.0\n",
       "7        12934        3798      2697.0\n",
       "8         2437        5233         0.0\n",
       "9         8965        7122         0.0\n",
       "10       25071       31401         0.0\n",
       "11       28158       25950         0.0\n",
       "12       20866       11548         0.0"
      ]
     },
     "execution_count": 65,
     "metadata": {},
     "output_type": "execute_result"
    }
   ],
   "source": [
    "k"
   ]
  },
  {
   "cell_type": "code",
   "execution_count": 66,
   "metadata": {},
   "outputs": [
    {
     "data": {
      "text/html": [
       "<div>\n",
       "<style scoped>\n",
       "    .dataframe tbody tr th:only-of-type {\n",
       "        vertical-align: middle;\n",
       "    }\n",
       "\n",
       "    .dataframe tbody tr th {\n",
       "        vertical-align: top;\n",
       "    }\n",
       "\n",
       "    .dataframe thead th {\n",
       "        text-align: right;\n",
       "    }\n",
       "</style>\n",
       "<table border=\"1\" class=\"dataframe\">\n",
       "  <thead>\n",
       "    <tr style=\"text-align: right;\">\n",
       "      <th></th>\n",
       "      <th>Count-2016</th>\n",
       "      <th>Count-2017</th>\n",
       "      <th>Count-2018</th>\n",
       "    </tr>\n",
       "  </thead>\n",
       "  <tbody>\n",
       "    <tr>\n",
       "      <th>1</th>\n",
       "      <td>3503</td>\n",
       "      <td>1882</td>\n",
       "      <td>2418</td>\n",
       "    </tr>\n",
       "    <tr>\n",
       "      <th>2</th>\n",
       "      <td>4667</td>\n",
       "      <td>3795</td>\n",
       "      <td>2757</td>\n",
       "    </tr>\n",
       "    <tr>\n",
       "      <th>3</th>\n",
       "      <td>1686</td>\n",
       "      <td>3614</td>\n",
       "      <td>9018</td>\n",
       "    </tr>\n",
       "    <tr>\n",
       "      <th>4</th>\n",
       "      <td>1413</td>\n",
       "      <td>3560</td>\n",
       "      <td>11971</td>\n",
       "    </tr>\n",
       "    <tr>\n",
       "      <th>5</th>\n",
       "      <td>2558</td>\n",
       "      <td>10591</td>\n",
       "      <td>7061</td>\n",
       "    </tr>\n",
       "    <tr>\n",
       "      <th>6</th>\n",
       "      <td>12485</td>\n",
       "      <td>6949</td>\n",
       "      <td>11067</td>\n",
       "    </tr>\n",
       "    <tr>\n",
       "      <th>7</th>\n",
       "      <td>12934</td>\n",
       "      <td>3798</td>\n",
       "      <td>2697</td>\n",
       "    </tr>\n",
       "    <tr>\n",
       "      <th>8</th>\n",
       "      <td>2437</td>\n",
       "      <td>5233</td>\n",
       "      <td>0</td>\n",
       "    </tr>\n",
       "    <tr>\n",
       "      <th>9</th>\n",
       "      <td>8965</td>\n",
       "      <td>7122</td>\n",
       "      <td>0</td>\n",
       "    </tr>\n",
       "    <tr>\n",
       "      <th>10</th>\n",
       "      <td>25071</td>\n",
       "      <td>31401</td>\n",
       "      <td>0</td>\n",
       "    </tr>\n",
       "    <tr>\n",
       "      <th>11</th>\n",
       "      <td>28158</td>\n",
       "      <td>25950</td>\n",
       "      <td>0</td>\n",
       "    </tr>\n",
       "    <tr>\n",
       "      <th>12</th>\n",
       "      <td>20866</td>\n",
       "      <td>11548</td>\n",
       "      <td>0</td>\n",
       "    </tr>\n",
       "  </tbody>\n",
       "</table>\n",
       "</div>"
      ],
      "text/plain": [
       "    Count-2016  Count-2017  Count-2018\n",
       "1         3503        1882        2418\n",
       "2         4667        3795        2757\n",
       "3         1686        3614        9018\n",
       "4         1413        3560       11971\n",
       "5         2558       10591        7061\n",
       "6        12485        6949       11067\n",
       "7        12934        3798        2697\n",
       "8         2437        5233           0\n",
       "9         8965        7122           0\n",
       "10       25071       31401           0\n",
       "11       28158       25950           0\n",
       "12       20866       11548           0"
      ]
     },
     "execution_count": 66,
     "metadata": {},
     "output_type": "execute_result"
    }
   ],
   "source": [
    "k['Count-2018'] =k['Count-2018'].astype(int)\n",
    "k"
   ]
  },
  {
   "cell_type": "code",
   "execution_count": 67,
   "metadata": {},
   "outputs": [
    {
     "data": {
      "text/plain": [
       "Count-2016    int64\n",
       "Count-2017    int64\n",
       "Count-2018    int32\n",
       "dtype: object"
      ]
     },
     "execution_count": 67,
     "metadata": {},
     "output_type": "execute_result"
    }
   ],
   "source": [
    "k.dtypes"
   ]
  },
  {
   "cell_type": "code",
   "execution_count": 68,
   "metadata": {},
   "outputs": [
    {
     "data": {
      "text/plain": [
       "Int64Index([1, 2, 3, 4, 5, 6, 7, 8, 9, 10, 11, 12], dtype='int64')"
      ]
     },
     "execution_count": 68,
     "metadata": {},
     "output_type": "execute_result"
    }
   ],
   "source": [
    "k.index"
   ]
  },
  {
   "cell_type": "code",
   "execution_count": 69,
   "metadata": {},
   "outputs": [],
   "source": [
    "# create  a dictionary to map the month values\n",
    "dict = {1:'JAN',2:'FEB',3:'MAR',4:'APR',5:'MAY',6:'JUN',7:'JUL',8:'AUG',9:'SEP',10:'OCT',11:'NOV',12:'DEC'}"
   ]
  },
  {
   "cell_type": "code",
   "execution_count": 70,
   "metadata": {},
   "outputs": [],
   "source": [
    "#map the dictionary to the new col on index\n",
    "k ['MONTH'] = k.index.map(dict)"
   ]
  },
  {
   "cell_type": "code",
   "execution_count": 71,
   "metadata": {},
   "outputs": [
    {
     "data": {
      "text/html": [
       "<div>\n",
       "<style scoped>\n",
       "    .dataframe tbody tr th:only-of-type {\n",
       "        vertical-align: middle;\n",
       "    }\n",
       "\n",
       "    .dataframe tbody tr th {\n",
       "        vertical-align: top;\n",
       "    }\n",
       "\n",
       "    .dataframe thead th {\n",
       "        text-align: right;\n",
       "    }\n",
       "</style>\n",
       "<table border=\"1\" class=\"dataframe\">\n",
       "  <thead>\n",
       "    <tr style=\"text-align: right;\">\n",
       "      <th></th>\n",
       "      <th>Count-2016</th>\n",
       "      <th>Count-2017</th>\n",
       "      <th>Count-2018</th>\n",
       "      <th>MONTH</th>\n",
       "    </tr>\n",
       "  </thead>\n",
       "  <tbody>\n",
       "    <tr>\n",
       "      <th>1</th>\n",
       "      <td>3503</td>\n",
       "      <td>1882</td>\n",
       "      <td>2418</td>\n",
       "      <td>JAN</td>\n",
       "    </tr>\n",
       "    <tr>\n",
       "      <th>2</th>\n",
       "      <td>4667</td>\n",
       "      <td>3795</td>\n",
       "      <td>2757</td>\n",
       "      <td>FEB</td>\n",
       "    </tr>\n",
       "    <tr>\n",
       "      <th>3</th>\n",
       "      <td>1686</td>\n",
       "      <td>3614</td>\n",
       "      <td>9018</td>\n",
       "      <td>MAR</td>\n",
       "    </tr>\n",
       "    <tr>\n",
       "      <th>4</th>\n",
       "      <td>1413</td>\n",
       "      <td>3560</td>\n",
       "      <td>11971</td>\n",
       "      <td>APR</td>\n",
       "    </tr>\n",
       "    <tr>\n",
       "      <th>5</th>\n",
       "      <td>2558</td>\n",
       "      <td>10591</td>\n",
       "      <td>7061</td>\n",
       "      <td>MAY</td>\n",
       "    </tr>\n",
       "    <tr>\n",
       "      <th>6</th>\n",
       "      <td>12485</td>\n",
       "      <td>6949</td>\n",
       "      <td>11067</td>\n",
       "      <td>JUN</td>\n",
       "    </tr>\n",
       "    <tr>\n",
       "      <th>7</th>\n",
       "      <td>12934</td>\n",
       "      <td>3798</td>\n",
       "      <td>2697</td>\n",
       "      <td>JUL</td>\n",
       "    </tr>\n",
       "    <tr>\n",
       "      <th>8</th>\n",
       "      <td>2437</td>\n",
       "      <td>5233</td>\n",
       "      <td>0</td>\n",
       "      <td>AUG</td>\n",
       "    </tr>\n",
       "    <tr>\n",
       "      <th>9</th>\n",
       "      <td>8965</td>\n",
       "      <td>7122</td>\n",
       "      <td>0</td>\n",
       "      <td>SEP</td>\n",
       "    </tr>\n",
       "    <tr>\n",
       "      <th>10</th>\n",
       "      <td>25071</td>\n",
       "      <td>31401</td>\n",
       "      <td>0</td>\n",
       "      <td>OCT</td>\n",
       "    </tr>\n",
       "    <tr>\n",
       "      <th>11</th>\n",
       "      <td>28158</td>\n",
       "      <td>25950</td>\n",
       "      <td>0</td>\n",
       "      <td>NOV</td>\n",
       "    </tr>\n",
       "    <tr>\n",
       "      <th>12</th>\n",
       "      <td>20866</td>\n",
       "      <td>11548</td>\n",
       "      <td>0</td>\n",
       "      <td>DEC</td>\n",
       "    </tr>\n",
       "  </tbody>\n",
       "</table>\n",
       "</div>"
      ],
      "text/plain": [
       "    Count-2016  Count-2017  Count-2018 MONTH\n",
       "1         3503        1882        2418   JAN\n",
       "2         4667        3795        2757   FEB\n",
       "3         1686        3614        9018   MAR\n",
       "4         1413        3560       11971   APR\n",
       "5         2558       10591        7061   MAY\n",
       "6        12485        6949       11067   JUN\n",
       "7        12934        3798        2697   JUL\n",
       "8         2437        5233           0   AUG\n",
       "9         8965        7122           0   SEP\n",
       "10       25071       31401           0   OCT\n",
       "11       28158       25950           0   NOV\n",
       "12       20866       11548           0   DEC"
      ]
     },
     "execution_count": 71,
     "metadata": {},
     "output_type": "execute_result"
    }
   ],
   "source": [
    "k"
   ]
  },
  {
   "cell_type": "code",
   "execution_count": 72,
   "metadata": {},
   "outputs": [],
   "source": [
    "INQbyMONTH = k[['MONTH','Count-2016','Count-2017','Count-2018']]"
   ]
  },
  {
   "cell_type": "code",
   "execution_count": 73,
   "metadata": {},
   "outputs": [
    {
     "data": {
      "text/html": [
       "<div>\n",
       "<style scoped>\n",
       "    .dataframe tbody tr th:only-of-type {\n",
       "        vertical-align: middle;\n",
       "    }\n",
       "\n",
       "    .dataframe tbody tr th {\n",
       "        vertical-align: top;\n",
       "    }\n",
       "\n",
       "    .dataframe thead th {\n",
       "        text-align: right;\n",
       "    }\n",
       "</style>\n",
       "<table border=\"1\" class=\"dataframe\">\n",
       "  <thead>\n",
       "    <tr style=\"text-align: right;\">\n",
       "      <th></th>\n",
       "      <th>MONTH</th>\n",
       "      <th>Count-2016</th>\n",
       "      <th>Count-2017</th>\n",
       "      <th>Count-2018</th>\n",
       "    </tr>\n",
       "  </thead>\n",
       "  <tbody>\n",
       "    <tr>\n",
       "      <th>1</th>\n",
       "      <td>JAN</td>\n",
       "      <td>3503</td>\n",
       "      <td>1882</td>\n",
       "      <td>2418</td>\n",
       "    </tr>\n",
       "    <tr>\n",
       "      <th>2</th>\n",
       "      <td>FEB</td>\n",
       "      <td>4667</td>\n",
       "      <td>3795</td>\n",
       "      <td>2757</td>\n",
       "    </tr>\n",
       "    <tr>\n",
       "      <th>3</th>\n",
       "      <td>MAR</td>\n",
       "      <td>1686</td>\n",
       "      <td>3614</td>\n",
       "      <td>9018</td>\n",
       "    </tr>\n",
       "    <tr>\n",
       "      <th>4</th>\n",
       "      <td>APR</td>\n",
       "      <td>1413</td>\n",
       "      <td>3560</td>\n",
       "      <td>11971</td>\n",
       "    </tr>\n",
       "    <tr>\n",
       "      <th>5</th>\n",
       "      <td>MAY</td>\n",
       "      <td>2558</td>\n",
       "      <td>10591</td>\n",
       "      <td>7061</td>\n",
       "    </tr>\n",
       "    <tr>\n",
       "      <th>6</th>\n",
       "      <td>JUN</td>\n",
       "      <td>12485</td>\n",
       "      <td>6949</td>\n",
       "      <td>11067</td>\n",
       "    </tr>\n",
       "    <tr>\n",
       "      <th>7</th>\n",
       "      <td>JUL</td>\n",
       "      <td>12934</td>\n",
       "      <td>3798</td>\n",
       "      <td>2697</td>\n",
       "    </tr>\n",
       "    <tr>\n",
       "      <th>8</th>\n",
       "      <td>AUG</td>\n",
       "      <td>2437</td>\n",
       "      <td>5233</td>\n",
       "      <td>0</td>\n",
       "    </tr>\n",
       "    <tr>\n",
       "      <th>9</th>\n",
       "      <td>SEP</td>\n",
       "      <td>8965</td>\n",
       "      <td>7122</td>\n",
       "      <td>0</td>\n",
       "    </tr>\n",
       "    <tr>\n",
       "      <th>10</th>\n",
       "      <td>OCT</td>\n",
       "      <td>25071</td>\n",
       "      <td>31401</td>\n",
       "      <td>0</td>\n",
       "    </tr>\n",
       "    <tr>\n",
       "      <th>11</th>\n",
       "      <td>NOV</td>\n",
       "      <td>28158</td>\n",
       "      <td>25950</td>\n",
       "      <td>0</td>\n",
       "    </tr>\n",
       "    <tr>\n",
       "      <th>12</th>\n",
       "      <td>DEC</td>\n",
       "      <td>20866</td>\n",
       "      <td>11548</td>\n",
       "      <td>0</td>\n",
       "    </tr>\n",
       "  </tbody>\n",
       "</table>\n",
       "</div>"
      ],
      "text/plain": [
       "   MONTH  Count-2016  Count-2017  Count-2018\n",
       "1    JAN        3503        1882        2418\n",
       "2    FEB        4667        3795        2757\n",
       "3    MAR        1686        3614        9018\n",
       "4    APR        1413        3560       11971\n",
       "5    MAY        2558       10591        7061\n",
       "6    JUN       12485        6949       11067\n",
       "7    JUL       12934        3798        2697\n",
       "8    AUG        2437        5233           0\n",
       "9    SEP        8965        7122           0\n",
       "10   OCT       25071       31401           0\n",
       "11   NOV       28158       25950           0\n",
       "12   DEC       20866       11548           0"
      ]
     },
     "execution_count": 73,
     "metadata": {},
     "output_type": "execute_result"
    }
   ],
   "source": [
    "INQbyMONTH"
   ]
  },
  {
   "cell_type": "code",
   "execution_count": 74,
   "metadata": {},
   "outputs": [
    {
     "data": {
      "text/plain": [
       "pandas.core.frame.DataFrame"
      ]
     },
     "execution_count": 74,
     "metadata": {},
     "output_type": "execute_result"
    }
   ],
   "source": [
    "type(INQbyMONTH)"
   ]
  },
  {
   "cell_type": "code",
   "execution_count": 75,
   "metadata": {},
   "outputs": [],
   "source": [
    "x = B4JAN16['Contact_ID'].value_counts().sum()\n",
    "y = B4JAN17['Contact_ID'].value_counts().sum()\n",
    "z = B4JAN18['Contact_ID'].value_counts().sum()"
   ]
  },
  {
   "cell_type": "code",
   "execution_count": 76,
   "metadata": {},
   "outputs": [
    {
     "data": {
      "text/plain": [
       "58733"
      ]
     },
     "execution_count": 76,
     "metadata": {},
     "output_type": "execute_result"
    }
   ],
   "source": [
    "x"
   ]
  },
  {
   "cell_type": "code",
   "execution_count": 77,
   "metadata": {},
   "outputs": [],
   "source": [
    "PRIOR = pd.DataFrame({'Prior to Jan 2016': x , 'Prior to Jan 2017': y , 'Prior to Jan 2018': z},index = [0])"
   ]
  },
  {
   "cell_type": "code",
   "execution_count": 78,
   "metadata": {},
   "outputs": [
    {
     "data": {
      "text/html": [
       "<div>\n",
       "<style scoped>\n",
       "    .dataframe tbody tr th:only-of-type {\n",
       "        vertical-align: middle;\n",
       "    }\n",
       "\n",
       "    .dataframe tbody tr th {\n",
       "        vertical-align: top;\n",
       "    }\n",
       "\n",
       "    .dataframe thead th {\n",
       "        text-align: right;\n",
       "    }\n",
       "</style>\n",
       "<table border=\"1\" class=\"dataframe\">\n",
       "  <thead>\n",
       "    <tr style=\"text-align: right;\">\n",
       "      <th></th>\n",
       "      <th>Prior to Jan 2016</th>\n",
       "      <th>Prior to Jan 2017</th>\n",
       "      <th>Prior to Jan 2018</th>\n",
       "    </tr>\n",
       "  </thead>\n",
       "  <tbody>\n",
       "    <tr>\n",
       "      <th>0</th>\n",
       "      <td>58733</td>\n",
       "      <td>35766</td>\n",
       "      <td>27464</td>\n",
       "    </tr>\n",
       "  </tbody>\n",
       "</table>\n",
       "</div>"
      ],
      "text/plain": [
       "   Prior to Jan 2016  Prior to Jan 2017  Prior to Jan 2018\n",
       "0              58733              35766              27464"
      ]
     },
     "execution_count": 78,
     "metadata": {},
     "output_type": "execute_result"
    }
   ],
   "source": [
    "PRIOR"
   ]
  },
  {
   "cell_type": "code",
   "execution_count": 79,
   "metadata": {},
   "outputs": [],
   "source": [
    "# create the path where the results willbe sent\n",
    "path_final = r'C:/Users/mjc341/Desktop/EMSA-GIT/COLAB'"
   ]
  },
  {
   "cell_type": "code",
   "execution_count": 80,
   "metadata": {},
   "outputs": [
    {
     "data": {
      "text/plain": [
       "'C:/Users/mjc341/Desktop/EMSA-GIT/COLAB'"
      ]
     },
     "execution_count": 80,
     "metadata": {},
     "output_type": "execute_result"
    }
   ],
   "source": [
    "path_final"
   ]
  },
  {
   "cell_type": "code",
   "execution_count": 81,
   "metadata": {},
   "outputs": [],
   "source": [
    "writer = pd.ExcelWriter(path_final + '/' + 'SalesForceByMonth1' + '.xlsx')\n",
    "INQbyMONTH.to_excel(writer,'Results')\n",
    "PRIOR.to_excel(writer, 'PRIOR')\n",
    "workbook = writer.book\n",
    "worksheet = writer.sheets['Results'] \n",
    "worksheet2 = writer.sheets ['PRIOR']\n",
    "\n",
    "format1 = workbook.add_format({'num_format': '#,##', 'bold': True, 'border': '1'})\n",
    "format2 = workbook.add_format({'num_format': '##,###', 'border': '1','bg_color':'#FFC7CE'})\n",
    "format3 = workbook.add_format({'border': '1','bg_color':'#DAF7A6'})\n",
    "format4 = workbook.add_format({'border': '1','bg_color':'#DAF7A6'})\n",
    "#added bkground color so we can show different years\n",
    "\n",
    "# Note: It isn't possible to format any cells that already have a format such\n",
    "# as the index or headers or any cells that contain dates or datetimes.\n",
    "\n",
    "worksheet.set_column('A:A', 10)\n",
    "worksheet.set_column('B:E', 12)\n",
    "worksheet.set_row(1, None, format2)\n",
    "worksheet.set_row(2, None, format2)\n",
    "worksheet.set_row(3, None, format2)\n",
    "worksheet.set_row(4, None, format2)\n",
    "worksheet.set_row(5, None, format2)\n",
    "worksheet.set_row(6, None, format2)\n",
    "worksheet.set_row(7, None, format2)\n",
    "worksheet.set_row(8, None, format2)\n",
    "worksheet.set_row(9, None, format2)\n",
    "worksheet.set_row(10, None, format2)\n",
    "worksheet.set_row(11, None, format2)\n",
    "worksheet.set_row(12, None, format2)\n",
    "\n",
    "worksheet2.set_column('A:A', 10)\n",
    "worksheet2.set_column('B:E', 18)\n",
    "worksheet2.set_row(1, None, format3)\n",
    "worksheet2.set_row(2, None, format4)\n",
    "\n",
    "\n",
    "writer.save()"
   ]
  },
  {
   "cell_type": "code",
   "execution_count": null,
   "metadata": {},
   "outputs": [],
   "source": []
  }
 ],
 "metadata": {
  "kernelspec": {
   "display_name": "Python [conda env:Anaconda3]",
   "language": "python",
   "name": "conda-env-Anaconda3-py"
  },
  "language_info": {
   "codemirror_mode": {
    "name": "ipython",
    "version": 3
   },
   "file_extension": ".py",
   "mimetype": "text/x-python",
   "name": "python",
   "nbconvert_exporter": "python",
   "pygments_lexer": "ipython3",
   "version": "3.6.6"
  }
 },
 "nbformat": 4,
 "nbformat_minor": 2
}
