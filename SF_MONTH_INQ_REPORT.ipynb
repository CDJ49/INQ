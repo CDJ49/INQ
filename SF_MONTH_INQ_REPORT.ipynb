{
 "cells": [
  {
   "cell_type": "code",
   "execution_count": 1,
   "metadata": {},
   "outputs": [],
   "source": [
    "import numpy as np\n",
    "import pandas as pd\n",
    "import matplotlib.pyplot as plt\n",
    "import seaborn as sns\n",
    "%matplotlib inline"
   ]
  },
  {
   "cell_type": "code",
   "execution_count": 2,
   "metadata": {},
   "outputs": [],
   "source": [
    " INT4=pd.read_csv('C:/Users/mjc341/Desktop/UMAN 1507 Monthly INQ summary Report/Interactions.Contacts.csv',skipfooter=5,encoding='latin-1',engine ='python')\n"
   ]
  },
  {
   "cell_type": "code",
   "execution_count": 3,
   "metadata": {},
   "outputs": [],
   "source": [
    "INT5=pd.read_csv('C:/Users/mjc341/Desktop/UMAN 1507 Monthly INQ summary Report/Interactions.Opportunity.Term.csv',skipfooter=5,encoding='latin-1',engine ='python')"
   ]
  },
  {
   "cell_type": "code",
   "execution_count": 4,
   "metadata": {},
   "outputs": [
    {
     "data": {
      "text/plain": [
       "1476708"
      ]
     },
     "execution_count": 4,
     "metadata": {},
     "output_type": "execute_result"
    }
   ],
   "source": [
    "len(INT4)"
   ]
  },
  {
   "cell_type": "code",
   "execution_count": 5,
   "metadata": {},
   "outputs": [
    {
     "data": {
      "text/plain": [
       "818555"
      ]
     },
     "execution_count": 5,
     "metadata": {},
     "output_type": "execute_result"
    }
   ],
   "source": [
    "len(INT5)"
   ]
  },
  {
   "cell_type": "code",
   "execution_count": 6,
   "metadata": {},
   "outputs": [],
   "source": [
    "CON = INT5"
   ]
  },
  {
   "cell_type": "code",
   "execution_count": 7,
   "metadata": {},
   "outputs": [
    {
     "data": {
      "text/plain": [
       "818555"
      ]
     },
     "execution_count": 7,
     "metadata": {},
     "output_type": "execute_result"
    }
   ],
   "source": [
    "len(CON)"
   ]
  },
  {
   "cell_type": "code",
   "execution_count": 8,
   "metadata": {},
   "outputs": [],
   "source": [
    "INT = INT4"
   ]
  },
  {
   "cell_type": "code",
   "execution_count": 9,
   "metadata": {},
   "outputs": [],
   "source": [
    "#changed the name of columns \n",
    "INT.columns =['Contact_ID','Int_Name','Admit_Type','First_Name','Middle_Name','Last_Name',\n",
    "              'Ethnic_Group','Ethnicity','Gender','Term','Lead_Source','Create_Date',\n",
    "              'Mailing_Street','Mailing_City','Mailing_State','Mailing_Postal','Mailing_Country'\n",
    "             ,'Other_City','Other_State','Other_Postal','Other_Country','Market_Segment_Code','Market_Segment']"
   ]
  },
  {
   "cell_type": "code",
   "execution_count": 10,
   "metadata": {},
   "outputs": [
    {
     "data": {
      "text/plain": [
       "Index(['Contact_ID', 'Int_Name', 'Admit_Type', 'First_Name', 'Middle_Name',\n",
       "       'Last_Name', 'Ethnic_Group', 'Ethnicity', 'Gender', 'Term',\n",
       "       'Lead_Source', 'Create_Date', 'Mailing_Street', 'Mailing_City',\n",
       "       'Mailing_State', 'Mailing_Postal', 'Mailing_Country', 'Other_City',\n",
       "       'Other_State', 'Other_Postal', 'Other_Country', 'Market_Segment_Code',\n",
       "       'Market_Segment'],\n",
       "      dtype='object')"
      ]
     },
     "execution_count": 10,
     "metadata": {},
     "output_type": "execute_result"
    }
   ],
   "source": [
    "INT.columns"
   ]
  },
  {
   "cell_type": "code",
   "execution_count": 11,
   "metadata": {},
   "outputs": [
    {
     "data": {
      "text/plain": [
       "Index(['Contact_ID', 'Int_Name', 'Admit_Type', 'First_Name', 'Middle_Name',\n",
       "       'Last_Name', 'Ethnic_Group', 'Ethnicity', 'Gender', 'Term',\n",
       "       'Lead_Source', 'Create_Date', 'Mailing_Street', 'Mailing_City',\n",
       "       'Mailing_State', 'Mailing_Postal', 'Mailing_Country', 'Other_City',\n",
       "       'Other_State', 'Other_Postal', 'Other_Country', 'Market_Segment_Code',\n",
       "       'Market_Segment'],\n",
       "      dtype='object')"
      ]
     },
     "execution_count": 11,
     "metadata": {},
     "output_type": "execute_result"
    }
   ],
   "source": [
    "INT.columns"
   ]
  },
  {
   "cell_type": "code",
   "execution_count": 12,
   "metadata": {},
   "outputs": [],
   "source": [
    "#changed the name of columns\n",
    "CON.columns=['Contact_ID','Name','OppName','Term','Record_Type','Inquiry','Inquiry_Date','Opp_ID',\n",
    "             'EMPL','App_Number']"
   ]
  },
  {
   "cell_type": "code",
   "execution_count": 13,
   "metadata": {},
   "outputs": [
    {
     "data": {
      "text/plain": [
       "Contact_ID             object\n",
       "Int_Name               object\n",
       "Admit_Type             object\n",
       "First_Name             object\n",
       "Middle_Name            object\n",
       "Last_Name              object\n",
       "Ethnic_Group           object\n",
       "Ethnicity              object\n",
       "Gender                 object\n",
       "Term                   object\n",
       "Lead_Source            object\n",
       "Create_Date            object\n",
       "Mailing_Street         object\n",
       "Mailing_City           object\n",
       "Mailing_State          object\n",
       "Mailing_Postal         object\n",
       "Mailing_Country        object\n",
       "Other_City             object\n",
       "Other_State            object\n",
       "Other_Postal           object\n",
       "Other_Country          object\n",
       "Market_Segment_Code    object\n",
       "Market_Segment         object\n",
       "dtype: object"
      ]
     },
     "execution_count": 13,
     "metadata": {},
     "output_type": "execute_result"
    }
   ],
   "source": [
    "INT.dtypes"
   ]
  },
  {
   "cell_type": "code",
   "execution_count": 14,
   "metadata": {},
   "outputs": [],
   "source": [
    "#Sort INT by Contact_ID and Interaction Name\n",
    "INT = INT.sort_values(by = ['Contact_ID','Int_Name'])"
   ]
  },
  {
   "cell_type": "code",
   "execution_count": 15,
   "metadata": {},
   "outputs": [],
   "source": [
    "#Sort CON by Contact_ID and Opportunity Name\n",
    "CON = CON.sort_values(by = ['Contact_ID','OppName'])"
   ]
  },
  {
   "cell_type": "code",
   "execution_count": 16,
   "metadata": {},
   "outputs": [],
   "source": [
    "#Dropping the duplicates to then merge later\n",
    "CON=CON.drop_duplicates(['Contact_ID'], keep='first')"
   ]
  },
  {
   "cell_type": "code",
   "execution_count": 17,
   "metadata": {},
   "outputs": [
    {
     "data": {
      "text/plain": [
       "Text(0.5,1,'Count of Contact by Lead Source')"
      ]
     },
     "execution_count": 17,
     "metadata": {},
     "output_type": "execute_result"
    },
    {
     "data": {
      "image/png": "[encoded data removed]",
      "text/plain": [
       "<Figure size 720x576 with 1 Axes>"
      ]
     },
     "metadata": {},
     "output_type": "display_data"
    }
   ],
   "source": [
    "f,ax =plt.subplots(figsize = (10,8))\n",
    "sns.countplot(x = 'Lead_Source', data =INT,color = 'powderblue')\n",
    "plt.xticks(rotation = 90)\n",
    "plt.title('Count of Contact by Lead Source', loc = 'center', size = 20)"
   ]
  },
  {
   "cell_type": "code",
   "execution_count": 18,
   "metadata": {},
   "outputs": [
    {
     "data": {
      "text/html": [
       "<div>\n",
       "<style scoped>\n",
       "    .dataframe tbody tr th:only-of-type {\n",
       "        vertical-align: middle;\n",
       "    }\n",
       "\n",
       "    .dataframe tbody tr th {\n",
       "        vertical-align: top;\n",
       "    }\n",
       "\n",
       "    .dataframe thead th {\n",
       "        text-align: right;\n",
       "    }\n",
       "</style>\n",
       "<table border=\"1\" class=\"dataframe\">\n",
       "  <thead>\n",
       "    <tr style=\"text-align: right;\">\n",
       "      <th></th>\n",
       "      <th>Contact_ID</th>\n",
       "      <th>Int_Name</th>\n",
       "      <th>Admit_Type</th>\n",
       "      <th>First_Name</th>\n",
       "      <th>Middle_Name</th>\n",
       "      <th>Last_Name</th>\n",
       "      <th>Ethnic_Group</th>\n",
       "      <th>Ethnicity</th>\n",
       "      <th>Gender</th>\n",
       "      <th>Term</th>\n",
       "      <th>...</th>\n",
       "      <th>Mailing_City</th>\n",
       "      <th>Mailing_State</th>\n",
       "      <th>Mailing_Postal</th>\n",
       "      <th>Mailing_Country</th>\n",
       "      <th>Other_City</th>\n",
       "      <th>Other_State</th>\n",
       "      <th>Other_Postal</th>\n",
       "      <th>Other_Country</th>\n",
       "      <th>Market_Segment_Code</th>\n",
       "      <th>Market_Segment</th>\n",
       "    </tr>\n",
       "  </thead>\n",
       "  <tbody>\n",
       "    <tr>\n",
       "      <th>774326</th>\n",
       "      <td>0031500001d4Si8AAE</td>\n",
       "      <td>20160320-0100599</td>\n",
       "      <td>New Student</td>\n",
       "      <td>amanda</td>\n",
       "      <td>NaN</td>\n",
       "      <td>fernandez</td>\n",
       "      <td>NaN</td>\n",
       "      <td>NaN</td>\n",
       "      <td>Female</td>\n",
       "      <td>Fall 2015</td>\n",
       "      <td>...</td>\n",
       "      <td>miami</td>\n",
       "      <td>FL</td>\n",
       "      <td>33175</td>\n",
       "      <td>United States</td>\n",
       "      <td>NaN</td>\n",
       "      <td>NaN</td>\n",
       "      <td>NaN</td>\n",
       "      <td>NaN</td>\n",
       "      <td>NaN</td>\n",
       "      <td>NaN</td>\n",
       "    </tr>\n",
       "    <tr>\n",
       "      <th>774924</th>\n",
       "      <td>0031500001d4Si8AAE</td>\n",
       "      <td>20160320-1020622</td>\n",
       "      <td>New Student</td>\n",
       "      <td>amanda</td>\n",
       "      <td>NaN</td>\n",
       "      <td>fernandez</td>\n",
       "      <td>NaN</td>\n",
       "      <td>NaN</td>\n",
       "      <td>Female</td>\n",
       "      <td>Fall 2017</td>\n",
       "      <td>...</td>\n",
       "      <td>miami</td>\n",
       "      <td>FL</td>\n",
       "      <td>33175</td>\n",
       "      <td>United States</td>\n",
       "      <td>NaN</td>\n",
       "      <td>NaN</td>\n",
       "      <td>NaN</td>\n",
       "      <td>NaN</td>\n",
       "      <td>NaN</td>\n",
       "      <td>NaN</td>\n",
       "    </tr>\n",
       "    <tr>\n",
       "      <th>625533</th>\n",
       "      <td>0031500001d4Si9AAE</td>\n",
       "      <td>20160320-0159926</td>\n",
       "      <td>New Student</td>\n",
       "      <td>Gabriela</td>\n",
       "      <td>M</td>\n",
       "      <td>Pons</td>\n",
       "      <td>NaN</td>\n",
       "      <td>Hispanic</td>\n",
       "      <td>Female</td>\n",
       "      <td>Fall 2016</td>\n",
       "      <td>...</td>\n",
       "      <td>Hialeah</td>\n",
       "      <td>FL</td>\n",
       "      <td>33012</td>\n",
       "      <td>United States</td>\n",
       "      <td>NaN</td>\n",
       "      <td>NaN</td>\n",
       "      <td>NaN</td>\n",
       "      <td>NaN</td>\n",
       "      <td>NaN</td>\n",
       "      <td>NaN</td>\n",
       "    </tr>\n",
       "  </tbody>\n",
       "</table>\n",
       "<p>3 rows × 23 columns</p>\n",
       "</div>"
      ],
      "text/plain": [
       "                Contact_ID          Int_Name   Admit_Type First_Name  \\\n",
       "774326  0031500001d4Si8AAE  20160320-0100599  New Student     amanda   \n",
       "774924  0031500001d4Si8AAE  20160320-1020622  New Student     amanda   \n",
       "625533  0031500001d4Si9AAE  20160320-0159926  New Student   Gabriela   \n",
       "\n",
       "       Middle_Name  Last_Name Ethnic_Group Ethnicity  Gender       Term  \\\n",
       "774326         NaN  fernandez          NaN       NaN  Female  Fall 2015   \n",
       "774924         NaN  fernandez          NaN       NaN  Female  Fall 2017   \n",
       "625533           M       Pons          NaN  Hispanic  Female  Fall 2016   \n",
       "\n",
       "            ...       Mailing_City Mailing_State Mailing_Postal  \\\n",
       "774326      ...              miami            FL          33175   \n",
       "774924      ...              miami            FL          33175   \n",
       "625533      ...            Hialeah            FL          33012   \n",
       "\n",
       "       Mailing_Country Other_City Other_State Other_Postal Other_Country  \\\n",
       "774326   United States        NaN         NaN          NaN           NaN   \n",
       "774924   United States        NaN         NaN          NaN           NaN   \n",
       "625533   United States        NaN         NaN          NaN           NaN   \n",
       "\n",
       "       Market_Segment_Code Market_Segment  \n",
       "774326                 NaN            NaN  \n",
       "774924                 NaN            NaN  \n",
       "625533                 NaN            NaN  \n",
       "\n",
       "[3 rows x 23 columns]"
      ]
     },
     "execution_count": 18,
     "metadata": {},
     "output_type": "execute_result"
    }
   ],
   "source": [
    "INT.head(3)"
   ]
  },
  {
   "cell_type": "code",
   "execution_count": 19,
   "metadata": {},
   "outputs": [
    {
     "data": {
      "text/plain": [
       "Index(['Contact_ID', 'Int_Name', 'Admit_Type', 'First_Name', 'Middle_Name',\n",
       "       'Last_Name', 'Ethnic_Group', 'Ethnicity', 'Gender', 'Term',\n",
       "       'Lead_Source', 'Create_Date', 'Mailing_Street', 'Mailing_City',\n",
       "       'Mailing_State', 'Mailing_Postal', 'Mailing_Country', 'Other_City',\n",
       "       'Other_State', 'Other_Postal', 'Other_Country', 'Market_Segment_Code',\n",
       "       'Market_Segment'],\n",
       "      dtype='object')"
      ]
     },
     "execution_count": 19,
     "metadata": {},
     "output_type": "execute_result"
    }
   ],
   "source": [
    "INT.columns\n"
   ]
  },
  {
   "cell_type": "code",
   "execution_count": 20,
   "metadata": {},
   "outputs": [],
   "source": [
    "INT['Create_Date']= pd.to_datetime(INT.Create_Date)"
   ]
  },
  {
   "cell_type": "code",
   "execution_count": 21,
   "metadata": {},
   "outputs": [
    {
     "data": {
      "text/plain": [
       "Contact_ID                     object\n",
       "Int_Name                       object\n",
       "Admit_Type                     object\n",
       "First_Name                     object\n",
       "Middle_Name                    object\n",
       "Last_Name                      object\n",
       "Ethnic_Group                   object\n",
       "Ethnicity                      object\n",
       "Gender                         object\n",
       "Term                           object\n",
       "Lead_Source                    object\n",
       "Create_Date            datetime64[ns]\n",
       "Mailing_Street                 object\n",
       "Mailing_City                   object\n",
       "Mailing_State                  object\n",
       "Mailing_Postal                 object\n",
       "Mailing_Country                object\n",
       "Other_City                     object\n",
       "Other_State                    object\n",
       "Other_Postal                   object\n",
       "Other_Country                  object\n",
       "Market_Segment_Code            object\n",
       "Market_Segment                 object\n",
       "dtype: object"
      ]
     },
     "execution_count": 21,
     "metadata": {},
     "output_type": "execute_result"
    }
   ],
   "source": [
    "INT.dtypes"
   ]
  },
  {
   "cell_type": "code",
   "execution_count": 22,
   "metadata": {},
   "outputs": [
    {
     "data": {
      "text/plain": [
       "Timestamp('2001-08-06 00:00:00')"
      ]
     },
     "execution_count": 22,
     "metadata": {},
     "output_type": "execute_result"
    }
   ],
   "source": [
    "INT['Create_Date'].min()"
   ]
  },
  {
   "cell_type": "code",
   "execution_count": 23,
   "metadata": {},
   "outputs": [],
   "source": [
    "#INT.Create_Date.dt.Year\n"
   ]
  },
  {
   "cell_type": "code",
   "execution_count": 24,
   "metadata": {},
   "outputs": [
    {
     "data": {
      "text/plain": [
       "Contact_ID                     object\n",
       "Int_Name                       object\n",
       "Admit_Type                     object\n",
       "First_Name                     object\n",
       "Middle_Name                    object\n",
       "Last_Name                      object\n",
       "Ethnic_Group                   object\n",
       "Ethnicity                      object\n",
       "Gender                         object\n",
       "Term                           object\n",
       "Lead_Source                    object\n",
       "Create_Date            datetime64[ns]\n",
       "Mailing_Street                 object\n",
       "Mailing_City                   object\n",
       "Mailing_State                  object\n",
       "Mailing_Postal                 object\n",
       "Mailing_Country                object\n",
       "Other_City                     object\n",
       "Other_State                    object\n",
       "Other_Postal                   object\n",
       "Other_Country                  object\n",
       "Market_Segment_Code            object\n",
       "Market_Segment                 object\n",
       "dtype: object"
      ]
     },
     "execution_count": 24,
     "metadata": {},
     "output_type": "execute_result"
    }
   ],
   "source": [
    "INT.dtypes"
   ]
  },
  {
   "cell_type": "code",
   "execution_count": 25,
   "metadata": {},
   "outputs": [
    {
     "data": {
      "text/plain": [
       "<matplotlib.axes._subplots.AxesSubplot at 0x1e18b782978>"
      ]
     },
     "execution_count": 25,
     "metadata": {},
     "output_type": "execute_result"
    },
    {
     "data": {
      "image/png": "[encoded data removed]",
      "text/plain": [
       "<Figure size 432x288 with 1 Axes>"
      ]
     },
     "metadata": {},
     "output_type": "display_data"
    }
   ],
   "source": [
    "INT.Create_Date.dt.year.value_counts().sort_index().plot()"
   ]
  },
  {
   "cell_type": "code",
   "execution_count": 26,
   "metadata": {},
   "outputs": [
    {
     "data": {
      "text/plain": [
       "2014    376250\n",
       "2016    303905\n",
       "2015    228907\n",
       "2017    177736\n",
       "2013    160214\n",
       "2018    102152\n",
       "2012     95718\n",
       "2011     21362\n",
       "2010     10369\n",
       "2009        85\n",
       "2008         6\n",
       "2005         1\n",
       "2004         1\n",
       "2002         1\n",
       "2001         1\n",
       "Name: Create_Date, dtype: int64"
      ]
     },
     "execution_count": 26,
     "metadata": {},
     "output_type": "execute_result"
    }
   ],
   "source": [
    "INT.Create_Date.dt.year.value_counts()"
   ]
  },
  {
   "cell_type": "code",
   "execution_count": 28,
   "metadata": {},
   "outputs": [
    {
     "data": {
      "text/plain": [
       "213569"
      ]
     },
     "execution_count": 28,
     "metadata": {},
     "output_type": "execute_result"
    }
   ],
   "source": [
    "INT2017 = INT.loc[(INT.Term == 'Fall 2017')]\n",
    "len(INT2017)"
   ]
  },
  {
   "cell_type": "code",
   "execution_count": 29,
   "metadata": {},
   "outputs": [
    {
     "data": {
      "text/html": [
       "<div>\n",
       "<style scoped>\n",
       "    .dataframe tbody tr th:only-of-type {\n",
       "        vertical-align: middle;\n",
       "    }\n",
       "\n",
       "    .dataframe tbody tr th {\n",
       "        vertical-align: top;\n",
       "    }\n",
       "\n",
       "    .dataframe thead th {\n",
       "        text-align: right;\n",
       "    }\n",
       "</style>\n",
       "<table border=\"1\" class=\"dataframe\">\n",
       "  <thead>\n",
       "    <tr style=\"text-align: right;\">\n",
       "      <th></th>\n",
       "      <th>Contact_ID</th>\n",
       "      <th>Int_Name</th>\n",
       "      <th>Admit_Type</th>\n",
       "      <th>First_Name</th>\n",
       "      <th>Middle_Name</th>\n",
       "      <th>Last_Name</th>\n",
       "      <th>Ethnic_Group</th>\n",
       "      <th>Ethnicity</th>\n",
       "      <th>Gender</th>\n",
       "      <th>Term</th>\n",
       "      <th>...</th>\n",
       "      <th>Mailing_City</th>\n",
       "      <th>Mailing_State</th>\n",
       "      <th>Mailing_Postal</th>\n",
       "      <th>Mailing_Country</th>\n",
       "      <th>Other_City</th>\n",
       "      <th>Other_State</th>\n",
       "      <th>Other_Postal</th>\n",
       "      <th>Other_Country</th>\n",
       "      <th>Market_Segment_Code</th>\n",
       "      <th>Market_Segment</th>\n",
       "    </tr>\n",
       "  </thead>\n",
       "  <tbody>\n",
       "    <tr>\n",
       "      <th>774924</th>\n",
       "      <td>0031500001d4Si8AAE</td>\n",
       "      <td>20160320-1020622</td>\n",
       "      <td>New Student</td>\n",
       "      <td>amanda</td>\n",
       "      <td>NaN</td>\n",
       "      <td>fernandez</td>\n",
       "      <td>NaN</td>\n",
       "      <td>NaN</td>\n",
       "      <td>Female</td>\n",
       "      <td>Fall 2017</td>\n",
       "      <td>...</td>\n",
       "      <td>miami</td>\n",
       "      <td>FL</td>\n",
       "      <td>33175</td>\n",
       "      <td>United States</td>\n",
       "      <td>NaN</td>\n",
       "      <td>NaN</td>\n",
       "      <td>NaN</td>\n",
       "      <td>NaN</td>\n",
       "      <td>NaN</td>\n",
       "      <td>NaN</td>\n",
       "    </tr>\n",
       "    <tr>\n",
       "      <th>625137</th>\n",
       "      <td>0031500001d4Si9AAE</td>\n",
       "      <td>20160320-0835174</td>\n",
       "      <td>New Student</td>\n",
       "      <td>Gabriela</td>\n",
       "      <td>M</td>\n",
       "      <td>Pons</td>\n",
       "      <td>NaN</td>\n",
       "      <td>Hispanic</td>\n",
       "      <td>Female</td>\n",
       "      <td>Fall 2017</td>\n",
       "      <td>...</td>\n",
       "      <td>Hialeah</td>\n",
       "      <td>FL</td>\n",
       "      <td>33012</td>\n",
       "      <td>United States</td>\n",
       "      <td>NaN</td>\n",
       "      <td>NaN</td>\n",
       "      <td>NaN</td>\n",
       "      <td>NaN</td>\n",
       "      <td>NaN</td>\n",
       "      <td>NaN</td>\n",
       "    </tr>\n",
       "  </tbody>\n",
       "</table>\n",
       "<p>2 rows × 23 columns</p>\n",
       "</div>"
      ],
      "text/plain": [
       "                Contact_ID          Int_Name   Admit_Type First_Name  \\\n",
       "774924  0031500001d4Si8AAE  20160320-1020622  New Student     amanda   \n",
       "625137  0031500001d4Si9AAE  20160320-0835174  New Student   Gabriela   \n",
       "\n",
       "       Middle_Name  Last_Name Ethnic_Group Ethnicity  Gender       Term  \\\n",
       "774924         NaN  fernandez          NaN       NaN  Female  Fall 2017   \n",
       "625137           M       Pons          NaN  Hispanic  Female  Fall 2017   \n",
       "\n",
       "            ...       Mailing_City Mailing_State Mailing_Postal  \\\n",
       "774924      ...              miami            FL          33175   \n",
       "625137      ...            Hialeah            FL          33012   \n",
       "\n",
       "       Mailing_Country Other_City Other_State Other_Postal Other_Country  \\\n",
       "774924   United States        NaN         NaN          NaN           NaN   \n",
       "625137   United States        NaN         NaN          NaN           NaN   \n",
       "\n",
       "       Market_Segment_Code Market_Segment  \n",
       "774924                 NaN            NaN  \n",
       "625137                 NaN            NaN  \n",
       "\n",
       "[2 rows x 23 columns]"
      ]
     },
     "execution_count": 29,
     "metadata": {},
     "output_type": "execute_result"
    }
   ],
   "source": [
    "INT2017.head(2)"
   ]
  },
  {
   "cell_type": "code",
   "execution_count": 30,
   "metadata": {},
   "outputs": [
    {
     "data": {
      "text/plain": [
       "Index(['Contact_ID', 'Int_Name', 'Admit_Type', 'First_Name', 'Middle_Name',\n",
       "       'Last_Name', 'Ethnic_Group', 'Ethnicity', 'Gender', 'Term',\n",
       "       'Lead_Source', 'Create_Date', 'Mailing_Street', 'Mailing_City',\n",
       "       'Mailing_State', 'Mailing_Postal', 'Mailing_Country', 'Other_City',\n",
       "       'Other_State', 'Other_Postal', 'Other_Country', 'Market_Segment_Code',\n",
       "       'Market_Segment'],\n",
       "      dtype='object')"
      ]
     },
     "execution_count": 30,
     "metadata": {},
     "output_type": "execute_result"
    }
   ],
   "source": [
    "INT2017.columns"
   ]
  },
  {
   "cell_type": "code",
   "execution_count": 31,
   "metadata": {},
   "outputs": [],
   "source": [
    "INT2017 = INT2017[['Contact_ID', 'Int_Name', 'Admit_Type','Ethnic_Group', 'Ethnicity', 'Gender', 'Term',\n",
    "       'Lead_Source', 'Create_Date', 'Mailing_Street', 'Mailing_City',\n",
    "       'Mailing_State', 'Mailing_Postal', 'Mailing_Country', 'Other_City',\n",
    "       'Other_State', 'Other_Postal', 'Other_Country', 'Market_Segment_Code',\n",
    "       'Market_Segment']]"
   ]
  },
  {
   "cell_type": "code",
   "execution_count": null,
   "metadata": {},
   "outputs": [],
   "source": [
    "INT2017.head(2)"
   ]
  },
  {
   "cell_type": "code",
   "execution_count": 34,
   "metadata": {},
   "outputs": [],
   "source": [
    "tsprior = pd.Timestamp('1/1/2016', tz='US/Central')"
   ]
  },
  {
   "cell_type": "code",
   "execution_count": 35,
   "metadata": {},
   "outputs": [
    {
     "data": {
      "text/plain": [
       "Timestamp('2016-01-01 00:00:00-0600', tz='US/Central')"
      ]
     },
     "execution_count": 35,
     "metadata": {},
     "output_type": "execute_result"
    }
   ],
   "source": [
    "tsprior\n",
    "\n"
   ]
  },
  {
   "cell_type": "code",
   "execution_count": 39,
   "metadata": {},
   "outputs": [],
   "source": [
    "PriortoJan12016 = INT2017.loc[INT2017.Create_Date <= tsprior,:]"
   ]
  },
  {
   "cell_type": "code",
   "execution_count": 40,
   "metadata": {},
   "outputs": [
    {
     "data": {
      "text/plain": [
       "58733"
      ]
     },
     "execution_count": 40,
     "metadata": {},
     "output_type": "execute_result"
    }
   ],
   "source": [
    "len(PriortoJan12016)"
   ]
  },
  {
   "cell_type": "code",
   "execution_count": null,
   "metadata": {},
   "outputs": [],
   "source": []
  }
 ],
 "metadata": {
  "kernelspec": {
   "display_name": "Python [conda env:Anaconda3]",
   "language": "python",
   "name": "conda-env-Anaconda3-py"
  },
  "language_info": {
   "codemirror_mode": {
    "name": "ipython",
    "version": 3
   },
   "file_extension": ".py",
   "mimetype": "text/x-python",
   "name": "python",
   "nbconvert_exporter": "python",
   "pygments_lexer": "ipython3",
   "version": "3.6.5"
  }
 },
 "nbformat": 4,
 "nbformat_minor": 2
}
