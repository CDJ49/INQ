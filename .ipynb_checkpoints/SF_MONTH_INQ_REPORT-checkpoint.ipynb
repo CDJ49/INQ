{
 "cells": [
  {
   "cell_type": "code",
   "execution_count": 130,
   "metadata": {},
   "outputs": [],
   "source": [
    "import numpy as np\n",
    "import pandas as pd\n",
    "import matplotlib.pyplot as plt\n",
    "import seaborn as sns\n",
    "%matplotlib inline"
   ]
  },
  {
   "cell_type": "code",
   "execution_count": 131,
   "metadata": {},
   "outputs": [],
   "source": [
    "#INT is the contact infromation for INTERACTIONS\n",
    "INT=pd.read_csv('C:/Users/mjc341/Desktop/UMAN 1507 Monthly INQ summary Report/Interactions.Contacts.csv',skipfooter=5,encoding='latin-1',engine ='python')\n"
   ]
  },
  {
   "cell_type": "code",
   "execution_count": 132,
   "metadata": {},
   "outputs": [],
   "source": [
    "#CON is the CONTACT TERM information\n",
    "CON=pd.read_csv('C:/Users/mjc341/Desktop/UMAN 1507 Monthly INQ summary Report/Interactions.Opportunity.Term.csv',skipfooter=5,encoding='latin-1',engine ='python')"
   ]
  },
  {
   "cell_type": "code",
   "execution_count": 133,
   "metadata": {},
   "outputs": [
    {
     "data": {
      "text/plain": [
       "1476708"
      ]
     },
     "execution_count": 133,
     "metadata": {},
     "output_type": "execute_result"
    }
   ],
   "source": [
    "len(INT)"
   ]
  },
  {
   "cell_type": "code",
   "execution_count": 134,
   "metadata": {},
   "outputs": [
    {
     "data": {
      "text/plain": [
       "818555"
      ]
     },
     "execution_count": 134,
     "metadata": {},
     "output_type": "execute_result"
    }
   ],
   "source": [
    "len(CON)"
   ]
  },
  {
   "cell_type": "code",
   "execution_count": 135,
   "metadata": {},
   "outputs": [
    {
     "name": "stdout",
     "output_type": "stream",
     "text": [
      "<class 'pandas.core.frame.DataFrame'>\n",
      "RangeIndex: 1476708 entries, 0 to 1476707\n",
      "Data columns (total 23 columns):\n",
      "Contact: Contact ID (18-digit)      1476708 non-null object\n",
      "Interaction: Interaction Name       1476708 non-null object\n",
      "Admit Type                          1476708 non-null object\n",
      "Contact: First Name                 1476701 non-null object\n",
      "Contact: Middle Name                902513 non-null object\n",
      "Contact: Last Name                  1476708 non-null object\n",
      "Contact: Ethnic Group               472134 non-null object\n",
      "Contact: Ethnicity                  1207596 non-null object\n",
      "Contact: Gender                     1374958 non-null object\n",
      "Term                                1470331 non-null object\n",
      "Lead Source                         1476550 non-null object\n",
      "Interaction: Created Date           1476708 non-null object\n",
      "Contact: Mailing Street             1441085 non-null object\n",
      "Contact: Mailing City               1450770 non-null object\n",
      "Contact: Mailing State/Province     1394534 non-null object\n",
      "Contact: Mailing Zip/Postal Code    1428272 non-null object\n",
      "Contact: Mailing Country            1440852 non-null object\n",
      "Contact: Other City                 560780 non-null object\n",
      "Contact: Other State/Province       511300 non-null object\n",
      "Contact: Other Zip/Postal Code      552667 non-null object\n",
      "Contact: Other Country              560769 non-null object\n",
      "Contact: Market Segment Code        1418614 non-null object\n",
      "Contact: Market Segment             1418614 non-null object\n",
      "dtypes: object(23)\n",
      "memory usage: 259.1+ MB\n"
     ]
    }
   ],
   "source": [
    "INT.info()"
   ]
  },
  {
   "cell_type": "code",
   "execution_count": 136,
   "metadata": {},
   "outputs": [
    {
     "data": {
      "text/plain": [
       "Index(['Contact: Contact ID (18-digit)', 'Interaction: Interaction Name',\n",
       "       'Admit Type', 'Contact: First Name', 'Contact: Middle Name',\n",
       "       'Contact: Last Name', 'Contact: Ethnic Group', 'Contact: Ethnicity',\n",
       "       'Contact: Gender', 'Term', 'Lead Source', 'Interaction: Created Date',\n",
       "       'Contact: Mailing Street', 'Contact: Mailing City',\n",
       "       'Contact: Mailing State/Province', 'Contact: Mailing Zip/Postal Code',\n",
       "       'Contact: Mailing Country', 'Contact: Other City',\n",
       "       'Contact: Other State/Province', 'Contact: Other Zip/Postal Code',\n",
       "       'Contact: Other Country', 'Contact: Market Segment Code',\n",
       "       'Contact: Market Segment'],\n",
       "      dtype='object')"
      ]
     },
     "execution_count": 136,
     "metadata": {},
     "output_type": "execute_result"
    }
   ],
   "source": [
    "INT.columns"
   ]
  },
  {
   "cell_type": "code",
   "execution_count": 137,
   "metadata": {},
   "outputs": [
    {
     "data": {
      "text/plain": [
       "Index(['Contact ID (18-digit)', 'Full Name', 'Opportunity Name',\n",
       "       'Term: Term Name', 'Opportunity Record Type', 'Inquiry', 'Inquiry Date',\n",
       "       'Opportunity ID (18-digit)', 'Empl ID', 'Application Number'],\n",
       "      dtype='object')"
      ]
     },
     "execution_count": 137,
     "metadata": {},
     "output_type": "execute_result"
    }
   ],
   "source": [
    "CON.columns"
   ]
  },
  {
   "cell_type": "code",
   "execution_count": 138,
   "metadata": {},
   "outputs": [
    {
     "name": "stdout",
     "output_type": "stream",
     "text": [
      "<class 'pandas.core.frame.DataFrame'>\n",
      "RangeIndex: 818555 entries, 0 to 818554\n",
      "Data columns (total 10 columns):\n",
      "Contact ID (18-digit)        818553 non-null object\n",
      "Full Name                    818553 non-null object\n",
      "Opportunity Name             818553 non-null object\n",
      "Term: Term Name              818109 non-null object\n",
      "Opportunity Record Type      818553 non-null object\n",
      "Inquiry                      818553 non-null float64\n",
      "Inquiry Date                 714291 non-null object\n",
      "Opportunity ID (18-digit)    818553 non-null object\n",
      "Empl ID                      218979 non-null float64\n",
      "Application Number           208095 non-null float64\n",
      "dtypes: float64(3), object(7)\n",
      "memory usage: 62.5+ MB\n"
     ]
    }
   ],
   "source": [
    "CON.info()"
   ]
  },
  {
   "cell_type": "code",
   "execution_count": 139,
   "metadata": {},
   "outputs": [],
   "source": [
    "CON = CON.drop(columns =['Full Name',])"
   ]
  },
  {
   "cell_type": "code",
   "execution_count": 140,
   "metadata": {},
   "outputs": [],
   "source": [
    "INT = INT.drop(columns= ['Contact: First Name', 'Contact: Middle Name',\n",
    "       'Contact: Last Name'])"
   ]
  },
  {
   "cell_type": "code",
   "execution_count": 141,
   "metadata": {},
   "outputs": [],
   "source": [
    "#changed the name of columns \n",
    "INT = INT.rename(columns ={'Contact: Contact ID (18-digit)':'Contact_ID','Interaction: Interaction Name':'Int_Name',\n",
    "       'Admit Type':'Admit_Type','Contact: Ethnic Group': 'Ethnic_Group', 'Contact: Ethnicity':'Ethnicity',\n",
    "       'Contact: Gender':'Gender', 'Term':'Term', 'Lead Source':'Lead_Source', 'Interaction: Created Date':'Create_Date',\n",
    "       'Contact: Mailing Street':'Mailing_Street', 'Contact: Mailing City':'Mailing_City',\n",
    "       'Contact: Mailing State/Province':'Mailing_State', 'Contact: Mailing Zip/Postal Code':'Mailing_Postal',\n",
    "       'Contact: Mailing Country':'Mailing_Country', 'Contact: Other City':'Other_City',\n",
    "       'Contact: Other State/Province':'Other_State', 'Contact: Other Zip/Postal Code':'Other_Postal',\n",
    "       'Contact: Other Country':'Mailing_Country', 'Contact: Market Segment Code':'Market_Segment_Code',\n",
    "       'Contact: Market Segment':'Market_Segment'},inplace =False)"
   ]
  },
  {
   "cell_type": "code",
   "execution_count": 142,
   "metadata": {},
   "outputs": [],
   "source": [
    "#changed the name of columns\n",
    "CON = CON.rename(columns={  'Contact ID (18-digit)':'Contact_ID', 'Opportunity Name':'OppName', \n",
    "       'Term: Term Name':'Term', 'Opportunity Record Type':'Record_Type', 'Inquiry':'Inquiry', 'Inquiry Date':'Inquiry_Date',\n",
    "       'Opportunity ID (18-digit)':'Opp_ID', 'Empl ID':'EMPL', 'Application Number':'App_Number'})"
   ]
  },
  {
   "cell_type": "code",
   "execution_count": 146,
   "metadata": {},
   "outputs": [],
   "source": [
    "#Sort INT by Contact_ID and Interaction Name\n",
    "INT = INT.sort_values(by = ['Contact_ID','Int_Name'])"
   ]
  },
  {
   "cell_type": "code",
   "execution_count": 147,
   "metadata": {},
   "outputs": [],
   "source": [
    "#Sort CON by Contact_ID and Opportunity Name\n",
    "CON = CON.sort_values(by = ['Contact_ID','OppName'])"
   ]
  },
  {
   "cell_type": "code",
   "execution_count": 148,
   "metadata": {},
   "outputs": [],
   "source": [
    "#Dropping the duplicates to then merge later\n",
    "CON=CON.drop_duplicates(['Contact_ID'], keep='first')"
   ]
  },
  {
   "cell_type": "code",
   "execution_count": 93,
   "metadata": {},
   "outputs": [
    {
     "data": {
      "text/plain": [
       "\" f,ax =plt.subplots(figsize = (10,8))\\nsns.countplot(x = 'Lead_Source', data =INT,color = 'powderblue')\\nplt.xticks(rotation = 90)\\nplt.title('Count of Contact by Lead Source', loc = 'center', size = 20)   \""
      ]
     },
     "execution_count": 93,
     "metadata": {},
     "output_type": "execute_result"
    }
   ],
   "source": [
    "\"\"\" f,ax =plt.subplots(figsize = (10,8))\n",
    "sns.countplot(x = 'Lead_Source', data =INT,color = 'powderblue')\n",
    "plt.xticks(rotation = 90)\n",
    "plt.title('Count of Contact by Lead Source', loc = 'center', size = 20)   \"\"\""
   ]
  },
  {
   "cell_type": "code",
   "execution_count": 149,
   "metadata": {},
   "outputs": [
    {
     "data": {
      "text/html": [
       "<div>\n",
       "<style scoped>\n",
       "    .dataframe tbody tr th:only-of-type {\n",
       "        vertical-align: middle;\n",
       "    }\n",
       "\n",
       "    .dataframe tbody tr th {\n",
       "        vertical-align: top;\n",
       "    }\n",
       "\n",
       "    .dataframe thead th {\n",
       "        text-align: right;\n",
       "    }\n",
       "</style>\n",
       "<table border=\"1\" class=\"dataframe\">\n",
       "  <thead>\n",
       "    <tr style=\"text-align: right;\">\n",
       "      <th></th>\n",
       "      <th>Contact_ID</th>\n",
       "      <th>Int_Name</th>\n",
       "      <th>Admit_Type</th>\n",
       "      <th>Ethnic_Group</th>\n",
       "      <th>Ethnicity</th>\n",
       "      <th>Gender</th>\n",
       "      <th>Term</th>\n",
       "      <th>Lead_Source</th>\n",
       "      <th>Create_Date</th>\n",
       "      <th>Mailing_Street</th>\n",
       "      <th>Mailing_City</th>\n",
       "      <th>Mailing_State</th>\n",
       "      <th>Mailing_Postal</th>\n",
       "      <th>Mailing_Country</th>\n",
       "      <th>Other_City</th>\n",
       "      <th>Other_State</th>\n",
       "      <th>Other_Postal</th>\n",
       "      <th>Mailing_Country</th>\n",
       "      <th>Market_Segment_Code</th>\n",
       "      <th>Market_Segment</th>\n",
       "    </tr>\n",
       "  </thead>\n",
       "  <tbody>\n",
       "    <tr>\n",
       "      <th>774326</th>\n",
       "      <td>0031500001d4Si8AAE</td>\n",
       "      <td>20160320-0100599</td>\n",
       "      <td>New Student</td>\n",
       "      <td>NaN</td>\n",
       "      <td>NaN</td>\n",
       "      <td>Female</td>\n",
       "      <td>Fall 2015</td>\n",
       "      <td>Purchased List</td>\n",
       "      <td>1/4/2013</td>\n",
       "      <td>12831 sw 43 dr</td>\n",
       "      <td>miami</td>\n",
       "      <td>FL</td>\n",
       "      <td>33175</td>\n",
       "      <td>United States</td>\n",
       "      <td>NaN</td>\n",
       "      <td>NaN</td>\n",
       "      <td>NaN</td>\n",
       "      <td>NaN</td>\n",
       "      <td>NaN</td>\n",
       "      <td>NaN</td>\n",
       "    </tr>\n",
       "  </tbody>\n",
       "</table>\n",
       "</div>"
      ],
      "text/plain": [
       "                Contact_ID          Int_Name   Admit_Type Ethnic_Group  \\\n",
       "774326  0031500001d4Si8AAE  20160320-0100599  New Student          NaN   \n",
       "\n",
       "       Ethnicity  Gender       Term     Lead_Source Create_Date  \\\n",
       "774326       NaN  Female  Fall 2015  Purchased List    1/4/2013   \n",
       "\n",
       "        Mailing_Street Mailing_City Mailing_State Mailing_Postal  \\\n",
       "774326  12831 sw 43 dr        miami            FL          33175   \n",
       "\n",
       "       Mailing_Country Other_City Other_State Other_Postal Mailing_Country  \\\n",
       "774326   United States        NaN         NaN          NaN             NaN   \n",
       "\n",
       "       Market_Segment_Code Market_Segment  \n",
       "774326                 NaN            NaN  "
      ]
     },
     "execution_count": 149,
     "metadata": {},
     "output_type": "execute_result"
    }
   ],
   "source": [
    "INT.head(1)"
   ]
  },
  {
   "cell_type": "code",
   "execution_count": 150,
   "metadata": {},
   "outputs": [],
   "source": [
    "INT['Create_Date']= pd.to_datetime(INT.Create_Date)"
   ]
  },
  {
   "cell_type": "code",
   "execution_count": 152,
   "metadata": {},
   "outputs": [
    {
     "data": {
      "text/plain": [
       "Timestamp('2001-08-06 00:00:00')"
      ]
     },
     "execution_count": 152,
     "metadata": {},
     "output_type": "execute_result"
    }
   ],
   "source": [
    "INT['Create_Date'].min()"
   ]
  },
  {
   "cell_type": "code",
   "execution_count": 153,
   "metadata": {},
   "outputs": [
    {
     "data": {
      "text/plain": [
       "774326    2013\n",
       "774924    2015\n",
       "Name: Create_Date, dtype: int64"
      ]
     },
     "execution_count": 153,
     "metadata": {},
     "output_type": "execute_result"
    }
   ],
   "source": [
    "INT.Create_Date.dt.year.head(2)\n"
   ]
  },
  {
   "cell_type": "code",
   "execution_count": 154,
   "metadata": {},
   "outputs": [
    {
     "data": {
      "text/plain": [
       "<matplotlib.axes._subplots.AxesSubplot at 0x25312f92c50>"
      ]
     },
     "execution_count": 154,
     "metadata": {},
     "output_type": "execute_result"
    },
    {
     "data": {
      "image/png": "[encoded data removed]",
      "text/plain": [
       "<Figure size 432x288 with 1 Axes>"
      ]
     },
     "metadata": {},
     "output_type": "display_data"
    }
   ],
   "source": [
    "INT.Create_Date.dt.year.value_counts().sort_index().plot()"
   ]
  },
  {
   "cell_type": "code",
   "execution_count": 155,
   "metadata": {},
   "outputs": [],
   "source": [
    "#INT.Create_Date.dt.year.value_counts()"
   ]
  },
  {
   "cell_type": "code",
   "execution_count": 156,
   "metadata": {},
   "outputs": [
    {
     "data": {
      "text/plain": [
       "213569"
      ]
     },
     "execution_count": 156,
     "metadata": {},
     "output_type": "execute_result"
    }
   ],
   "source": [
    "INT2017 = INT.loc[(INT.Term == 'Fall 2017')]\n",
    "len(INT2017)"
   ]
  },
  {
   "cell_type": "code",
   "execution_count": 157,
   "metadata": {},
   "outputs": [
    {
     "data": {
      "text/html": [
       "<div>\n",
       "<style scoped>\n",
       "    .dataframe tbody tr th:only-of-type {\n",
       "        vertical-align: middle;\n",
       "    }\n",
       "\n",
       "    .dataframe tbody tr th {\n",
       "        vertical-align: top;\n",
       "    }\n",
       "\n",
       "    .dataframe thead th {\n",
       "        text-align: right;\n",
       "    }\n",
       "</style>\n",
       "<table border=\"1\" class=\"dataframe\">\n",
       "  <thead>\n",
       "    <tr style=\"text-align: right;\">\n",
       "      <th></th>\n",
       "      <th>Contact_ID</th>\n",
       "      <th>Int_Name</th>\n",
       "      <th>Admit_Type</th>\n",
       "      <th>Ethnic_Group</th>\n",
       "      <th>Ethnicity</th>\n",
       "      <th>Gender</th>\n",
       "      <th>Term</th>\n",
       "      <th>Lead_Source</th>\n",
       "      <th>Create_Date</th>\n",
       "      <th>Mailing_Street</th>\n",
       "      <th>Mailing_City</th>\n",
       "      <th>Mailing_State</th>\n",
       "      <th>Mailing_Postal</th>\n",
       "      <th>Mailing_Country</th>\n",
       "      <th>Other_City</th>\n",
       "      <th>Other_State</th>\n",
       "      <th>Other_Postal</th>\n",
       "      <th>Mailing_Country</th>\n",
       "      <th>Market_Segment_Code</th>\n",
       "      <th>Market_Segment</th>\n",
       "    </tr>\n",
       "  </thead>\n",
       "  <tbody>\n",
       "    <tr>\n",
       "      <th>774924</th>\n",
       "      <td>0031500001d4Si8AAE</td>\n",
       "      <td>20160320-1020622</td>\n",
       "      <td>New Student</td>\n",
       "      <td>NaN</td>\n",
       "      <td>NaN</td>\n",
       "      <td>Female</td>\n",
       "      <td>Fall 2017</td>\n",
       "      <td>College Fair</td>\n",
       "      <td>2015-11-19</td>\n",
       "      <td>12831 sw 43 dr</td>\n",
       "      <td>miami</td>\n",
       "      <td>FL</td>\n",
       "      <td>33175</td>\n",
       "      <td>United States</td>\n",
       "      <td>NaN</td>\n",
       "      <td>NaN</td>\n",
       "      <td>NaN</td>\n",
       "      <td>NaN</td>\n",
       "      <td>NaN</td>\n",
       "      <td>NaN</td>\n",
       "    </tr>\n",
       "  </tbody>\n",
       "</table>\n",
       "</div>"
      ],
      "text/plain": [
       "                Contact_ID          Int_Name   Admit_Type Ethnic_Group  \\\n",
       "774924  0031500001d4Si8AAE  20160320-1020622  New Student          NaN   \n",
       "\n",
       "       Ethnicity  Gender       Term   Lead_Source Create_Date  Mailing_Street  \\\n",
       "774924       NaN  Female  Fall 2017  College Fair  2015-11-19  12831 sw 43 dr   \n",
       "\n",
       "       Mailing_City Mailing_State Mailing_Postal Mailing_Country Other_City  \\\n",
       "774924        miami            FL          33175   United States        NaN   \n",
       "\n",
       "       Other_State Other_Postal Mailing_Country Market_Segment_Code  \\\n",
       "774924         NaN          NaN             NaN                 NaN   \n",
       "\n",
       "       Market_Segment  \n",
       "774924            NaN  "
      ]
     },
     "execution_count": 157,
     "metadata": {},
     "output_type": "execute_result"
    }
   ],
   "source": [
    "INT2017.head(1)"
   ]
  },
  {
   "cell_type": "code",
   "execution_count": 158,
   "metadata": {},
   "outputs": [
    {
     "data": {
      "text/plain": [
       "Index(['Contact_ID', 'Int_Name', 'Admit_Type', 'Ethnic_Group', 'Ethnicity',\n",
       "       'Gender', 'Term', 'Lead_Source', 'Create_Date', 'Mailing_Street',\n",
       "       'Mailing_City', 'Mailing_State', 'Mailing_Postal', 'Mailing_Country',\n",
       "       'Other_City', 'Other_State', 'Other_Postal', 'Mailing_Country',\n",
       "       'Market_Segment_Code', 'Market_Segment'],\n",
       "      dtype='object')"
      ]
     },
     "execution_count": 158,
     "metadata": {},
     "output_type": "execute_result"
    }
   ],
   "source": [
    "INT2017.columns"
   ]
  },
  {
   "cell_type": "code",
   "execution_count": 159,
   "metadata": {},
   "outputs": [],
   "source": [
    "tsprior = pd.Timestamp('1/1/2016', tz='US/Central')"
   ]
  },
  {
   "cell_type": "code",
   "execution_count": 160,
   "metadata": {},
   "outputs": [
    {
     "data": {
      "text/plain": [
       "Timestamp('2016-01-01 00:00:00-0600', tz='US/Central')"
      ]
     },
     "execution_count": 160,
     "metadata": {},
     "output_type": "execute_result"
    }
   ],
   "source": [
    "tsprior\n",
    "\n"
   ]
  },
  {
   "cell_type": "code",
   "execution_count": 161,
   "metadata": {},
   "outputs": [],
   "source": [
    "B4JAN16 = INT2017.loc[INT2017.Create_Date <= tsprior,:]"
   ]
  },
  {
   "cell_type": "code",
   "execution_count": 162,
   "metadata": {},
   "outputs": [
    {
     "data": {
      "text/plain": [
       "58733"
      ]
     },
     "execution_count": 162,
     "metadata": {},
     "output_type": "execute_result"
    }
   ],
   "source": [
    "len(B4JAN16)"
   ]
  },
  {
   "cell_type": "code",
   "execution_count": 163,
   "metadata": {},
   "outputs": [],
   "source": [
    "#begin dtDEV branch"
   ]
  },
  {
   "cell_type": "code",
   "execution_count": 164,
   "metadata": {},
   "outputs": [
    {
     "data": {
      "text/plain": [
       "Index(['Contact_ID', 'Int_Name', 'Admit_Type', 'Ethnic_Group', 'Ethnicity',\n",
       "       'Gender', 'Term', 'Lead_Source', 'Create_Date', 'Mailing_Street',\n",
       "       'Mailing_City', 'Mailing_State', 'Mailing_Postal', 'Mailing_Country',\n",
       "       'Other_City', 'Other_State', 'Other_Postal', 'Mailing_Country',\n",
       "       'Market_Segment_Code', 'Market_Segment'],\n",
       "      dtype='object')"
      ]
     },
     "execution_count": 164,
     "metadata": {},
     "output_type": "execute_result"
    }
   ],
   "source": [
    "B4JAN16.columns\n"
   ]
  },
  {
   "cell_type": "code",
   "execution_count": 165,
   "metadata": {},
   "outputs": [
    {
     "data": {
      "text/plain": [
       "58733"
      ]
     },
     "execution_count": 165,
     "metadata": {},
     "output_type": "execute_result"
    }
   ],
   "source": [
    "B4JAN16['Contact_ID'].value_counts().sum()"
   ]
  },
  {
   "cell_type": "code",
   "execution_count": 166,
   "metadata": {},
   "outputs": [
    {
     "data": {
      "text/plain": [
       "1     13918\n",
       "2     14725\n",
       "3      4662\n",
       "4      1362\n",
       "5      1827\n",
       "6      2495\n",
       "7       998\n",
       "8      3330\n",
       "9       831\n",
       "10     6879\n",
       "11     4265\n",
       "12     3441\n",
       "Name: Create_Date, dtype: int64"
      ]
     },
     "execution_count": 166,
     "metadata": {},
     "output_type": "execute_result"
    }
   ],
   "source": [
    "B4JAN16.Create_Date.dt.month.value_counts().sort_index()"
   ]
  },
  {
   "cell_type": "code",
   "execution_count": 167,
   "metadata": {},
   "outputs": [
    {
     "data": {
      "text/plain": [
       "<matplotlib.axes._subplots.AxesSubplot at 0x253153f6f28>"
      ]
     },
     "execution_count": 167,
     "metadata": {},
     "output_type": "execute_result"
    },
    {
     "data": {
      "image/png": "[encoded data removed]",
      "text/plain": [
       "<Figure size 432x288 with 1 Axes>"
      ]
     },
     "metadata": {},
     "output_type": "display_data"
    }
   ],
   "source": [
    "B4JAN16.Create_Date.dt.month.value_counts().sort_index().plot()"
   ]
  },
  {
   "cell_type": "code",
   "execution_count": 168,
   "metadata": {},
   "outputs": [],
   "source": [
    "#Review diff have to create a df from B4JAN16 results then ad column CT1['Diff'] = CT1['count'].diff()"
   ]
  },
  {
   "cell_type": "code",
   "execution_count": 169,
   "metadata": {},
   "outputs": [],
   "source": [
    "tsprior2 =pd.Timestamp ('1/1/2018')"
   ]
  },
  {
   "cell_type": "code",
   "execution_count": 170,
   "metadata": {},
   "outputs": [
    {
     "data": {
      "text/plain": [
       "Timestamp('2018-01-01 00:00:00')"
      ]
     },
     "execution_count": 170,
     "metadata": {},
     "output_type": "execute_result"
    }
   ],
   "source": [
    "tsprior2"
   ]
  },
  {
   "cell_type": "code",
   "execution_count": 171,
   "metadata": {},
   "outputs": [],
   "source": [
    "INT2018 = INT.loc[(INT.Term == 'Fall 2018')]\n",
    "#PriortoJan12017 = INT2018.loc[INT2017.Create_Date <= tsprior2,:]"
   ]
  },
  {
   "cell_type": "code",
   "execution_count": 172,
   "metadata": {},
   "outputs": [
    {
     "data": {
      "text/plain": [
       "178696"
      ]
     },
     "execution_count": 172,
     "metadata": {},
     "output_type": "execute_result"
    }
   ],
   "source": [
    "len(INT2018)"
   ]
  },
  {
   "cell_type": "code",
   "execution_count": 173,
   "metadata": {},
   "outputs": [],
   "source": [
    "# M = Month end frq and MS = month start freq\n",
    "rng = pd.date_range('2016 Jan 1 00:00', periods = 12, freq = 'MS')\n",
    "rng2 = pd.date_range('2017 Jan 1 00:00', periods = 12, freq = 'MS')"
   ]
  },
  {
   "cell_type": "code",
   "execution_count": 174,
   "metadata": {},
   "outputs": [
    {
     "data": {
      "text/plain": [
       "DatetimeIndex(['2016-01-01', '2016-02-01', '2016-03-01', '2016-04-01',\n",
       "               '2016-05-01', '2016-06-01', '2016-07-01', '2016-08-01',\n",
       "               '2016-09-01', '2016-10-01', '2016-11-01', '2016-12-01'],\n",
       "              dtype='datetime64[ns]', freq='MS')"
      ]
     },
     "execution_count": 174,
     "metadata": {},
     "output_type": "execute_result"
    }
   ],
   "source": [
    "rng"
   ]
  },
  {
   "cell_type": "code",
   "execution_count": 121,
   "metadata": {},
   "outputs": [
    {
     "data": {
      "text/plain": [
       "DatetimeIndex(['2017-01-01', '2017-02-01', '2017-03-01', '2017-04-01',\n",
       "               '2017-05-01', '2017-06-01', '2017-07-01', '2017-08-01',\n",
       "               '2017-09-01', '2017-10-01', '2017-11-01', '2017-12-01'],\n",
       "              dtype='datetime64[ns]', freq='MS')"
      ]
     },
     "execution_count": 121,
     "metadata": {},
     "output_type": "execute_result"
    }
   ],
   "source": [
    "rng2"
   ]
  },
  {
   "cell_type": "code",
   "execution_count": 206,
   "metadata": {},
   "outputs": [],
   "source": [
    "INT17 = INT.loc[(INT.Term == 'Fall 2017')]"
   ]
  },
  {
   "cell_type": "code",
   "execution_count": 207,
   "metadata": {},
   "outputs": [
    {
     "data": {
      "text/html": [
       "<div>\n",
       "<style scoped>\n",
       "    .dataframe tbody tr th:only-of-type {\n",
       "        vertical-align: middle;\n",
       "    }\n",
       "\n",
       "    .dataframe tbody tr th {\n",
       "        vertical-align: top;\n",
       "    }\n",
       "\n",
       "    .dataframe thead th {\n",
       "        text-align: right;\n",
       "    }\n",
       "</style>\n",
       "<table border=\"1\" class=\"dataframe\">\n",
       "  <thead>\n",
       "    <tr style=\"text-align: right;\">\n",
       "      <th></th>\n",
       "      <th>Contact_ID</th>\n",
       "      <th>Int_Name</th>\n",
       "      <th>Admit_Type</th>\n",
       "      <th>Ethnic_Group</th>\n",
       "      <th>Ethnicity</th>\n",
       "      <th>Gender</th>\n",
       "      <th>Term</th>\n",
       "      <th>Lead_Source</th>\n",
       "      <th>Create_Date</th>\n",
       "      <th>Mailing_Street</th>\n",
       "      <th>Mailing_City</th>\n",
       "      <th>Mailing_State</th>\n",
       "      <th>Mailing_Postal</th>\n",
       "      <th>Mailing_Country</th>\n",
       "      <th>Other_City</th>\n",
       "      <th>Other_State</th>\n",
       "      <th>Other_Postal</th>\n",
       "      <th>Mailing_Country</th>\n",
       "      <th>Market_Segment_Code</th>\n",
       "      <th>Market_Segment</th>\n",
       "    </tr>\n",
       "  </thead>\n",
       "  <tbody>\n",
       "    <tr>\n",
       "      <th>774924</th>\n",
       "      <td>0031500001d4Si8AAE</td>\n",
       "      <td>20160320-1020622</td>\n",
       "      <td>New Student</td>\n",
       "      <td>NaN</td>\n",
       "      <td>NaN</td>\n",
       "      <td>Female</td>\n",
       "      <td>Fall 2017</td>\n",
       "      <td>College Fair</td>\n",
       "      <td>2015-11-19</td>\n",
       "      <td>12831 sw 43 dr</td>\n",
       "      <td>miami</td>\n",
       "      <td>FL</td>\n",
       "      <td>33175</td>\n",
       "      <td>United States</td>\n",
       "      <td>NaN</td>\n",
       "      <td>NaN</td>\n",
       "      <td>NaN</td>\n",
       "      <td>NaN</td>\n",
       "      <td>NaN</td>\n",
       "      <td>NaN</td>\n",
       "    </tr>\n",
       "  </tbody>\n",
       "</table>\n",
       "</div>"
      ],
      "text/plain": [
       "                Contact_ID          Int_Name   Admit_Type Ethnic_Group  \\\n",
       "774924  0031500001d4Si8AAE  20160320-1020622  New Student          NaN   \n",
       "\n",
       "       Ethnicity  Gender       Term   Lead_Source Create_Date  Mailing_Street  \\\n",
       "774924       NaN  Female  Fall 2017  College Fair  2015-11-19  12831 sw 43 dr   \n",
       "\n",
       "       Mailing_City Mailing_State Mailing_Postal Mailing_Country Other_City  \\\n",
       "774924        miami            FL          33175   United States        NaN   \n",
       "\n",
       "       Other_State Other_Postal Mailing_Country Market_Segment_Code  \\\n",
       "774924         NaN          NaN             NaN                 NaN   \n",
       "\n",
       "       Market_Segment  \n",
       "774924            NaN  "
      ]
     },
     "execution_count": 207,
     "metadata": {},
     "output_type": "execute_result"
    }
   ],
   "source": [
    "INT17.head(1)"
   ]
  },
  {
   "cell_type": "code",
   "execution_count": 271,
   "metadata": {},
   "outputs": [],
   "source": [
    "# 2dfs INT2017 and INT2018 which are 2017 and 2018 Admit Term INQs need 2019\n",
    "# add a column to the df which extracts the month and the yera out of the create date"
   ]
  },
  {
   "cell_type": "code",
   "execution_count": 221,
   "metadata": {},
   "outputs": [],
   "source": [
    "INT17_1 = INT.loc[(INT.Term == 'Fall 2017')]"
   ]
  },
  {
   "cell_type": "code",
   "execution_count": 222,
   "metadata": {},
   "outputs": [
    {
     "name": "stderr",
     "output_type": "stream",
     "text": [
      "C:\\Users\\mjc341\\AppData\\Local\\Continuum\\Anaconda3\\lib\\site-packages\\pandas\\core\\indexing.py:357: SettingWithCopyWarning: \n",
      "A value is trying to be set on a copy of a slice from a DataFrame.\n",
      "Try using .loc[row_indexer,col_indexer] = value instead\n",
      "\n",
      "See the caveats in the documentation: http://pandas.pydata.org/pandas-docs/stable/indexing.html#indexing-view-versus-copy\n",
      "  self.obj[key] = _infer_fill_value(value)\n",
      "C:\\Users\\mjc341\\AppData\\Local\\Continuum\\Anaconda3\\lib\\site-packages\\pandas\\core\\indexing.py:537: SettingWithCopyWarning: \n",
      "A value is trying to be set on a copy of a slice from a DataFrame.\n",
      "Try using .loc[row_indexer,col_indexer] = value instead\n",
      "\n",
      "See the caveats in the documentation: http://pandas.pydata.org/pandas-docs/stable/indexing.html#indexing-view-versus-copy\n",
      "  self.obj[item] = s\n"
     ]
    }
   ],
   "source": [
    "INT17_1.loc[:,'YEAR'] = INT17_1['Create_Date'].apply(lambda x: \"%d\" % (x.year))"
   ]
  },
  {
   "cell_type": "code",
   "execution_count": 223,
   "metadata": {},
   "outputs": [
    {
     "data": {
      "text/html": [
       "<div>\n",
       "<style scoped>\n",
       "    .dataframe tbody tr th:only-of-type {\n",
       "        vertical-align: middle;\n",
       "    }\n",
       "\n",
       "    .dataframe tbody tr th {\n",
       "        vertical-align: top;\n",
       "    }\n",
       "\n",
       "    .dataframe thead th {\n",
       "        text-align: right;\n",
       "    }\n",
       "</style>\n",
       "<table border=\"1\" class=\"dataframe\">\n",
       "  <thead>\n",
       "    <tr style=\"text-align: right;\">\n",
       "      <th></th>\n",
       "      <th>Contact_ID</th>\n",
       "      <th>Int_Name</th>\n",
       "      <th>Admit_Type</th>\n",
       "      <th>Ethnic_Group</th>\n",
       "      <th>Ethnicity</th>\n",
       "      <th>Gender</th>\n",
       "      <th>Term</th>\n",
       "      <th>Lead_Source</th>\n",
       "      <th>Create_Date</th>\n",
       "      <th>Mailing_Street</th>\n",
       "      <th>...</th>\n",
       "      <th>Mailing_State</th>\n",
       "      <th>Mailing_Postal</th>\n",
       "      <th>Mailing_Country</th>\n",
       "      <th>Other_City</th>\n",
       "      <th>Other_State</th>\n",
       "      <th>Other_Postal</th>\n",
       "      <th>Mailing_Country</th>\n",
       "      <th>Market_Segment_Code</th>\n",
       "      <th>Market_Segment</th>\n",
       "      <th>YEAR</th>\n",
       "    </tr>\n",
       "  </thead>\n",
       "  <tbody>\n",
       "    <tr>\n",
       "      <th>774924</th>\n",
       "      <td>0031500001d4Si8AAE</td>\n",
       "      <td>20160320-1020622</td>\n",
       "      <td>New Student</td>\n",
       "      <td>NaN</td>\n",
       "      <td>NaN</td>\n",
       "      <td>Female</td>\n",
       "      <td>Fall 2017</td>\n",
       "      <td>College Fair</td>\n",
       "      <td>2015-11-19</td>\n",
       "      <td>12831 sw 43 dr</td>\n",
       "      <td>...</td>\n",
       "      <td>FL</td>\n",
       "      <td>33175</td>\n",
       "      <td>United States</td>\n",
       "      <td>NaN</td>\n",
       "      <td>NaN</td>\n",
       "      <td>NaN</td>\n",
       "      <td>NaN</td>\n",
       "      <td>NaN</td>\n",
       "      <td>NaN</td>\n",
       "      <td>2015</td>\n",
       "    </tr>\n",
       "  </tbody>\n",
       "</table>\n",
       "<p>1 rows × 21 columns</p>\n",
       "</div>"
      ],
      "text/plain": [
       "                Contact_ID          Int_Name   Admit_Type Ethnic_Group  \\\n",
       "774924  0031500001d4Si8AAE  20160320-1020622  New Student          NaN   \n",
       "\n",
       "       Ethnicity  Gender       Term   Lead_Source Create_Date  Mailing_Street  \\\n",
       "774924       NaN  Female  Fall 2017  College Fair  2015-11-19  12831 sw 43 dr   \n",
       "\n",
       "        ...  Mailing_State Mailing_Postal Mailing_Country Other_City  \\\n",
       "774924  ...             FL          33175   United States        NaN   \n",
       "\n",
       "       Other_State Other_Postal Mailing_Country Market_Segment_Code  \\\n",
       "774924         NaN          NaN             NaN                 NaN   \n",
       "\n",
       "       Market_Segment  YEAR  \n",
       "774924            NaN  2015  \n",
       "\n",
       "[1 rows x 21 columns]"
      ]
     },
     "execution_count": 223,
     "metadata": {},
     "output_type": "execute_result"
    }
   ],
   "source": [
    "INT17_1.head(1)"
   ]
  },
  {
   "cell_type": "code",
   "execution_count": 224,
   "metadata": {},
   "outputs": [
    {
     "name": "stderr",
     "output_type": "stream",
     "text": [
      "C:\\Users\\mjc341\\AppData\\Local\\Continuum\\Anaconda3\\lib\\site-packages\\pandas\\core\\indexing.py:357: SettingWithCopyWarning: \n",
      "A value is trying to be set on a copy of a slice from a DataFrame.\n",
      "Try using .loc[row_indexer,col_indexer] = value instead\n",
      "\n",
      "See the caveats in the documentation: http://pandas.pydata.org/pandas-docs/stable/indexing.html#indexing-view-versus-copy\n",
      "  self.obj[key] = _infer_fill_value(value)\n",
      "C:\\Users\\mjc341\\AppData\\Local\\Continuum\\Anaconda3\\lib\\site-packages\\pandas\\core\\indexing.py:537: SettingWithCopyWarning: \n",
      "A value is trying to be set on a copy of a slice from a DataFrame.\n",
      "Try using .loc[row_indexer,col_indexer] = value instead\n",
      "\n",
      "See the caveats in the documentation: http://pandas.pydata.org/pandas-docs/stable/indexing.html#indexing-view-versus-copy\n",
      "  self.obj[item] = s\n"
     ]
    }
   ],
   "source": [
    "INT17_1.loc[:,'MONTH'] = INT17_1['Create_Date'].apply(lambda x: \"%d\" % (x.month))"
   ]
  },
  {
   "cell_type": "code",
   "execution_count": 225,
   "metadata": {},
   "outputs": [
    {
     "data": {
      "text/html": [
       "<div>\n",
       "<style scoped>\n",
       "    .dataframe tbody tr th:only-of-type {\n",
       "        vertical-align: middle;\n",
       "    }\n",
       "\n",
       "    .dataframe tbody tr th {\n",
       "        vertical-align: top;\n",
       "    }\n",
       "\n",
       "    .dataframe thead th {\n",
       "        text-align: right;\n",
       "    }\n",
       "</style>\n",
       "<table border=\"1\" class=\"dataframe\">\n",
       "  <thead>\n",
       "    <tr style=\"text-align: right;\">\n",
       "      <th></th>\n",
       "      <th>Contact_ID</th>\n",
       "      <th>Int_Name</th>\n",
       "      <th>Admit_Type</th>\n",
       "      <th>Ethnic_Group</th>\n",
       "      <th>Ethnicity</th>\n",
       "      <th>Gender</th>\n",
       "      <th>Term</th>\n",
       "      <th>Lead_Source</th>\n",
       "      <th>Create_Date</th>\n",
       "      <th>Mailing_Street</th>\n",
       "      <th>...</th>\n",
       "      <th>Mailing_Postal</th>\n",
       "      <th>Mailing_Country</th>\n",
       "      <th>Other_City</th>\n",
       "      <th>Other_State</th>\n",
       "      <th>Other_Postal</th>\n",
       "      <th>Mailing_Country</th>\n",
       "      <th>Market_Segment_Code</th>\n",
       "      <th>Market_Segment</th>\n",
       "      <th>YEAR</th>\n",
       "      <th>MONTH</th>\n",
       "    </tr>\n",
       "  </thead>\n",
       "  <tbody>\n",
       "    <tr>\n",
       "      <th>774924</th>\n",
       "      <td>0031500001d4Si8AAE</td>\n",
       "      <td>20160320-1020622</td>\n",
       "      <td>New Student</td>\n",
       "      <td>NaN</td>\n",
       "      <td>NaN</td>\n",
       "      <td>Female</td>\n",
       "      <td>Fall 2017</td>\n",
       "      <td>College Fair</td>\n",
       "      <td>2015-11-19</td>\n",
       "      <td>12831 sw 43 dr</td>\n",
       "      <td>...</td>\n",
       "      <td>33175</td>\n",
       "      <td>United States</td>\n",
       "      <td>NaN</td>\n",
       "      <td>NaN</td>\n",
       "      <td>NaN</td>\n",
       "      <td>NaN</td>\n",
       "      <td>NaN</td>\n",
       "      <td>NaN</td>\n",
       "      <td>2015</td>\n",
       "      <td>11</td>\n",
       "    </tr>\n",
       "  </tbody>\n",
       "</table>\n",
       "<p>1 rows × 22 columns</p>\n",
       "</div>"
      ],
      "text/plain": [
       "                Contact_ID          Int_Name   Admit_Type Ethnic_Group  \\\n",
       "774924  0031500001d4Si8AAE  20160320-1020622  New Student          NaN   \n",
       "\n",
       "       Ethnicity  Gender       Term   Lead_Source Create_Date  Mailing_Street  \\\n",
       "774924       NaN  Female  Fall 2017  College Fair  2015-11-19  12831 sw 43 dr   \n",
       "\n",
       "        ...  Mailing_Postal Mailing_Country Other_City Other_State  \\\n",
       "774924  ...           33175   United States        NaN         NaN   \n",
       "\n",
       "       Other_Postal Mailing_Country Market_Segment_Code Market_Segment  YEAR  \\\n",
       "774924          NaN             NaN                 NaN            NaN  2015   \n",
       "\n",
       "       MONTH  \n",
       "774924    11  \n",
       "\n",
       "[1 rows x 22 columns]"
      ]
     },
     "execution_count": 225,
     "metadata": {},
     "output_type": "execute_result"
    }
   ],
   "source": [
    "INT17_1.head(1)"
   ]
  },
  {
   "cell_type": "code",
   "execution_count": 228,
   "metadata": {},
   "outputs": [],
   "source": [
    "#create a df with only 2016\n",
    "INT2016 = INT17_1[INT17_1['YEAR'] == '2016']"
   ]
  },
  {
   "cell_type": "code",
   "execution_count": 230,
   "metadata": {},
   "outputs": [],
   "source": [
    "#use groupby to count the number by month\n",
    "# use size to include NaN\n",
    "MTH2016 = INT2016.groupby(['MONTH']).size()"
   ]
  },
  {
   "cell_type": "code",
   "execution_count": 251,
   "metadata": {},
   "outputs": [
    {
     "data": {
      "text/plain": [
       "MONTH\n",
       "1      3503\n",
       "10    25071\n",
       "11    28158\n",
       "12    20866\n",
       "2      4667\n",
       "3      1686\n",
       "4      1413\n",
       "5      2558\n",
       "6     12485\n",
       "7     12934\n",
       "8      2437\n",
       "9      8965\n",
       "dtype: int64"
      ]
     },
     "execution_count": 251,
     "metadata": {},
     "output_type": "execute_result"
    }
   ],
   "source": [
    "#this is not a df it is a groupby object\n",
    "MTH2016"
   ]
  },
  {
   "cell_type": "code",
   "execution_count": 256,
   "metadata": {},
   "outputs": [],
   "source": [
    "#use count to exclude NaN\n",
    "g1 = INT2016.groupby(['MONTH']).count()"
   ]
  },
  {
   "cell_type": "code",
   "execution_count": 272,
   "metadata": {},
   "outputs": [
    {
     "data": {
      "text/html": [
       "<div>\n",
       "<style scoped>\n",
       "    .dataframe tbody tr th:only-of-type {\n",
       "        vertical-align: middle;\n",
       "    }\n",
       "\n",
       "    .dataframe tbody tr th {\n",
       "        vertical-align: top;\n",
       "    }\n",
       "\n",
       "    .dataframe thead th {\n",
       "        text-align: right;\n",
       "    }\n",
       "</style>\n",
       "<table border=\"1\" class=\"dataframe\">\n",
       "  <thead>\n",
       "    <tr style=\"text-align: right;\">\n",
       "      <th></th>\n",
       "      <th>Contact_ID</th>\n",
       "      <th>Int_Name</th>\n",
       "      <th>Admit_Type</th>\n",
       "      <th>Ethnic_Group</th>\n",
       "      <th>Ethnicity</th>\n",
       "      <th>Gender</th>\n",
       "      <th>Term</th>\n",
       "      <th>Lead_Source</th>\n",
       "      <th>Create_Date</th>\n",
       "      <th>Mailing_Street</th>\n",
       "      <th>...</th>\n",
       "      <th>Mailing_State</th>\n",
       "      <th>Mailing_Postal</th>\n",
       "      <th>Mailing_Country</th>\n",
       "      <th>Other_City</th>\n",
       "      <th>Other_State</th>\n",
       "      <th>Other_Postal</th>\n",
       "      <th>Mailing_Country</th>\n",
       "      <th>Market_Segment_Code</th>\n",
       "      <th>Market_Segment</th>\n",
       "      <th>YEAR</th>\n",
       "    </tr>\n",
       "    <tr>\n",
       "      <th>MONTH</th>\n",
       "      <th></th>\n",
       "      <th></th>\n",
       "      <th></th>\n",
       "      <th></th>\n",
       "      <th></th>\n",
       "      <th></th>\n",
       "      <th></th>\n",
       "      <th></th>\n",
       "      <th></th>\n",
       "      <th></th>\n",
       "      <th></th>\n",
       "      <th></th>\n",
       "      <th></th>\n",
       "      <th></th>\n",
       "      <th></th>\n",
       "      <th></th>\n",
       "      <th></th>\n",
       "      <th></th>\n",
       "      <th></th>\n",
       "      <th></th>\n",
       "      <th></th>\n",
       "    </tr>\n",
       "  </thead>\n",
       "  <tbody>\n",
       "    <tr>\n",
       "      <th>1</th>\n",
       "      <td>3503</td>\n",
       "      <td>3503</td>\n",
       "      <td>3503</td>\n",
       "      <td>928</td>\n",
       "      <td>2269</td>\n",
       "      <td>2539</td>\n",
       "      <td>3503</td>\n",
       "      <td>3503</td>\n",
       "      <td>3503</td>\n",
       "      <td>3410</td>\n",
       "      <td>...</td>\n",
       "      <td>3380</td>\n",
       "      <td>3428</td>\n",
       "      <td>3481</td>\n",
       "      <td>936</td>\n",
       "      <td>922</td>\n",
       "      <td>930</td>\n",
       "      <td>936</td>\n",
       "      <td>3440</td>\n",
       "      <td>3440</td>\n",
       "      <td>3503</td>\n",
       "    </tr>\n",
       "    <tr>\n",
       "      <th>2</th>\n",
       "      <td>4667</td>\n",
       "      <td>4667</td>\n",
       "      <td>4667</td>\n",
       "      <td>1115</td>\n",
       "      <td>3184</td>\n",
       "      <td>3497</td>\n",
       "      <td>4667</td>\n",
       "      <td>4667</td>\n",
       "      <td>4667</td>\n",
       "      <td>4575</td>\n",
       "      <td>...</td>\n",
       "      <td>4551</td>\n",
       "      <td>4591</td>\n",
       "      <td>4641</td>\n",
       "      <td>1119</td>\n",
       "      <td>1112</td>\n",
       "      <td>1116</td>\n",
       "      <td>1119</td>\n",
       "      <td>4583</td>\n",
       "      <td>4583</td>\n",
       "      <td>4667</td>\n",
       "    </tr>\n",
       "    <tr>\n",
       "      <th>3</th>\n",
       "      <td>1686</td>\n",
       "      <td>1686</td>\n",
       "      <td>1686</td>\n",
       "      <td>626</td>\n",
       "      <td>683</td>\n",
       "      <td>910</td>\n",
       "      <td>1686</td>\n",
       "      <td>1686</td>\n",
       "      <td>1686</td>\n",
       "      <td>1658</td>\n",
       "      <td>...</td>\n",
       "      <td>1632</td>\n",
       "      <td>1659</td>\n",
       "      <td>1650</td>\n",
       "      <td>630</td>\n",
       "      <td>620</td>\n",
       "      <td>629</td>\n",
       "      <td>630</td>\n",
       "      <td>1643</td>\n",
       "      <td>1643</td>\n",
       "      <td>1686</td>\n",
       "    </tr>\n",
       "  </tbody>\n",
       "</table>\n",
       "<p>3 rows × 21 columns</p>\n",
       "</div>"
      ],
      "text/plain": [
       "       Contact_ID  Int_Name  Admit_Type  Ethnic_Group  Ethnicity  Gender  \\\n",
       "MONTH                                                                      \n",
       "1            3503      3503        3503           928       2269    2539   \n",
       "2            4667      4667        4667          1115       3184    3497   \n",
       "3            1686      1686        1686           626        683     910   \n",
       "\n",
       "       Term  Lead_Source  Create_Date  Mailing_Street  ...   Mailing_State  \\\n",
       "MONTH                                                  ...                   \n",
       "1      3503         3503         3503            3410  ...            3380   \n",
       "2      4667         4667         4667            4575  ...            4551   \n",
       "3      1686         1686         1686            1658  ...            1632   \n",
       "\n",
       "       Mailing_Postal  Mailing_Country  Other_City  Other_State  Other_Postal  \\\n",
       "MONTH                                                                           \n",
       "1                3428             3481         936          922           930   \n",
       "2                4591             4641        1119         1112          1116   \n",
       "3                1659             1650         630          620           629   \n",
       "\n",
       "       Mailing_Country  Market_Segment_Code  Market_Segment  YEAR  \n",
       "MONTH                                                              \n",
       "1                  936                 3440            3440  3503  \n",
       "2                 1119                 4583            4583  4667  \n",
       "3                  630                 1643            1643  1686  \n",
       "\n",
       "[3 rows x 21 columns]"
      ]
     },
     "execution_count": 272,
     "metadata": {},
     "output_type": "execute_result"
    }
   ],
   "source": [
    "g1.head(3)"
   ]
  },
  {
   "cell_type": "code",
   "execution_count": 258,
   "metadata": {},
   "outputs": [
    {
     "data": {
      "text/plain": [
       "pandas.core.frame.DataFrame"
      ]
     },
     "execution_count": 258,
     "metadata": {},
     "output_type": "execute_result"
    }
   ],
   "source": [
    "#g1 is a df\n",
    "type(g1)"
   ]
  },
  {
   "cell_type": "code",
   "execution_count": 259,
   "metadata": {},
   "outputs": [
    {
     "data": {
      "text/plain": [
       "Index(['1', '10', '11', '12', '2', '3', '4', '5', '6', '7', '8', '9'], dtype='object', name='MONTH')"
      ]
     },
     "execution_count": 259,
     "metadata": {},
     "output_type": "execute_result"
    }
   ],
   "source": [
    "# this index is str\n",
    "g1.index"
   ]
  },
  {
   "cell_type": "code",
   "execution_count": 263,
   "metadata": {},
   "outputs": [],
   "source": [
    "#cannot sort \n",
    "g1.sort_index(inplace =True)"
   ]
  },
  {
   "cell_type": "code",
   "execution_count": 266,
   "metadata": {},
   "outputs": [],
   "source": [
    "#change to int\n",
    "g1.index = g1.index.astype(int)"
   ]
  },
  {
   "cell_type": "code",
   "execution_count": 268,
   "metadata": {},
   "outputs": [
    {
     "data": {
      "text/plain": [
       "Int64Index([1, 10, 11, 12, 2, 3, 4, 5, 6, 7, 8, 9], dtype='int64', name='MONTH')"
      ]
     },
     "execution_count": 268,
     "metadata": {},
     "output_type": "execute_result"
    }
   ],
   "source": [
    "#now you can sort it\n",
    "g1.index"
   ]
  },
  {
   "cell_type": "code",
   "execution_count": 269,
   "metadata": {},
   "outputs": [],
   "source": [
    "g1.sort_index(inplace =True)"
   ]
  },
  {
   "cell_type": "code",
   "execution_count": 270,
   "metadata": {},
   "outputs": [
    {
     "data": {
      "text/html": [
       "<div>\n",
       "<style scoped>\n",
       "    .dataframe tbody tr th:only-of-type {\n",
       "        vertical-align: middle;\n",
       "    }\n",
       "\n",
       "    .dataframe tbody tr th {\n",
       "        vertical-align: top;\n",
       "    }\n",
       "\n",
       "    .dataframe thead th {\n",
       "        text-align: right;\n",
       "    }\n",
       "</style>\n",
       "<table border=\"1\" class=\"dataframe\">\n",
       "  <thead>\n",
       "    <tr style=\"text-align: right;\">\n",
       "      <th></th>\n",
       "      <th>Contact_ID</th>\n",
       "      <th>Int_Name</th>\n",
       "      <th>Admit_Type</th>\n",
       "      <th>Ethnic_Group</th>\n",
       "      <th>Ethnicity</th>\n",
       "      <th>Gender</th>\n",
       "      <th>Term</th>\n",
       "      <th>Lead_Source</th>\n",
       "      <th>Create_Date</th>\n",
       "      <th>Mailing_Street</th>\n",
       "      <th>...</th>\n",
       "      <th>Mailing_State</th>\n",
       "      <th>Mailing_Postal</th>\n",
       "      <th>Mailing_Country</th>\n",
       "      <th>Other_City</th>\n",
       "      <th>Other_State</th>\n",
       "      <th>Other_Postal</th>\n",
       "      <th>Mailing_Country</th>\n",
       "      <th>Market_Segment_Code</th>\n",
       "      <th>Market_Segment</th>\n",
       "      <th>YEAR</th>\n",
       "    </tr>\n",
       "    <tr>\n",
       "      <th>MONTH</th>\n",
       "      <th></th>\n",
       "      <th></th>\n",
       "      <th></th>\n",
       "      <th></th>\n",
       "      <th></th>\n",
       "      <th></th>\n",
       "      <th></th>\n",
       "      <th></th>\n",
       "      <th></th>\n",
       "      <th></th>\n",
       "      <th></th>\n",
       "      <th></th>\n",
       "      <th></th>\n",
       "      <th></th>\n",
       "      <th></th>\n",
       "      <th></th>\n",
       "      <th></th>\n",
       "      <th></th>\n",
       "      <th></th>\n",
       "      <th></th>\n",
       "      <th></th>\n",
       "    </tr>\n",
       "  </thead>\n",
       "  <tbody>\n",
       "    <tr>\n",
       "      <th>1</th>\n",
       "      <td>3503</td>\n",
       "      <td>3503</td>\n",
       "      <td>3503</td>\n",
       "      <td>928</td>\n",
       "      <td>2269</td>\n",
       "      <td>2539</td>\n",
       "      <td>3503</td>\n",
       "      <td>3503</td>\n",
       "      <td>3503</td>\n",
       "      <td>3410</td>\n",
       "      <td>...</td>\n",
       "      <td>3380</td>\n",
       "      <td>3428</td>\n",
       "      <td>3481</td>\n",
       "      <td>936</td>\n",
       "      <td>922</td>\n",
       "      <td>930</td>\n",
       "      <td>936</td>\n",
       "      <td>3440</td>\n",
       "      <td>3440</td>\n",
       "      <td>3503</td>\n",
       "    </tr>\n",
       "    <tr>\n",
       "      <th>2</th>\n",
       "      <td>4667</td>\n",
       "      <td>4667</td>\n",
       "      <td>4667</td>\n",
       "      <td>1115</td>\n",
       "      <td>3184</td>\n",
       "      <td>3497</td>\n",
       "      <td>4667</td>\n",
       "      <td>4667</td>\n",
       "      <td>4667</td>\n",
       "      <td>4575</td>\n",
       "      <td>...</td>\n",
       "      <td>4551</td>\n",
       "      <td>4591</td>\n",
       "      <td>4641</td>\n",
       "      <td>1119</td>\n",
       "      <td>1112</td>\n",
       "      <td>1116</td>\n",
       "      <td>1119</td>\n",
       "      <td>4583</td>\n",
       "      <td>4583</td>\n",
       "      <td>4667</td>\n",
       "    </tr>\n",
       "    <tr>\n",
       "      <th>3</th>\n",
       "      <td>1686</td>\n",
       "      <td>1686</td>\n",
       "      <td>1686</td>\n",
       "      <td>626</td>\n",
       "      <td>683</td>\n",
       "      <td>910</td>\n",
       "      <td>1686</td>\n",
       "      <td>1686</td>\n",
       "      <td>1686</td>\n",
       "      <td>1658</td>\n",
       "      <td>...</td>\n",
       "      <td>1632</td>\n",
       "      <td>1659</td>\n",
       "      <td>1650</td>\n",
       "      <td>630</td>\n",
       "      <td>620</td>\n",
       "      <td>629</td>\n",
       "      <td>630</td>\n",
       "      <td>1643</td>\n",
       "      <td>1643</td>\n",
       "      <td>1686</td>\n",
       "    </tr>\n",
       "    <tr>\n",
       "      <th>4</th>\n",
       "      <td>1413</td>\n",
       "      <td>1413</td>\n",
       "      <td>1413</td>\n",
       "      <td>596</td>\n",
       "      <td>663</td>\n",
       "      <td>846</td>\n",
       "      <td>1413</td>\n",
       "      <td>1413</td>\n",
       "      <td>1413</td>\n",
       "      <td>1388</td>\n",
       "      <td>...</td>\n",
       "      <td>1391</td>\n",
       "      <td>1393</td>\n",
       "      <td>1397</td>\n",
       "      <td>596</td>\n",
       "      <td>593</td>\n",
       "      <td>596</td>\n",
       "      <td>596</td>\n",
       "      <td>1388</td>\n",
       "      <td>1388</td>\n",
       "      <td>1413</td>\n",
       "    </tr>\n",
       "    <tr>\n",
       "      <th>5</th>\n",
       "      <td>2558</td>\n",
       "      <td>2558</td>\n",
       "      <td>2558</td>\n",
       "      <td>792</td>\n",
       "      <td>872</td>\n",
       "      <td>1144</td>\n",
       "      <td>2558</td>\n",
       "      <td>2558</td>\n",
       "      <td>2558</td>\n",
       "      <td>2473</td>\n",
       "      <td>...</td>\n",
       "      <td>2468</td>\n",
       "      <td>2435</td>\n",
       "      <td>2309</td>\n",
       "      <td>797</td>\n",
       "      <td>778</td>\n",
       "      <td>791</td>\n",
       "      <td>797</td>\n",
       "      <td>2436</td>\n",
       "      <td>2436</td>\n",
       "      <td>2558</td>\n",
       "    </tr>\n",
       "    <tr>\n",
       "      <th>6</th>\n",
       "      <td>12485</td>\n",
       "      <td>12485</td>\n",
       "      <td>12485</td>\n",
       "      <td>2524</td>\n",
       "      <td>10580</td>\n",
       "      <td>11904</td>\n",
       "      <td>12485</td>\n",
       "      <td>12485</td>\n",
       "      <td>12485</td>\n",
       "      <td>10493</td>\n",
       "      <td>...</td>\n",
       "      <td>11902</td>\n",
       "      <td>11900</td>\n",
       "      <td>11990</td>\n",
       "      <td>2536</td>\n",
       "      <td>2488</td>\n",
       "      <td>2526</td>\n",
       "      <td>2536</td>\n",
       "      <td>11883</td>\n",
       "      <td>11883</td>\n",
       "      <td>12485</td>\n",
       "    </tr>\n",
       "    <tr>\n",
       "      <th>7</th>\n",
       "      <td>12934</td>\n",
       "      <td>12934</td>\n",
       "      <td>12934</td>\n",
       "      <td>3678</td>\n",
       "      <td>7970</td>\n",
       "      <td>12214</td>\n",
       "      <td>12934</td>\n",
       "      <td>12934</td>\n",
       "      <td>12934</td>\n",
       "      <td>12861</td>\n",
       "      <td>...</td>\n",
       "      <td>12725</td>\n",
       "      <td>12835</td>\n",
       "      <td>12870</td>\n",
       "      <td>3693</td>\n",
       "      <td>3591</td>\n",
       "      <td>3672</td>\n",
       "      <td>3693</td>\n",
       "      <td>12833</td>\n",
       "      <td>12833</td>\n",
       "      <td>12934</td>\n",
       "    </tr>\n",
       "    <tr>\n",
       "      <th>8</th>\n",
       "      <td>2437</td>\n",
       "      <td>2437</td>\n",
       "      <td>2437</td>\n",
       "      <td>1406</td>\n",
       "      <td>1280</td>\n",
       "      <td>1783</td>\n",
       "      <td>2437</td>\n",
       "      <td>2437</td>\n",
       "      <td>2437</td>\n",
       "      <td>2380</td>\n",
       "      <td>...</td>\n",
       "      <td>2367</td>\n",
       "      <td>2376</td>\n",
       "      <td>2371</td>\n",
       "      <td>1413</td>\n",
       "      <td>1375</td>\n",
       "      <td>1401</td>\n",
       "      <td>1412</td>\n",
       "      <td>2372</td>\n",
       "      <td>2372</td>\n",
       "      <td>2437</td>\n",
       "    </tr>\n",
       "    <tr>\n",
       "      <th>9</th>\n",
       "      <td>8965</td>\n",
       "      <td>8965</td>\n",
       "      <td>8965</td>\n",
       "      <td>6351</td>\n",
       "      <td>5120</td>\n",
       "      <td>7548</td>\n",
       "      <td>8965</td>\n",
       "      <td>8965</td>\n",
       "      <td>8965</td>\n",
       "      <td>8864</td>\n",
       "      <td>...</td>\n",
       "      <td>8782</td>\n",
       "      <td>8850</td>\n",
       "      <td>8518</td>\n",
       "      <td>6357</td>\n",
       "      <td>6286</td>\n",
       "      <td>6333</td>\n",
       "      <td>6357</td>\n",
       "      <td>8874</td>\n",
       "      <td>8874</td>\n",
       "      <td>8965</td>\n",
       "    </tr>\n",
       "    <tr>\n",
       "      <th>10</th>\n",
       "      <td>25071</td>\n",
       "      <td>25071</td>\n",
       "      <td>25071</td>\n",
       "      <td>19709</td>\n",
       "      <td>15748</td>\n",
       "      <td>23625</td>\n",
       "      <td>25071</td>\n",
       "      <td>25071</td>\n",
       "      <td>25071</td>\n",
       "      <td>24951</td>\n",
       "      <td>...</td>\n",
       "      <td>24269</td>\n",
       "      <td>24709</td>\n",
       "      <td>24604</td>\n",
       "      <td>19721</td>\n",
       "      <td>19152</td>\n",
       "      <td>19653</td>\n",
       "      <td>19720</td>\n",
       "      <td>24808</td>\n",
       "      <td>24808</td>\n",
       "      <td>25071</td>\n",
       "    </tr>\n",
       "    <tr>\n",
       "      <th>11</th>\n",
       "      <td>28158</td>\n",
       "      <td>28158</td>\n",
       "      <td>28158</td>\n",
       "      <td>21800</td>\n",
       "      <td>16938</td>\n",
       "      <td>25906</td>\n",
       "      <td>28158</td>\n",
       "      <td>28158</td>\n",
       "      <td>28158</td>\n",
       "      <td>27337</td>\n",
       "      <td>...</td>\n",
       "      <td>25366</td>\n",
       "      <td>26918</td>\n",
       "      <td>27190</td>\n",
       "      <td>21806</td>\n",
       "      <td>19874</td>\n",
       "      <td>21566</td>\n",
       "      <td>21806</td>\n",
       "      <td>27291</td>\n",
       "      <td>27291</td>\n",
       "      <td>28158</td>\n",
       "    </tr>\n",
       "    <tr>\n",
       "      <th>12</th>\n",
       "      <td>20866</td>\n",
       "      <td>20866</td>\n",
       "      <td>20866</td>\n",
       "      <td>14486</td>\n",
       "      <td>16123</td>\n",
       "      <td>20512</td>\n",
       "      <td>20866</td>\n",
       "      <td>20866</td>\n",
       "      <td>20866</td>\n",
       "      <td>20786</td>\n",
       "      <td>...</td>\n",
       "      <td>17311</td>\n",
       "      <td>19543</td>\n",
       "      <td>20792</td>\n",
       "      <td>14498</td>\n",
       "      <td>11495</td>\n",
       "      <td>14119</td>\n",
       "      <td>14498</td>\n",
       "      <td>20083</td>\n",
       "      <td>20083</td>\n",
       "      <td>20866</td>\n",
       "    </tr>\n",
       "  </tbody>\n",
       "</table>\n",
       "<p>12 rows × 21 columns</p>\n",
       "</div>"
      ],
      "text/plain": [
       "       Contact_ID  Int_Name  Admit_Type  Ethnic_Group  Ethnicity  Gender  \\\n",
       "MONTH                                                                      \n",
       "1            3503      3503        3503           928       2269    2539   \n",
       "2            4667      4667        4667          1115       3184    3497   \n",
       "3            1686      1686        1686           626        683     910   \n",
       "4            1413      1413        1413           596        663     846   \n",
       "5            2558      2558        2558           792        872    1144   \n",
       "6           12485     12485       12485          2524      10580   11904   \n",
       "7           12934     12934       12934          3678       7970   12214   \n",
       "8            2437      2437        2437          1406       1280    1783   \n",
       "9            8965      8965        8965          6351       5120    7548   \n",
       "10          25071     25071       25071         19709      15748   23625   \n",
       "11          28158     28158       28158         21800      16938   25906   \n",
       "12          20866     20866       20866         14486      16123   20512   \n",
       "\n",
       "        Term  Lead_Source  Create_Date  Mailing_Street  ...    Mailing_State  \\\n",
       "MONTH                                                   ...                    \n",
       "1       3503         3503         3503            3410  ...             3380   \n",
       "2       4667         4667         4667            4575  ...             4551   \n",
       "3       1686         1686         1686            1658  ...             1632   \n",
       "4       1413         1413         1413            1388  ...             1391   \n",
       "5       2558         2558         2558            2473  ...             2468   \n",
       "6      12485        12485        12485           10493  ...            11902   \n",
       "7      12934        12934        12934           12861  ...            12725   \n",
       "8       2437         2437         2437            2380  ...             2367   \n",
       "9       8965         8965         8965            8864  ...             8782   \n",
       "10     25071        25071        25071           24951  ...            24269   \n",
       "11     28158        28158        28158           27337  ...            25366   \n",
       "12     20866        20866        20866           20786  ...            17311   \n",
       "\n",
       "       Mailing_Postal  Mailing_Country  Other_City  Other_State  Other_Postal  \\\n",
       "MONTH                                                                           \n",
       "1                3428             3481         936          922           930   \n",
       "2                4591             4641        1119         1112          1116   \n",
       "3                1659             1650         630          620           629   \n",
       "4                1393             1397         596          593           596   \n",
       "5                2435             2309         797          778           791   \n",
       "6               11900            11990        2536         2488          2526   \n",
       "7               12835            12870        3693         3591          3672   \n",
       "8                2376             2371        1413         1375          1401   \n",
       "9                8850             8518        6357         6286          6333   \n",
       "10              24709            24604       19721        19152         19653   \n",
       "11              26918            27190       21806        19874         21566   \n",
       "12              19543            20792       14498        11495         14119   \n",
       "\n",
       "       Mailing_Country  Market_Segment_Code  Market_Segment   YEAR  \n",
       "MONTH                                                               \n",
       "1                  936                 3440            3440   3503  \n",
       "2                 1119                 4583            4583   4667  \n",
       "3                  630                 1643            1643   1686  \n",
       "4                  596                 1388            1388   1413  \n",
       "5                  797                 2436            2436   2558  \n",
       "6                 2536                11883           11883  12485  \n",
       "7                 3693                12833           12833  12934  \n",
       "8                 1412                 2372            2372   2437  \n",
       "9                 6357                 8874            8874   8965  \n",
       "10               19720                24808           24808  25071  \n",
       "11               21806                27291           27291  28158  \n",
       "12               14498                20083           20083  20866  \n",
       "\n",
       "[12 rows x 21 columns]"
      ]
     },
     "execution_count": 270,
     "metadata": {},
     "output_type": "execute_result"
    }
   ],
   "source": [
    "g1"
   ]
  },
  {
   "cell_type": "code",
   "execution_count": 296,
   "metadata": {},
   "outputs": [
    {
     "data": {
      "text/plain": [
       "pandas.core.frame.DataFrame"
      ]
     },
     "execution_count": 296,
     "metadata": {},
     "output_type": "execute_result"
    }
   ],
   "source": [
    "type(g1)"
   ]
  },
  {
   "cell_type": "code",
   "execution_count": 297,
   "metadata": {},
   "outputs": [],
   "source": [
    "dict = {1:'JAN',2:'FEB',3:'MAR',4:'APR',5:'MAY',6:'JUN',7:'JUL',8:'AUG',9:'SEP',10:'OCT',11:'NOV',12:'DEC'}\n"
   ]
  },
  {
   "cell_type": "code",
   "execution_count": 298,
   "metadata": {},
   "outputs": [
    {
     "data": {
      "text/plain": [
       "{1: 'JAN',\n",
       " 2: 'FEB',\n",
       " 3: 'MAR',\n",
       " 4: 'APR',\n",
       " 5: 'MAY',\n",
       " 6: 'JUN',\n",
       " 7: 'JUL',\n",
       " 8: 'AUG',\n",
       " 9: 'SEP',\n",
       " 10: 'OCT',\n",
       " 11: 'NOV',\n",
       " 12: 'DEC'}"
      ]
     },
     "execution_count": 298,
     "metadata": {},
     "output_type": "execute_result"
    }
   ],
   "source": [
    "dict"
   ]
  },
  {
   "cell_type": "code",
   "execution_count": 304,
   "metadata": {},
   "outputs": [],
   "source": [
    "g1 ['m'] = g1['month'].map(dict)"
   ]
  },
  {
   "cell_type": "code",
   "execution_count": 305,
   "metadata": {},
   "outputs": [
    {
     "data": {
      "text/html": [
       "<div>\n",
       "<style scoped>\n",
       "    .dataframe tbody tr th:only-of-type {\n",
       "        vertical-align: middle;\n",
       "    }\n",
       "\n",
       "    .dataframe tbody tr th {\n",
       "        vertical-align: top;\n",
       "    }\n",
       "\n",
       "    .dataframe thead th {\n",
       "        text-align: right;\n",
       "    }\n",
       "</style>\n",
       "<table border=\"1\" class=\"dataframe\">\n",
       "  <thead>\n",
       "    <tr style=\"text-align: right;\">\n",
       "      <th></th>\n",
       "      <th>Contact_ID</th>\n",
       "      <th>Int_Name</th>\n",
       "      <th>Admit_Type</th>\n",
       "      <th>Ethnic_Group</th>\n",
       "      <th>Ethnicity</th>\n",
       "      <th>Gender</th>\n",
       "      <th>Term</th>\n",
       "      <th>Lead_Source</th>\n",
       "      <th>Create_Date</th>\n",
       "      <th>Mailing_Street</th>\n",
       "      <th>...</th>\n",
       "      <th>Other_City</th>\n",
       "      <th>Other_State</th>\n",
       "      <th>Other_Postal</th>\n",
       "      <th>Mailing_Country</th>\n",
       "      <th>Market_Segment_Code</th>\n",
       "      <th>Market_Segment</th>\n",
       "      <th>YEAR</th>\n",
       "      <th>month</th>\n",
       "      <th>mnth</th>\n",
       "      <th>m</th>\n",
       "    </tr>\n",
       "    <tr>\n",
       "      <th>MONTH</th>\n",
       "      <th></th>\n",
       "      <th></th>\n",
       "      <th></th>\n",
       "      <th></th>\n",
       "      <th></th>\n",
       "      <th></th>\n",
       "      <th></th>\n",
       "      <th></th>\n",
       "      <th></th>\n",
       "      <th></th>\n",
       "      <th></th>\n",
       "      <th></th>\n",
       "      <th></th>\n",
       "      <th></th>\n",
       "      <th></th>\n",
       "      <th></th>\n",
       "      <th></th>\n",
       "      <th></th>\n",
       "      <th></th>\n",
       "      <th></th>\n",
       "      <th></th>\n",
       "    </tr>\n",
       "  </thead>\n",
       "  <tbody>\n",
       "    <tr>\n",
       "      <th>1</th>\n",
       "      <td>3503</td>\n",
       "      <td>3503</td>\n",
       "      <td>3503</td>\n",
       "      <td>928</td>\n",
       "      <td>2269</td>\n",
       "      <td>2539</td>\n",
       "      <td>3503</td>\n",
       "      <td>3503</td>\n",
       "      <td>3503</td>\n",
       "      <td>3410</td>\n",
       "      <td>...</td>\n",
       "      <td>936</td>\n",
       "      <td>922</td>\n",
       "      <td>930</td>\n",
       "      <td>936</td>\n",
       "      <td>3440</td>\n",
       "      <td>3440</td>\n",
       "      <td>3503</td>\n",
       "      <td>1</td>\n",
       "      <td>JAN</td>\n",
       "      <td>JAN</td>\n",
       "    </tr>\n",
       "    <tr>\n",
       "      <th>2</th>\n",
       "      <td>4667</td>\n",
       "      <td>4667</td>\n",
       "      <td>4667</td>\n",
       "      <td>1115</td>\n",
       "      <td>3184</td>\n",
       "      <td>3497</td>\n",
       "      <td>4667</td>\n",
       "      <td>4667</td>\n",
       "      <td>4667</td>\n",
       "      <td>4575</td>\n",
       "      <td>...</td>\n",
       "      <td>1119</td>\n",
       "      <td>1112</td>\n",
       "      <td>1116</td>\n",
       "      <td>1119</td>\n",
       "      <td>4583</td>\n",
       "      <td>4583</td>\n",
       "      <td>4667</td>\n",
       "      <td>2</td>\n",
       "      <td>FEB</td>\n",
       "      <td>FEB</td>\n",
       "    </tr>\n",
       "    <tr>\n",
       "      <th>3</th>\n",
       "      <td>1686</td>\n",
       "      <td>1686</td>\n",
       "      <td>1686</td>\n",
       "      <td>626</td>\n",
       "      <td>683</td>\n",
       "      <td>910</td>\n",
       "      <td>1686</td>\n",
       "      <td>1686</td>\n",
       "      <td>1686</td>\n",
       "      <td>1658</td>\n",
       "      <td>...</td>\n",
       "      <td>630</td>\n",
       "      <td>620</td>\n",
       "      <td>629</td>\n",
       "      <td>630</td>\n",
       "      <td>1643</td>\n",
       "      <td>1643</td>\n",
       "      <td>1686</td>\n",
       "      <td>3</td>\n",
       "      <td>MAR</td>\n",
       "      <td>MAR</td>\n",
       "    </tr>\n",
       "    <tr>\n",
       "      <th>4</th>\n",
       "      <td>1413</td>\n",
       "      <td>1413</td>\n",
       "      <td>1413</td>\n",
       "      <td>596</td>\n",
       "      <td>663</td>\n",
       "      <td>846</td>\n",
       "      <td>1413</td>\n",
       "      <td>1413</td>\n",
       "      <td>1413</td>\n",
       "      <td>1388</td>\n",
       "      <td>...</td>\n",
       "      <td>596</td>\n",
       "      <td>593</td>\n",
       "      <td>596</td>\n",
       "      <td>596</td>\n",
       "      <td>1388</td>\n",
       "      <td>1388</td>\n",
       "      <td>1413</td>\n",
       "      <td>4</td>\n",
       "      <td>APR</td>\n",
       "      <td>APR</td>\n",
       "    </tr>\n",
       "    <tr>\n",
       "      <th>5</th>\n",
       "      <td>2558</td>\n",
       "      <td>2558</td>\n",
       "      <td>2558</td>\n",
       "      <td>792</td>\n",
       "      <td>872</td>\n",
       "      <td>1144</td>\n",
       "      <td>2558</td>\n",
       "      <td>2558</td>\n",
       "      <td>2558</td>\n",
       "      <td>2473</td>\n",
       "      <td>...</td>\n",
       "      <td>797</td>\n",
       "      <td>778</td>\n",
       "      <td>791</td>\n",
       "      <td>797</td>\n",
       "      <td>2436</td>\n",
       "      <td>2436</td>\n",
       "      <td>2558</td>\n",
       "      <td>5</td>\n",
       "      <td>MAY</td>\n",
       "      <td>MAY</td>\n",
       "    </tr>\n",
       "    <tr>\n",
       "      <th>6</th>\n",
       "      <td>12485</td>\n",
       "      <td>12485</td>\n",
       "      <td>12485</td>\n",
       "      <td>2524</td>\n",
       "      <td>10580</td>\n",
       "      <td>11904</td>\n",
       "      <td>12485</td>\n",
       "      <td>12485</td>\n",
       "      <td>12485</td>\n",
       "      <td>10493</td>\n",
       "      <td>...</td>\n",
       "      <td>2536</td>\n",
       "      <td>2488</td>\n",
       "      <td>2526</td>\n",
       "      <td>2536</td>\n",
       "      <td>11883</td>\n",
       "      <td>11883</td>\n",
       "      <td>12485</td>\n",
       "      <td>6</td>\n",
       "      <td>JUN</td>\n",
       "      <td>JUN</td>\n",
       "    </tr>\n",
       "    <tr>\n",
       "      <th>7</th>\n",
       "      <td>12934</td>\n",
       "      <td>12934</td>\n",
       "      <td>12934</td>\n",
       "      <td>3678</td>\n",
       "      <td>7970</td>\n",
       "      <td>12214</td>\n",
       "      <td>12934</td>\n",
       "      <td>12934</td>\n",
       "      <td>12934</td>\n",
       "      <td>12861</td>\n",
       "      <td>...</td>\n",
       "      <td>3693</td>\n",
       "      <td>3591</td>\n",
       "      <td>3672</td>\n",
       "      <td>3693</td>\n",
       "      <td>12833</td>\n",
       "      <td>12833</td>\n",
       "      <td>12934</td>\n",
       "      <td>7</td>\n",
       "      <td>JUL</td>\n",
       "      <td>JUL</td>\n",
       "    </tr>\n",
       "    <tr>\n",
       "      <th>8</th>\n",
       "      <td>2437</td>\n",
       "      <td>2437</td>\n",
       "      <td>2437</td>\n",
       "      <td>1406</td>\n",
       "      <td>1280</td>\n",
       "      <td>1783</td>\n",
       "      <td>2437</td>\n",
       "      <td>2437</td>\n",
       "      <td>2437</td>\n",
       "      <td>2380</td>\n",
       "      <td>...</td>\n",
       "      <td>1413</td>\n",
       "      <td>1375</td>\n",
       "      <td>1401</td>\n",
       "      <td>1412</td>\n",
       "      <td>2372</td>\n",
       "      <td>2372</td>\n",
       "      <td>2437</td>\n",
       "      <td>8</td>\n",
       "      <td>AUG</td>\n",
       "      <td>AUG</td>\n",
       "    </tr>\n",
       "    <tr>\n",
       "      <th>9</th>\n",
       "      <td>8965</td>\n",
       "      <td>8965</td>\n",
       "      <td>8965</td>\n",
       "      <td>6351</td>\n",
       "      <td>5120</td>\n",
       "      <td>7548</td>\n",
       "      <td>8965</td>\n",
       "      <td>8965</td>\n",
       "      <td>8965</td>\n",
       "      <td>8864</td>\n",
       "      <td>...</td>\n",
       "      <td>6357</td>\n",
       "      <td>6286</td>\n",
       "      <td>6333</td>\n",
       "      <td>6357</td>\n",
       "      <td>8874</td>\n",
       "      <td>8874</td>\n",
       "      <td>8965</td>\n",
       "      <td>9</td>\n",
       "      <td>SEP</td>\n",
       "      <td>SEP</td>\n",
       "    </tr>\n",
       "    <tr>\n",
       "      <th>10</th>\n",
       "      <td>25071</td>\n",
       "      <td>25071</td>\n",
       "      <td>25071</td>\n",
       "      <td>19709</td>\n",
       "      <td>15748</td>\n",
       "      <td>23625</td>\n",
       "      <td>25071</td>\n",
       "      <td>25071</td>\n",
       "      <td>25071</td>\n",
       "      <td>24951</td>\n",
       "      <td>...</td>\n",
       "      <td>19721</td>\n",
       "      <td>19152</td>\n",
       "      <td>19653</td>\n",
       "      <td>19720</td>\n",
       "      <td>24808</td>\n",
       "      <td>24808</td>\n",
       "      <td>25071</td>\n",
       "      <td>10</td>\n",
       "      <td>OCT</td>\n",
       "      <td>OCT</td>\n",
       "    </tr>\n",
       "    <tr>\n",
       "      <th>11</th>\n",
       "      <td>28158</td>\n",
       "      <td>28158</td>\n",
       "      <td>28158</td>\n",
       "      <td>21800</td>\n",
       "      <td>16938</td>\n",
       "      <td>25906</td>\n",
       "      <td>28158</td>\n",
       "      <td>28158</td>\n",
       "      <td>28158</td>\n",
       "      <td>27337</td>\n",
       "      <td>...</td>\n",
       "      <td>21806</td>\n",
       "      <td>19874</td>\n",
       "      <td>21566</td>\n",
       "      <td>21806</td>\n",
       "      <td>27291</td>\n",
       "      <td>27291</td>\n",
       "      <td>28158</td>\n",
       "      <td>11</td>\n",
       "      <td>NOV</td>\n",
       "      <td>NOV</td>\n",
       "    </tr>\n",
       "    <tr>\n",
       "      <th>12</th>\n",
       "      <td>20866</td>\n",
       "      <td>20866</td>\n",
       "      <td>20866</td>\n",
       "      <td>14486</td>\n",
       "      <td>16123</td>\n",
       "      <td>20512</td>\n",
       "      <td>20866</td>\n",
       "      <td>20866</td>\n",
       "      <td>20866</td>\n",
       "      <td>20786</td>\n",
       "      <td>...</td>\n",
       "      <td>14498</td>\n",
       "      <td>11495</td>\n",
       "      <td>14119</td>\n",
       "      <td>14498</td>\n",
       "      <td>20083</td>\n",
       "      <td>20083</td>\n",
       "      <td>20866</td>\n",
       "      <td>12</td>\n",
       "      <td>DEC</td>\n",
       "      <td>DEC</td>\n",
       "    </tr>\n",
       "  </tbody>\n",
       "</table>\n",
       "<p>12 rows × 24 columns</p>\n",
       "</div>"
      ],
      "text/plain": [
       "       Contact_ID  Int_Name  Admit_Type  Ethnic_Group  Ethnicity  Gender  \\\n",
       "MONTH                                                                      \n",
       "1            3503      3503        3503           928       2269    2539   \n",
       "2            4667      4667        4667          1115       3184    3497   \n",
       "3            1686      1686        1686           626        683     910   \n",
       "4            1413      1413        1413           596        663     846   \n",
       "5            2558      2558        2558           792        872    1144   \n",
       "6           12485     12485       12485          2524      10580   11904   \n",
       "7           12934     12934       12934          3678       7970   12214   \n",
       "8            2437      2437        2437          1406       1280    1783   \n",
       "9            8965      8965        8965          6351       5120    7548   \n",
       "10          25071     25071       25071         19709      15748   23625   \n",
       "11          28158     28158       28158         21800      16938   25906   \n",
       "12          20866     20866       20866         14486      16123   20512   \n",
       "\n",
       "        Term  Lead_Source  Create_Date  Mailing_Street ...   Other_City  \\\n",
       "MONTH                                                  ...                \n",
       "1       3503         3503         3503            3410 ...          936   \n",
       "2       4667         4667         4667            4575 ...         1119   \n",
       "3       1686         1686         1686            1658 ...          630   \n",
       "4       1413         1413         1413            1388 ...          596   \n",
       "5       2558         2558         2558            2473 ...          797   \n",
       "6      12485        12485        12485           10493 ...         2536   \n",
       "7      12934        12934        12934           12861 ...         3693   \n",
       "8       2437         2437         2437            2380 ...         1413   \n",
       "9       8965         8965         8965            8864 ...         6357   \n",
       "10     25071        25071        25071           24951 ...        19721   \n",
       "11     28158        28158        28158           27337 ...        21806   \n",
       "12     20866        20866        20866           20786 ...        14498   \n",
       "\n",
       "       Other_State  Other_Postal  Mailing_Country  Market_Segment_Code  \\\n",
       "MONTH                                                                    \n",
       "1              922           930              936                 3440   \n",
       "2             1112          1116             1119                 4583   \n",
       "3              620           629              630                 1643   \n",
       "4              593           596              596                 1388   \n",
       "5              778           791              797                 2436   \n",
       "6             2488          2526             2536                11883   \n",
       "7             3591          3672             3693                12833   \n",
       "8             1375          1401             1412                 2372   \n",
       "9             6286          6333             6357                 8874   \n",
       "10           19152         19653            19720                24808   \n",
       "11           19874         21566            21806                27291   \n",
       "12           11495         14119            14498                20083   \n",
       "\n",
       "       Market_Segment   YEAR  month  mnth    m  \n",
       "MONTH                                           \n",
       "1                3440   3503      1   JAN  JAN  \n",
       "2                4583   4667      2   FEB  FEB  \n",
       "3                1643   1686      3   MAR  MAR  \n",
       "4                1388   1413      4   APR  APR  \n",
       "5                2436   2558      5   MAY  MAY  \n",
       "6               11883  12485      6   JUN  JUN  \n",
       "7               12833  12934      7   JUL  JUL  \n",
       "8                2372   2437      8   AUG  AUG  \n",
       "9                8874   8965      9   SEP  SEP  \n",
       "10              24808  25071     10   OCT  OCT  \n",
       "11              27291  28158     11   NOV  NOV  \n",
       "12              20083  20866     12   DEC  DEC  \n",
       "\n",
       "[12 rows x 24 columns]"
      ]
     },
     "execution_count": 305,
     "metadata": {},
     "output_type": "execute_result"
    }
   ],
   "source": [
    "g1"
   ]
  },
  {
   "cell_type": "code",
   "execution_count": 326,
   "metadata": {},
   "outputs": [],
   "source": [
    "g2 = g1[['m','Contact_ID']]"
   ]
  },
  {
   "cell_type": "code",
   "execution_count": 327,
   "metadata": {},
   "outputs": [
    {
     "data": {
      "text/html": [
       "<div>\n",
       "<style scoped>\n",
       "    .dataframe tbody tr th:only-of-type {\n",
       "        vertical-align: middle;\n",
       "    }\n",
       "\n",
       "    .dataframe tbody tr th {\n",
       "        vertical-align: top;\n",
       "    }\n",
       "\n",
       "    .dataframe thead th {\n",
       "        text-align: right;\n",
       "    }\n",
       "</style>\n",
       "<table border=\"1\" class=\"dataframe\">\n",
       "  <thead>\n",
       "    <tr style=\"text-align: right;\">\n",
       "      <th></th>\n",
       "      <th>m</th>\n",
       "      <th>Contact_ID</th>\n",
       "    </tr>\n",
       "    <tr>\n",
       "      <th>MONTH</th>\n",
       "      <th></th>\n",
       "      <th></th>\n",
       "    </tr>\n",
       "  </thead>\n",
       "  <tbody>\n",
       "    <tr>\n",
       "      <th>1</th>\n",
       "      <td>JAN</td>\n",
       "      <td>3503</td>\n",
       "    </tr>\n",
       "    <tr>\n",
       "      <th>2</th>\n",
       "      <td>FEB</td>\n",
       "      <td>4667</td>\n",
       "    </tr>\n",
       "    <tr>\n",
       "      <th>3</th>\n",
       "      <td>MAR</td>\n",
       "      <td>1686</td>\n",
       "    </tr>\n",
       "    <tr>\n",
       "      <th>4</th>\n",
       "      <td>APR</td>\n",
       "      <td>1413</td>\n",
       "    </tr>\n",
       "    <tr>\n",
       "      <th>5</th>\n",
       "      <td>MAY</td>\n",
       "      <td>2558</td>\n",
       "    </tr>\n",
       "    <tr>\n",
       "      <th>6</th>\n",
       "      <td>JUN</td>\n",
       "      <td>12485</td>\n",
       "    </tr>\n",
       "    <tr>\n",
       "      <th>7</th>\n",
       "      <td>JUL</td>\n",
       "      <td>12934</td>\n",
       "    </tr>\n",
       "    <tr>\n",
       "      <th>8</th>\n",
       "      <td>AUG</td>\n",
       "      <td>2437</td>\n",
       "    </tr>\n",
       "    <tr>\n",
       "      <th>9</th>\n",
       "      <td>SEP</td>\n",
       "      <td>8965</td>\n",
       "    </tr>\n",
       "    <tr>\n",
       "      <th>10</th>\n",
       "      <td>OCT</td>\n",
       "      <td>25071</td>\n",
       "    </tr>\n",
       "    <tr>\n",
       "      <th>11</th>\n",
       "      <td>NOV</td>\n",
       "      <td>28158</td>\n",
       "    </tr>\n",
       "    <tr>\n",
       "      <th>12</th>\n",
       "      <td>DEC</td>\n",
       "      <td>20866</td>\n",
       "    </tr>\n",
       "  </tbody>\n",
       "</table>\n",
       "</div>"
      ],
      "text/plain": [
       "         m  Contact_ID\n",
       "MONTH                 \n",
       "1      JAN        3503\n",
       "2      FEB        4667\n",
       "3      MAR        1686\n",
       "4      APR        1413\n",
       "5      MAY        2558\n",
       "6      JUN       12485\n",
       "7      JUL       12934\n",
       "8      AUG        2437\n",
       "9      SEP        8965\n",
       "10     OCT       25071\n",
       "11     NOV       28158\n",
       "12     DEC       20866"
      ]
     },
     "execution_count": 327,
     "metadata": {},
     "output_type": "execute_result"
    }
   ],
   "source": [
    "g2"
   ]
  },
  {
   "cell_type": "code",
   "execution_count": 325,
   "metadata": {},
   "outputs": [
    {
     "data": {
      "text/plain": [
       "<matplotlib.axes._subplots.AxesSubplot at 0x253200ca6d8>"
      ]
     },
     "execution_count": 325,
     "metadata": {},
     "output_type": "execute_result"
    },
    {
     "data": {
      "image/png": "[encoded data removed]",
      "text/plain": [
       "<Figure size 432x288 with 1 Axes>"
      ]
     },
     "metadata": {},
     "output_type": "display_data"
    }
   ],
   "source": [
    "g2.plot()"
   ]
  },
  {
   "cell_type": "code",
   "execution_count": 332,
   "metadata": {},
   "outputs": [],
   "source": [
    "x = B4JAN16['Contact_ID'].value_counts().sum()"
   ]
  },
  {
   "cell_type": "code",
   "execution_count": 333,
   "metadata": {},
   "outputs": [
    {
     "data": {
      "text/plain": [
       "58733"
      ]
     },
     "execution_count": 333,
     "metadata": {},
     "output_type": "execute_result"
    }
   ],
   "source": [
    "x"
   ]
  },
  {
   "cell_type": "code",
   "execution_count": 334,
   "metadata": {},
   "outputs": [
    {
     "name": "stderr",
     "output_type": "stream",
     "text": [
      "C:\\Users\\mjc341\\AppData\\Local\\Continuum\\Anaconda3\\lib\\site-packages\\pandas\\core\\indexing.py:537: SettingWithCopyWarning: \n",
      "A value is trying to be set on a copy of a slice from a DataFrame.\n",
      "Try using .loc[row_indexer,col_indexer] = value instead\n",
      "\n",
      "See the caveats in the documentation: http://pandas.pydata.org/pandas-docs/stable/indexing.html#indexing-view-versus-copy\n",
      "  self.obj[item] = s\n"
     ]
    }
   ],
   "source": [
    "# create a function that calculates the running total or use running total fx in py\n",
    "g2.loc[ :,'runningtotal'] = g2['Contact_ID'] + x"
   ]
  },
  {
   "cell_type": "code",
   "execution_count": 335,
   "metadata": {},
   "outputs": [
    {
     "data": {
      "text/html": [
       "<div>\n",
       "<style scoped>\n",
       "    .dataframe tbody tr th:only-of-type {\n",
       "        vertical-align: middle;\n",
       "    }\n",
       "\n",
       "    .dataframe tbody tr th {\n",
       "        vertical-align: top;\n",
       "    }\n",
       "\n",
       "    .dataframe thead th {\n",
       "        text-align: right;\n",
       "    }\n",
       "</style>\n",
       "<table border=\"1\" class=\"dataframe\">\n",
       "  <thead>\n",
       "    <tr style=\"text-align: right;\">\n",
       "      <th></th>\n",
       "      <th>m</th>\n",
       "      <th>Contact_ID</th>\n",
       "      <th>runningtotal</th>\n",
       "    </tr>\n",
       "    <tr>\n",
       "      <th>MONTH</th>\n",
       "      <th></th>\n",
       "      <th></th>\n",
       "      <th></th>\n",
       "    </tr>\n",
       "  </thead>\n",
       "  <tbody>\n",
       "    <tr>\n",
       "      <th>1</th>\n",
       "      <td>JAN</td>\n",
       "      <td>3503</td>\n",
       "      <td>62236</td>\n",
       "    </tr>\n",
       "    <tr>\n",
       "      <th>2</th>\n",
       "      <td>FEB</td>\n",
       "      <td>4667</td>\n",
       "      <td>63400</td>\n",
       "    </tr>\n",
       "    <tr>\n",
       "      <th>3</th>\n",
       "      <td>MAR</td>\n",
       "      <td>1686</td>\n",
       "      <td>60419</td>\n",
       "    </tr>\n",
       "    <tr>\n",
       "      <th>4</th>\n",
       "      <td>APR</td>\n",
       "      <td>1413</td>\n",
       "      <td>60146</td>\n",
       "    </tr>\n",
       "    <tr>\n",
       "      <th>5</th>\n",
       "      <td>MAY</td>\n",
       "      <td>2558</td>\n",
       "      <td>61291</td>\n",
       "    </tr>\n",
       "    <tr>\n",
       "      <th>6</th>\n",
       "      <td>JUN</td>\n",
       "      <td>12485</td>\n",
       "      <td>71218</td>\n",
       "    </tr>\n",
       "    <tr>\n",
       "      <th>7</th>\n",
       "      <td>JUL</td>\n",
       "      <td>12934</td>\n",
       "      <td>71667</td>\n",
       "    </tr>\n",
       "    <tr>\n",
       "      <th>8</th>\n",
       "      <td>AUG</td>\n",
       "      <td>2437</td>\n",
       "      <td>61170</td>\n",
       "    </tr>\n",
       "    <tr>\n",
       "      <th>9</th>\n",
       "      <td>SEP</td>\n",
       "      <td>8965</td>\n",
       "      <td>67698</td>\n",
       "    </tr>\n",
       "    <tr>\n",
       "      <th>10</th>\n",
       "      <td>OCT</td>\n",
       "      <td>25071</td>\n",
       "      <td>83804</td>\n",
       "    </tr>\n",
       "    <tr>\n",
       "      <th>11</th>\n",
       "      <td>NOV</td>\n",
       "      <td>28158</td>\n",
       "      <td>86891</td>\n",
       "    </tr>\n",
       "    <tr>\n",
       "      <th>12</th>\n",
       "      <td>DEC</td>\n",
       "      <td>20866</td>\n",
       "      <td>79599</td>\n",
       "    </tr>\n",
       "  </tbody>\n",
       "</table>\n",
       "</div>"
      ],
      "text/plain": [
       "         m  Contact_ID  runningtotal\n",
       "MONTH                               \n",
       "1      JAN        3503         62236\n",
       "2      FEB        4667         63400\n",
       "3      MAR        1686         60419\n",
       "4      APR        1413         60146\n",
       "5      MAY        2558         61291\n",
       "6      JUN       12485         71218\n",
       "7      JUL       12934         71667\n",
       "8      AUG        2437         61170\n",
       "9      SEP        8965         67698\n",
       "10     OCT       25071         83804\n",
       "11     NOV       28158         86891\n",
       "12     DEC       20866         79599"
      ]
     },
     "execution_count": 335,
     "metadata": {},
     "output_type": "execute_result"
    }
   ],
   "source": [
    "g2"
   ]
  },
  {
   "cell_type": "code",
   "execution_count": 337,
   "metadata": {},
   "outputs": [
    {
     "data": {
      "text/html": [
       "<div>\n",
       "<style scoped>\n",
       "    .dataframe tbody tr th:only-of-type {\n",
       "        vertical-align: middle;\n",
       "    }\n",
       "\n",
       "    .dataframe tbody tr th {\n",
       "        vertical-align: top;\n",
       "    }\n",
       "\n",
       "    .dataframe thead th {\n",
       "        text-align: right;\n",
       "    }\n",
       "</style>\n",
       "<table border=\"1\" class=\"dataframe\">\n",
       "  <thead>\n",
       "    <tr style=\"text-align: right;\">\n",
       "      <th></th>\n",
       "      <th>Month</th>\n",
       "      <th>Count_ID</th>\n",
       "      <th>RUN_Total</th>\n",
       "    </tr>\n",
       "    <tr>\n",
       "      <th>MONTH</th>\n",
       "      <th></th>\n",
       "      <th></th>\n",
       "      <th></th>\n",
       "    </tr>\n",
       "  </thead>\n",
       "  <tbody>\n",
       "    <tr>\n",
       "      <th>1</th>\n",
       "      <td>JAN</td>\n",
       "      <td>3503</td>\n",
       "      <td>62236</td>\n",
       "    </tr>\n",
       "    <tr>\n",
       "      <th>2</th>\n",
       "      <td>FEB</td>\n",
       "      <td>4667</td>\n",
       "      <td>63400</td>\n",
       "    </tr>\n",
       "    <tr>\n",
       "      <th>3</th>\n",
       "      <td>MAR</td>\n",
       "      <td>1686</td>\n",
       "      <td>60419</td>\n",
       "    </tr>\n",
       "    <tr>\n",
       "      <th>4</th>\n",
       "      <td>APR</td>\n",
       "      <td>1413</td>\n",
       "      <td>60146</td>\n",
       "    </tr>\n",
       "    <tr>\n",
       "      <th>5</th>\n",
       "      <td>MAY</td>\n",
       "      <td>2558</td>\n",
       "      <td>61291</td>\n",
       "    </tr>\n",
       "    <tr>\n",
       "      <th>6</th>\n",
       "      <td>JUN</td>\n",
       "      <td>12485</td>\n",
       "      <td>71218</td>\n",
       "    </tr>\n",
       "    <tr>\n",
       "      <th>7</th>\n",
       "      <td>JUL</td>\n",
       "      <td>12934</td>\n",
       "      <td>71667</td>\n",
       "    </tr>\n",
       "    <tr>\n",
       "      <th>8</th>\n",
       "      <td>AUG</td>\n",
       "      <td>2437</td>\n",
       "      <td>61170</td>\n",
       "    </tr>\n",
       "    <tr>\n",
       "      <th>9</th>\n",
       "      <td>SEP</td>\n",
       "      <td>8965</td>\n",
       "      <td>67698</td>\n",
       "    </tr>\n",
       "    <tr>\n",
       "      <th>10</th>\n",
       "      <td>OCT</td>\n",
       "      <td>25071</td>\n",
       "      <td>83804</td>\n",
       "    </tr>\n",
       "    <tr>\n",
       "      <th>11</th>\n",
       "      <td>NOV</td>\n",
       "      <td>28158</td>\n",
       "      <td>86891</td>\n",
       "    </tr>\n",
       "    <tr>\n",
       "      <th>12</th>\n",
       "      <td>DEC</td>\n",
       "      <td>20866</td>\n",
       "      <td>79599</td>\n",
       "    </tr>\n",
       "  </tbody>\n",
       "</table>\n",
       "</div>"
      ],
      "text/plain": [
       "      Month  Count_ID  RUN_Total\n",
       "MONTH                           \n",
       "1       JAN      3503      62236\n",
       "2       FEB      4667      63400\n",
       "3       MAR      1686      60419\n",
       "4       APR      1413      60146\n",
       "5       MAY      2558      61291\n",
       "6       JUN     12485      71218\n",
       "7       JUL     12934      71667\n",
       "8       AUG      2437      61170\n",
       "9       SEP      8965      67698\n",
       "10      OCT     25071      83804\n",
       "11      NOV     28158      86891\n",
       "12      DEC     20866      79599"
      ]
     },
     "execution_count": 337,
     "metadata": {},
     "output_type": "execute_result"
    }
   ],
   "source": [
    "g2.rename(columns={ 'm':'Month', 'Contact_ID':'Count_ID', \n",
    "       'runningtotal':'RUN_Total'})"
   ]
  },
  {
   "cell_type": "code",
   "execution_count": null,
   "metadata": {},
   "outputs": [],
   "source": []
  },
  {
   "cell_type": "code",
   "execution_count": null,
   "metadata": {},
   "outputs": [],
   "source": []
  }
 ],
 "metadata": {
  "kernelspec": {
   "display_name": "Python [conda env:Anaconda3]",
   "language": "python",
   "name": "conda-env-Anaconda3-py"
  },
  "language_info": {
   "codemirror_mode": {
    "name": "ipython",
    "version": 3
   },
   "file_extension": ".py",
   "mimetype": "text/x-python",
   "name": "python",
   "nbconvert_exporter": "python",
   "pygments_lexer": "ipython3",
   "version": "3.6.5"
  }
 },
 "nbformat": 4,
 "nbformat_minor": 2
}
