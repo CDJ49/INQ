{
 "cells": [
  {
   "cell_type": "code",
   "execution_count": 73,
   "metadata": {},
   "outputs": [],
   "source": [
    "import numpy as np\n",
    "import pandas as pd\n",
    "import matplotlib.pyplot as plt\n",
    "import seaborn as sns\n",
    "%matplotlib inline"
   ]
  },
  {
   "cell_type": "code",
   "execution_count": 74,
   "metadata": {},
   "outputs": [],
   "source": [
    "#INT is the contact infromation for INTERACTIONS\n",
    "INT=pd.read_csv('C:/Users/mjc341/Desktop/UMAN 1507 Monthly INQ summary Report/Interactions.Contacts.csv',skipfooter=5,encoding='latin-1',engine ='python')\n"
   ]
  },
  {
   "cell_type": "code",
   "execution_count": 75,
   "metadata": {},
   "outputs": [],
   "source": [
    "#CON is the CONTACT TERM information\n",
    "CON=pd.read_csv('C:/Users/mjc341/Desktop/UMAN 1507 Monthly INQ summary Report/Interactions.Opportunity.Term.csv',skipfooter=5,encoding='latin-1',engine ='python')"
   ]
  },
  {
   "cell_type": "code",
   "execution_count": 76,
   "metadata": {},
   "outputs": [
    {
     "data": {
      "text/plain": [
       "1476708"
      ]
     },
     "execution_count": 76,
     "metadata": {},
     "output_type": "execute_result"
    }
   ],
   "source": [
    "len(INT)"
   ]
  },
  {
   "cell_type": "code",
   "execution_count": 77,
   "metadata": {},
   "outputs": [
    {
     "data": {
      "text/plain": [
       "818555"
      ]
     },
     "execution_count": 77,
     "metadata": {},
     "output_type": "execute_result"
    }
   ],
   "source": [
    "len(CON)"
   ]
  },
  {
   "cell_type": "code",
   "execution_count": 78,
   "metadata": {},
   "outputs": [
    {
     "name": "stdout",
     "output_type": "stream",
     "text": [
      "<class 'pandas.core.frame.DataFrame'>\n",
      "RangeIndex: 1476708 entries, 0 to 1476707\n",
      "Data columns (total 23 columns):\n",
      "Contact: Contact ID (18-digit)      1476708 non-null object\n",
      "Interaction: Interaction Name       1476708 non-null object\n",
      "Admit Type                          1476708 non-null object\n",
      "Contact: First Name                 1476701 non-null object\n",
      "Contact: Middle Name                902513 non-null object\n",
      "Contact: Last Name                  1476708 non-null object\n",
      "Contact: Ethnic Group               472134 non-null object\n",
      "Contact: Ethnicity                  1207596 non-null object\n",
      "Contact: Gender                     1374958 non-null object\n",
      "Term                                1470331 non-null object\n",
      "Lead Source                         1476550 non-null object\n",
      "Interaction: Created Date           1476708 non-null object\n",
      "Contact: Mailing Street             1441085 non-null object\n",
      "Contact: Mailing City               1450770 non-null object\n",
      "Contact: Mailing State/Province     1394534 non-null object\n",
      "Contact: Mailing Zip/Postal Code    1428272 non-null object\n",
      "Contact: Mailing Country            1440852 non-null object\n",
      "Contact: Other City                 560780 non-null object\n",
      "Contact: Other State/Province       511300 non-null object\n",
      "Contact: Other Zip/Postal Code      552667 non-null object\n",
      "Contact: Other Country              560769 non-null object\n",
      "Contact: Market Segment Code        1418614 non-null object\n",
      "Contact: Market Segment             1418614 non-null object\n",
      "dtypes: object(23)\n",
      "memory usage: 259.1+ MB\n"
     ]
    }
   ],
   "source": [
    "INT.info()"
   ]
  },
  {
   "cell_type": "code",
   "execution_count": 79,
   "metadata": {},
   "outputs": [
    {
     "data": {
      "text/plain": [
       "Index(['Contact: Contact ID (18-digit)', 'Interaction: Interaction Name',\n",
       "       'Admit Type', 'Contact: First Name', 'Contact: Middle Name',\n",
       "       'Contact: Last Name', 'Contact: Ethnic Group', 'Contact: Ethnicity',\n",
       "       'Contact: Gender', 'Term', 'Lead Source', 'Interaction: Created Date',\n",
       "       'Contact: Mailing Street', 'Contact: Mailing City',\n",
       "       'Contact: Mailing State/Province', 'Contact: Mailing Zip/Postal Code',\n",
       "       'Contact: Mailing Country', 'Contact: Other City',\n",
       "       'Contact: Other State/Province', 'Contact: Other Zip/Postal Code',\n",
       "       'Contact: Other Country', 'Contact: Market Segment Code',\n",
       "       'Contact: Market Segment'],\n",
       "      dtype='object')"
      ]
     },
     "execution_count": 79,
     "metadata": {},
     "output_type": "execute_result"
    }
   ],
   "source": [
    "INT.columns"
   ]
  },
  {
   "cell_type": "code",
   "execution_count": 80,
   "metadata": {},
   "outputs": [
    {
     "data": {
      "text/plain": [
       "Index(['Contact ID (18-digit)', 'Full Name', 'Opportunity Name',\n",
       "       'Term: Term Name', 'Opportunity Record Type', 'Inquiry', 'Inquiry Date',\n",
       "       'Opportunity ID (18-digit)', 'Empl ID', 'Application Number'],\n",
       "      dtype='object')"
      ]
     },
     "execution_count": 80,
     "metadata": {},
     "output_type": "execute_result"
    }
   ],
   "source": [
    "CON.columns"
   ]
  },
  {
   "cell_type": "code",
   "execution_count": 81,
   "metadata": {},
   "outputs": [
    {
     "name": "stdout",
     "output_type": "stream",
     "text": [
      "<class 'pandas.core.frame.DataFrame'>\n",
      "RangeIndex: 818555 entries, 0 to 818554\n",
      "Data columns (total 10 columns):\n",
      "Contact ID (18-digit)        818553 non-null object\n",
      "Full Name                    818553 non-null object\n",
      "Opportunity Name             818553 non-null object\n",
      "Term: Term Name              818109 non-null object\n",
      "Opportunity Record Type      818553 non-null object\n",
      "Inquiry                      818553 non-null float64\n",
      "Inquiry Date                 714291 non-null object\n",
      "Opportunity ID (18-digit)    818553 non-null object\n",
      "Empl ID                      218979 non-null float64\n",
      "Application Number           208095 non-null float64\n",
      "dtypes: float64(3), object(7)\n",
      "memory usage: 62.5+ MB\n"
     ]
    }
   ],
   "source": [
    "CON.info()"
   ]
  },
  {
   "cell_type": "code",
   "execution_count": 82,
   "metadata": {},
   "outputs": [],
   "source": [
    "CON = CON.drop(columns =['Full Name',])"
   ]
  },
  {
   "cell_type": "code",
   "execution_count": 83,
   "metadata": {},
   "outputs": [],
   "source": [
    "INT = INT.drop(columns= ['Contact: First Name', 'Contact: Middle Name',\n",
    "       'Contact: Last Name'])"
   ]
  },
  {
   "cell_type": "code",
   "execution_count": 84,
   "metadata": {},
   "outputs": [],
   "source": [
    "#changed the name of columns \n",
    "INT = INT.rename(columns ={'Contact: Contact ID (18-digit)':'Contact_ID','Interaction: Interaction Name':'Int_Name',\n",
    "       'Admit Type':'Admit_Type','Contact: Ethnic Group': 'Ethnic_Group', 'Contact: Ethnicity':'Ethnicity',\n",
    "       'Contact: Gender':'Gender', 'Term':'Term', 'Lead Source':'Lead_Source', 'Interaction: Created Date':'Create_Date',\n",
    "       'Contact: Mailing Street':'Mailing_Street', 'Contact: Mailing City':'Mailing_City',\n",
    "       'Contact: Mailing State/Province':'Mailing_State', 'Contact: Mailing Zip/Postal Code':'Mailing_Postal',\n",
    "       'Contact: Mailing Country':'Mailing_Country', 'Contact: Other City':'Other_City',\n",
    "       'Contact: Other State/Province':'Other_State', 'Contact: Other Zip/Postal Code':'Other_Postal',\n",
    "       'Contact: Other Country':'Mailing_Country', 'Contact: Market Segment Code':'Market_Segment_Code',\n",
    "       'Contact: Market Segment':'Market_Segment'},inplace =False)"
   ]
  },
  {
   "cell_type": "code",
   "execution_count": 86,
   "metadata": {},
   "outputs": [],
   "source": [
    "#changed the name of columns\n",
    "CON = CON.rename(columns={  'Contact ID (18-digit)':'Contact_ID', 'Opportunity Name':'OppName', \n",
    "       'Term: Term Name':'Term', 'Opportunity Record Type':'Record_Type', 'Inquiry':'Inquiry', 'Inquiry Date':'Inquiry_Date',\n",
    "       'Opportunity ID (18-digit)':'Opp_ID', 'Empl ID':'EMPL', 'Application Number':'App_Number'})"
   ]
  },
  {
   "cell_type": "code",
   "execution_count": 87,
   "metadata": {},
   "outputs": [
    {
     "name": "stdout",
     "output_type": "stream",
     "text": [
      "<class 'pandas.core.frame.DataFrame'>\n",
      "RangeIndex: 1476708 entries, 0 to 1476707\n",
      "Data columns (total 20 columns):\n",
      "Contact_ID             1476708 non-null object\n",
      "Int_Name               1476708 non-null object\n",
      "Admit_Type             1476708 non-null object\n",
      "Ethnic_Group           472134 non-null object\n",
      "Ethnicity              1207596 non-null object\n",
      "Gender                 1374958 non-null object\n",
      "Term                   1470331 non-null object\n",
      "Lead_Source            1476550 non-null object\n",
      "Create_Date            1476708 non-null object\n",
      "Mailing_Street         1441085 non-null object\n",
      "Mailing_City           1450770 non-null object\n",
      "Mailing_State          1394534 non-null object\n",
      "Mailing_Postal         1428272 non-null object\n",
      "Mailing_Country        1440852 non-null object\n",
      "Other_City             560780 non-null object\n",
      "Other_State            511300 non-null object\n",
      "Other_Postal           552667 non-null object\n",
      "Mailing_Country        560769 non-null object\n",
      "Market_Segment_Code    1418614 non-null object\n",
      "Market_Segment         1418614 non-null object\n",
      "dtypes: object(20)\n",
      "memory usage: 225.3+ MB\n"
     ]
    }
   ],
   "source": [
    "INT.info()"
   ]
  },
  {
   "cell_type": "code",
   "execution_count": 88,
   "metadata": {},
   "outputs": [
    {
     "name": "stdout",
     "output_type": "stream",
     "text": [
      "<class 'pandas.core.frame.DataFrame'>\n",
      "RangeIndex: 818555 entries, 0 to 818554\n",
      "Data columns (total 9 columns):\n",
      "Contact_ID      818553 non-null object\n",
      "OppName         818553 non-null object\n",
      "Term            818109 non-null object\n",
      "Record_Type     818553 non-null object\n",
      "Inquiry         818553 non-null float64\n",
      "Inquiry_Date    714291 non-null object\n",
      "Opp_ID          818553 non-null object\n",
      "EMPL            218979 non-null float64\n",
      "App_Number      208095 non-null float64\n",
      "dtypes: float64(3), object(6)\n",
      "memory usage: 56.2+ MB\n"
     ]
    }
   ],
   "source": [
    "CON.info()"
   ]
  },
  {
   "cell_type": "code",
   "execution_count": 70,
   "metadata": {},
   "outputs": [
    {
     "data": {
      "text/plain": [
       "Contact_ID             object\n",
       "Int_Name               object\n",
       "Admit_Type             object\n",
       "Ethnic_Group           object\n",
       "Ethnicity              object\n",
       "Gender                 object\n",
       "Term                   object\n",
       "Lead_Source            object\n",
       "Create_Date            object\n",
       "Mailing_Street         object\n",
       "Mailing_City           object\n",
       "Mailing_State          object\n",
       "Mailing_Postal         object\n",
       "Mailing_Country        object\n",
       "Other_City             object\n",
       "Other_State            object\n",
       "Other_Postal           object\n",
       "Mailing_Country        object\n",
       "Market_Segment_Code    object\n",
       "Market_Segment         object\n",
       "dtype: object"
      ]
     },
     "execution_count": 70,
     "metadata": {},
     "output_type": "execute_result"
    }
   ],
   "source": [
    "INT.dtypes"
   ]
  },
  {
   "cell_type": "code",
   "execution_count": 89,
   "metadata": {},
   "outputs": [],
   "source": [
    "#Sort INT by Contact_ID and Interaction Name\n",
    "INT = INT.sort_values(by = ['Contact_ID','Int_Name'])"
   ]
  },
  {
   "cell_type": "code",
   "execution_count": 90,
   "metadata": {},
   "outputs": [],
   "source": [
    "#Sort CON by Contact_ID and Opportunity Name\n",
    "CON = CON.sort_values(by = ['Contact_ID','OppName'])"
   ]
  },
  {
   "cell_type": "code",
   "execution_count": 91,
   "metadata": {},
   "outputs": [],
   "source": [
    "#Dropping the duplicates to then merge later\n",
    "CON=CON.drop_duplicates(['Contact_ID'], keep='first')"
   ]
  },
  {
   "cell_type": "code",
   "execution_count": 93,
   "metadata": {},
   "outputs": [
    {
     "data": {
      "text/plain": [
       "\" f,ax =plt.subplots(figsize = (10,8))\\nsns.countplot(x = 'Lead_Source', data =INT,color = 'powderblue')\\nplt.xticks(rotation = 90)\\nplt.title('Count of Contact by Lead Source', loc = 'center', size = 20)   \""
      ]
     },
     "execution_count": 93,
     "metadata": {},
     "output_type": "execute_result"
    }
   ],
   "source": [
    "\"\"\" f,ax =plt.subplots(figsize = (10,8))\n",
    "sns.countplot(x = 'Lead_Source', data =INT,color = 'powderblue')\n",
    "plt.xticks(rotation = 90)\n",
    "plt.title('Count of Contact by Lead Source', loc = 'center', size = 20)   \"\"\""
   ]
  },
  {
   "cell_type": "code",
   "execution_count": 95,
   "metadata": {},
   "outputs": [
    {
     "data": {
      "text/html": [
       "<div>\n",
       "<style scoped>\n",
       "    .dataframe tbody tr th:only-of-type {\n",
       "        vertical-align: middle;\n",
       "    }\n",
       "\n",
       "    .dataframe tbody tr th {\n",
       "        vertical-align: top;\n",
       "    }\n",
       "\n",
       "    .dataframe thead th {\n",
       "        text-align: right;\n",
       "    }\n",
       "</style>\n",
       "<table border=\"1\" class=\"dataframe\">\n",
       "  <thead>\n",
       "    <tr style=\"text-align: right;\">\n",
       "      <th></th>\n",
       "      <th>Contact_ID</th>\n",
       "      <th>Int_Name</th>\n",
       "      <th>Admit_Type</th>\n",
       "      <th>Ethnic_Group</th>\n",
       "      <th>Ethnicity</th>\n",
       "      <th>Gender</th>\n",
       "      <th>Term</th>\n",
       "      <th>Lead_Source</th>\n",
       "      <th>Create_Date</th>\n",
       "      <th>Mailing_Street</th>\n",
       "      <th>Mailing_City</th>\n",
       "      <th>Mailing_State</th>\n",
       "      <th>Mailing_Postal</th>\n",
       "      <th>Mailing_Country</th>\n",
       "      <th>Other_City</th>\n",
       "      <th>Other_State</th>\n",
       "      <th>Other_Postal</th>\n",
       "      <th>Mailing_Country</th>\n",
       "      <th>Market_Segment_Code</th>\n",
       "      <th>Market_Segment</th>\n",
       "    </tr>\n",
       "  </thead>\n",
       "  <tbody>\n",
       "    <tr>\n",
       "      <th>774326</th>\n",
       "      <td>0031500001d4Si8AAE</td>\n",
       "      <td>20160320-0100599</td>\n",
       "      <td>New Student</td>\n",
       "      <td>NaN</td>\n",
       "      <td>NaN</td>\n",
       "      <td>Female</td>\n",
       "      <td>Fall 2015</td>\n",
       "      <td>Purchased List</td>\n",
       "      <td>1/4/2013</td>\n",
       "      <td>12831 sw 43 dr</td>\n",
       "      <td>miami</td>\n",
       "      <td>FL</td>\n",
       "      <td>33175</td>\n",
       "      <td>United States</td>\n",
       "      <td>NaN</td>\n",
       "      <td>NaN</td>\n",
       "      <td>NaN</td>\n",
       "      <td>NaN</td>\n",
       "      <td>NaN</td>\n",
       "      <td>NaN</td>\n",
       "    </tr>\n",
       "  </tbody>\n",
       "</table>\n",
       "</div>"
      ],
      "text/plain": [
       "                Contact_ID          Int_Name   Admit_Type Ethnic_Group  \\\n",
       "774326  0031500001d4Si8AAE  20160320-0100599  New Student          NaN   \n",
       "\n",
       "       Ethnicity  Gender       Term     Lead_Source Create_Date  \\\n",
       "774326       NaN  Female  Fall 2015  Purchased List    1/4/2013   \n",
       "\n",
       "        Mailing_Street Mailing_City Mailing_State Mailing_Postal  \\\n",
       "774326  12831 sw 43 dr        miami            FL          33175   \n",
       "\n",
       "       Mailing_Country Other_City Other_State Other_Postal Mailing_Country  \\\n",
       "774326   United States        NaN         NaN          NaN             NaN   \n",
       "\n",
       "       Market_Segment_Code Market_Segment  \n",
       "774326                 NaN            NaN  "
      ]
     },
     "execution_count": 95,
     "metadata": {},
     "output_type": "execute_result"
    }
   ],
   "source": [
    "INT.head(1)"
   ]
  },
  {
   "cell_type": "code",
   "execution_count": 96,
   "metadata": {},
   "outputs": [],
   "source": [
    "INT['Create_Date']= pd.to_datetime(INT.Create_Date)"
   ]
  },
  {
   "cell_type": "code",
   "execution_count": 97,
   "metadata": {},
   "outputs": [
    {
     "data": {
      "text/plain": [
       "Contact_ID                     object\n",
       "Int_Name                       object\n",
       "Admit_Type                     object\n",
       "Ethnic_Group                   object\n",
       "Ethnicity                      object\n",
       "Gender                         object\n",
       "Term                           object\n",
       "Lead_Source                    object\n",
       "Create_Date            datetime64[ns]\n",
       "Mailing_Street                 object\n",
       "Mailing_City                   object\n",
       "Mailing_State                  object\n",
       "Mailing_Postal                 object\n",
       "Mailing_Country                object\n",
       "Other_City                     object\n",
       "Other_State                    object\n",
       "Other_Postal                   object\n",
       "Mailing_Country                object\n",
       "Market_Segment_Code            object\n",
       "Market_Segment                 object\n",
       "dtype: object"
      ]
     },
     "execution_count": 97,
     "metadata": {},
     "output_type": "execute_result"
    }
   ],
   "source": [
    "INT.dtypes"
   ]
  },
  {
   "cell_type": "code",
   "execution_count": 98,
   "metadata": {},
   "outputs": [
    {
     "data": {
      "text/plain": [
       "Timestamp('2001-08-06 00:00:00')"
      ]
     },
     "execution_count": 98,
     "metadata": {},
     "output_type": "execute_result"
    }
   ],
   "source": [
    "INT['Create_Date'].min()"
   ]
  },
  {
   "cell_type": "code",
   "execution_count": 102,
   "metadata": {},
   "outputs": [
    {
     "data": {
      "text/plain": [
       "774326    2013\n",
       "774924    2015\n",
       "Name: Create_Date, dtype: int64"
      ]
     },
     "execution_count": 102,
     "metadata": {},
     "output_type": "execute_result"
    }
   ],
   "source": [
    "INT.Create_Date.dt.year.head(2)\n"
   ]
  },
  {
   "cell_type": "code",
   "execution_count": 103,
   "metadata": {},
   "outputs": [
    {
     "data": {
      "text/plain": [
       "<matplotlib.axes._subplots.AxesSubplot at 0x2532024c6a0>"
      ]
     },
     "execution_count": 103,
     "metadata": {},
     "output_type": "execute_result"
    },
    {
     "data": {
      "image/png": "[encoded data removed]",
      "text/plain": [
       "<Figure size 432x288 with 1 Axes>"
      ]
     },
     "metadata": {},
     "output_type": "display_data"
    }
   ],
   "source": [
    "INT.Create_Date.dt.year.value_counts().sort_index().plot()"
   ]
  },
  {
   "cell_type": "code",
   "execution_count": 172,
   "metadata": {},
   "outputs": [],
   "source": [
    "#INT.Create_Date.dt.year.value_counts()"
   ]
  },
  {
   "cell_type": "code",
   "execution_count": 104,
   "metadata": {},
   "outputs": [
    {
     "data": {
      "text/plain": [
       "213569"
      ]
     },
     "execution_count": 104,
     "metadata": {},
     "output_type": "execute_result"
    }
   ],
   "source": [
    "INT2017 = INT.loc[(INT.Term == 'Fall 2017')]\n",
    "len(INT2017)"
   ]
  },
  {
   "cell_type": "code",
   "execution_count": 105,
   "metadata": {},
   "outputs": [
    {
     "data": {
      "text/html": [
       "<div>\n",
       "<style scoped>\n",
       "    .dataframe tbody tr th:only-of-type {\n",
       "        vertical-align: middle;\n",
       "    }\n",
       "\n",
       "    .dataframe tbody tr th {\n",
       "        vertical-align: top;\n",
       "    }\n",
       "\n",
       "    .dataframe thead th {\n",
       "        text-align: right;\n",
       "    }\n",
       "</style>\n",
       "<table border=\"1\" class=\"dataframe\">\n",
       "  <thead>\n",
       "    <tr style=\"text-align: right;\">\n",
       "      <th></th>\n",
       "      <th>Contact_ID</th>\n",
       "      <th>Int_Name</th>\n",
       "      <th>Admit_Type</th>\n",
       "      <th>Ethnic_Group</th>\n",
       "      <th>Ethnicity</th>\n",
       "      <th>Gender</th>\n",
       "      <th>Term</th>\n",
       "      <th>Lead_Source</th>\n",
       "      <th>Create_Date</th>\n",
       "      <th>Mailing_Street</th>\n",
       "      <th>Mailing_City</th>\n",
       "      <th>Mailing_State</th>\n",
       "      <th>Mailing_Postal</th>\n",
       "      <th>Mailing_Country</th>\n",
       "      <th>Other_City</th>\n",
       "      <th>Other_State</th>\n",
       "      <th>Other_Postal</th>\n",
       "      <th>Mailing_Country</th>\n",
       "      <th>Market_Segment_Code</th>\n",
       "      <th>Market_Segment</th>\n",
       "    </tr>\n",
       "  </thead>\n",
       "  <tbody>\n",
       "    <tr>\n",
       "      <th>774924</th>\n",
       "      <td>0031500001d4Si8AAE</td>\n",
       "      <td>20160320-1020622</td>\n",
       "      <td>New Student</td>\n",
       "      <td>NaN</td>\n",
       "      <td>NaN</td>\n",
       "      <td>Female</td>\n",
       "      <td>Fall 2017</td>\n",
       "      <td>College Fair</td>\n",
       "      <td>2015-11-19</td>\n",
       "      <td>12831 sw 43 dr</td>\n",
       "      <td>miami</td>\n",
       "      <td>FL</td>\n",
       "      <td>33175</td>\n",
       "      <td>United States</td>\n",
       "      <td>NaN</td>\n",
       "      <td>NaN</td>\n",
       "      <td>NaN</td>\n",
       "      <td>NaN</td>\n",
       "      <td>NaN</td>\n",
       "      <td>NaN</td>\n",
       "    </tr>\n",
       "  </tbody>\n",
       "</table>\n",
       "</div>"
      ],
      "text/plain": [
       "                Contact_ID          Int_Name   Admit_Type Ethnic_Group  \\\n",
       "774924  0031500001d4Si8AAE  20160320-1020622  New Student          NaN   \n",
       "\n",
       "       Ethnicity  Gender       Term   Lead_Source Create_Date  Mailing_Street  \\\n",
       "774924       NaN  Female  Fall 2017  College Fair  2015-11-19  12831 sw 43 dr   \n",
       "\n",
       "       Mailing_City Mailing_State Mailing_Postal Mailing_Country Other_City  \\\n",
       "774924        miami            FL          33175   United States        NaN   \n",
       "\n",
       "       Other_State Other_Postal Mailing_Country Market_Segment_Code  \\\n",
       "774924         NaN          NaN             NaN                 NaN   \n",
       "\n",
       "       Market_Segment  \n",
       "774924            NaN  "
      ]
     },
     "execution_count": 105,
     "metadata": {},
     "output_type": "execute_result"
    }
   ],
   "source": [
    "INT2017.head(1)"
   ]
  },
  {
   "cell_type": "code",
   "execution_count": 106,
   "metadata": {},
   "outputs": [
    {
     "data": {
      "text/plain": [
       "Index(['Contact_ID', 'Int_Name', 'Admit_Type', 'Ethnic_Group', 'Ethnicity',\n",
       "       'Gender', 'Term', 'Lead_Source', 'Create_Date', 'Mailing_Street',\n",
       "       'Mailing_City', 'Mailing_State', 'Mailing_Postal', 'Mailing_Country',\n",
       "       'Other_City', 'Other_State', 'Other_Postal', 'Mailing_Country',\n",
       "       'Market_Segment_Code', 'Market_Segment'],\n",
       "      dtype='object')"
      ]
     },
     "execution_count": 106,
     "metadata": {},
     "output_type": "execute_result"
    }
   ],
   "source": [
    "INT2017.columns"
   ]
  },
  {
   "cell_type": "code",
   "execution_count": 107,
   "metadata": {},
   "outputs": [],
   "source": [
    "tsprior = pd.Timestamp('1/1/2016', tz='US/Central')"
   ]
  },
  {
   "cell_type": "code",
   "execution_count": 108,
   "metadata": {},
   "outputs": [
    {
     "data": {
      "text/plain": [
       "Timestamp('2016-01-01 00:00:00-0600', tz='US/Central')"
      ]
     },
     "execution_count": 108,
     "metadata": {},
     "output_type": "execute_result"
    }
   ],
   "source": [
    "tsprior\n",
    "\n"
   ]
  },
  {
   "cell_type": "code",
   "execution_count": 109,
   "metadata": {},
   "outputs": [],
   "source": [
    "B4JAN16 = INT2017.loc[INT2017.Create_Date <= tsprior,:]"
   ]
  },
  {
   "cell_type": "code",
   "execution_count": 110,
   "metadata": {},
   "outputs": [
    {
     "data": {
      "text/plain": [
       "58733"
      ]
     },
     "execution_count": 110,
     "metadata": {},
     "output_type": "execute_result"
    }
   ],
   "source": [
    "len(B4JAN16)"
   ]
  },
  {
   "cell_type": "code",
   "execution_count": 41,
   "metadata": {},
   "outputs": [],
   "source": [
    "#begin dtDEV branch"
   ]
  },
  {
   "cell_type": "code",
   "execution_count": 111,
   "metadata": {},
   "outputs": [
    {
     "data": {
      "text/plain": [
       "Index(['Contact_ID', 'Int_Name', 'Admit_Type', 'Ethnic_Group', 'Ethnicity',\n",
       "       'Gender', 'Term', 'Lead_Source', 'Create_Date', 'Mailing_Street',\n",
       "       'Mailing_City', 'Mailing_State', 'Mailing_Postal', 'Mailing_Country',\n",
       "       'Other_City', 'Other_State', 'Other_Postal', 'Mailing_Country',\n",
       "       'Market_Segment_Code', 'Market_Segment'],\n",
       "      dtype='object')"
      ]
     },
     "execution_count": 111,
     "metadata": {},
     "output_type": "execute_result"
    }
   ],
   "source": [
    "B4JAN16.columns\n"
   ]
  },
  {
   "cell_type": "code",
   "execution_count": 112,
   "metadata": {},
   "outputs": [
    {
     "data": {
      "text/plain": [
       "58733"
      ]
     },
     "execution_count": 112,
     "metadata": {},
     "output_type": "execute_result"
    }
   ],
   "source": [
    "B4JAN16['Contact_ID'].value_counts().sum()"
   ]
  },
  {
   "cell_type": "code",
   "execution_count": 113,
   "metadata": {},
   "outputs": [
    {
     "data": {
      "text/plain": [
       "1     13918\n",
       "2     14725\n",
       "3      4662\n",
       "4      1362\n",
       "5      1827\n",
       "6      2495\n",
       "7       998\n",
       "8      3330\n",
       "9       831\n",
       "10     6879\n",
       "11     4265\n",
       "12     3441\n",
       "Name: Create_Date, dtype: int64"
      ]
     },
     "execution_count": 113,
     "metadata": {},
     "output_type": "execute_result"
    }
   ],
   "source": [
    "B4JAN16.Create_Date.dt.month.value_counts().sort_index()"
   ]
  },
  {
   "cell_type": "code",
   "execution_count": 114,
   "metadata": {},
   "outputs": [
    {
     "data": {
      "text/plain": [
       "<matplotlib.axes._subplots.AxesSubplot at 0x25323b4da90>"
      ]
     },
     "execution_count": 114,
     "metadata": {},
     "output_type": "execute_result"
    },
    {
     "data": {
      "image/png": "[encoded data removed]",
      "text/plain": [
       "<Figure size 432x288 with 1 Axes>"
      ]
     },
     "metadata": {},
     "output_type": "display_data"
    }
   ],
   "source": [
    "B4JAN16.Create_Date.dt.month.value_counts().sort_index().plot()"
   ]
  },
  {
   "cell_type": "code",
   "execution_count": 76,
   "metadata": {},
   "outputs": [],
   "source": [
    "#Review diff have to create a df from B4JAN16 results then ad column CT1['Diff'] = CT1['count'].diff()"
   ]
  },
  {
   "cell_type": "code",
   "execution_count": 115,
   "metadata": {},
   "outputs": [],
   "source": [
    "tsprior2 =pd.Timestamp ('1/1/2018')"
   ]
  },
  {
   "cell_type": "code",
   "execution_count": 116,
   "metadata": {},
   "outputs": [
    {
     "data": {
      "text/plain": [
       "Timestamp('2018-01-01 00:00:00')"
      ]
     },
     "execution_count": 116,
     "metadata": {},
     "output_type": "execute_result"
    }
   ],
   "source": [
    "tsprior2"
   ]
  },
  {
   "cell_type": "code",
   "execution_count": 117,
   "metadata": {},
   "outputs": [],
   "source": [
    "INT2018 = INT.loc[(INT.Term == 'Fall 2018')]\n",
    "#PriortoJan12017 = INT2018.loc[INT2017.Create_Date <= tsprior2,:]"
   ]
  },
  {
   "cell_type": "code",
   "execution_count": 118,
   "metadata": {},
   "outputs": [
    {
     "data": {
      "text/plain": [
       "178696"
      ]
     },
     "execution_count": 118,
     "metadata": {},
     "output_type": "execute_result"
    }
   ],
   "source": [
    "len(INT2018)"
   ]
  },
  {
   "cell_type": "code",
   "execution_count": 119,
   "metadata": {},
   "outputs": [],
   "source": [
    "# M = Month end frq and MS = month start freq\n",
    "rng = pd.date_range('2016 Jan 1 00:00', periods = 12, freq = 'MS')\n",
    "rng2 = pd.date_range('2017 Jan 1 00:00', periods = 12, freq = 'MS')"
   ]
  },
  {
   "cell_type": "code",
   "execution_count": 120,
   "metadata": {},
   "outputs": [
    {
     "data": {
      "text/plain": [
       "DatetimeIndex(['2016-01-01', '2016-02-01', '2016-03-01', '2016-04-01',\n",
       "               '2016-05-01', '2016-06-01', '2016-07-01', '2016-08-01',\n",
       "               '2016-09-01', '2016-10-01', '2016-11-01', '2016-12-01'],\n",
       "              dtype='datetime64[ns]', freq='MS')"
      ]
     },
     "execution_count": 120,
     "metadata": {},
     "output_type": "execute_result"
    }
   ],
   "source": [
    "rng"
   ]
  },
  {
   "cell_type": "code",
   "execution_count": 121,
   "metadata": {},
   "outputs": [
    {
     "data": {
      "text/plain": [
       "DatetimeIndex(['2017-01-01', '2017-02-01', '2017-03-01', '2017-04-01',\n",
       "               '2017-05-01', '2017-06-01', '2017-07-01', '2017-08-01',\n",
       "               '2017-09-01', '2017-10-01', '2017-11-01', '2017-12-01'],\n",
       "              dtype='datetime64[ns]', freq='MS')"
      ]
     },
     "execution_count": 121,
     "metadata": {},
     "output_type": "execute_result"
    }
   ],
   "source": [
    "rng2"
   ]
  },
  {
   "cell_type": "code",
   "execution_count": null,
   "metadata": {},
   "outputs": [],
   "source": []
  }
 ],
 "metadata": {
  "kernelspec": {
   "display_name": "Python [conda env:Anaconda3]",
   "language": "python",
   "name": "conda-env-Anaconda3-py"
  },
  "language_info": {
   "codemirror_mode": {
    "name": "ipython",
    "version": 3
   },
   "file_extension": ".py",
   "mimetype": "text/x-python",
   "name": "python",
   "nbconvert_exporter": "python",
   "pygments_lexer": "ipython3",
   "version": "3.6.5"
  }
 },
 "nbformat": 4,
 "nbformat_minor": 2
}
