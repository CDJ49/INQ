{
 "cells": [
  {
   "cell_type": "code",
   "execution_count": 131,
   "metadata": {},
   "outputs": [],
   "source": [
    "#This is the functional Version. Use this for creating the report\n",
    "import numpy as np\n",
    "import pandas as pd\n",
    "import matplotlib.pyplot as plt\n",
    "import seaborn as sns\n",
    "%matplotlib inline"
   ]
  },
  {
   "cell_type": "code",
   "execution_count": 132,
   "metadata": {},
   "outputs": [],
   "source": [
    "#disable warnings\n",
    "import warnings; warnings.simplefilter('ignore')"
   ]
  },
  {
   "cell_type": "markdown",
   "metadata": {},
   "source": [
    "The source files for this script are SalesForce reports Interactions.Contacts.csv and Interactions.Opportunity.Term.csv. The source files have to be stored in a NON-GIT folder so that they will never be available to git hub. Whenever the source files are updated into box the old source files should be placed in a depreciated state in a different folder. This script therefore will always pull the most recent Salesforce report results.\n"
   ]
  },
  {
   "cell_type": "code",
   "execution_count": 133,
   "metadata": {},
   "outputs": [],
   "source": [
    "#INT is the contact information for INTERACTIONS\n",
    "INT=pd.read_csv('C:/Users/mjc341/Desktop/UMAN 1507 Monthly INQ summary Report/Interactions.Contacts.csv',skipfooter=5,encoding='latin-1',engine ='python')\n",
    "#INT=pd.read_csv('C:/Users/sxh706/Desktop/Interactions.by.Month/2018/June/Interactions.Contacts.csv',skipfooter=5,encoding='latin-1',engine ='python')"
   ]
  },
  {
   "cell_type": "code",
   "execution_count": 134,
   "metadata": {},
   "outputs": [],
   "source": [
    "#CON is the CONTACT TERM information\n",
    "CON=pd.read_csv('C:/Users/mjc341/Desktop/UMAN 1507 Monthly INQ summary Report/Interactions.Opportunity.Term.csv',skipfooter=5,encoding='latin-1',engine ='python')\n",
    "#CON=pd.read_csv('C:/Users/sxh706/Desktop/Interactions.by.Month/2018/June/Interactions.Opportunity.Term.csv',skipfooter=5,encoding='latin-1',engine ='python')"
   ]
  },
  {
   "cell_type": "code",
   "execution_count": 135,
   "metadata": {},
   "outputs": [
    {
     "data": {
      "text/plain": [
       "1305259"
      ]
     },
     "execution_count": 135,
     "metadata": {},
     "output_type": "execute_result"
    }
   ],
   "source": [
    "len(INT)"
   ]
  },
  {
   "cell_type": "code",
   "execution_count": 136,
   "metadata": {},
   "outputs": [
    {
     "data": {
      "text/plain": [
       "818555"
      ]
     },
     "execution_count": 136,
     "metadata": {},
     "output_type": "execute_result"
    }
   ],
   "source": [
    "len(CON)"
   ]
  },
  {
   "cell_type": "code",
   "execution_count": 137,
   "metadata": {},
   "outputs": [],
   "source": [
    "#INT.info()"
   ]
  },
  {
   "cell_type": "code",
   "execution_count": 142,
   "metadata": {},
   "outputs": [
    {
     "data": {
      "text/plain": [
       "Index(['Contact: Contact ID (18-digit)', 'Interaction: Interaction Name',\n",
       "       'Admit Type', 'Contact: First Name', 'Contact: Middle Name',\n",
       "       'Contact: Last Name', 'Contact: Ethnic Group', 'Contact: Ethnicity',\n",
       "       'Contact: Gender', 'Term', 'Lead Source', 'Interaction: Created Date',\n",
       "       'Contact: Mailing Street', 'Contact: Mailing City',\n",
       "       'Contact: Mailing State/Province', 'Contact: Mailing Zip/Postal Code',\n",
       "       'Contact: Mailing Country', 'Contact: Other City',\n",
       "       'Contact: Other State/Province', 'Contact: Other Zip/Postal Code',\n",
       "       'Contact: Other Country', 'Contact: Market Segment Code',\n",
       "       'Contact: Market Segment'],\n",
       "      dtype='object')"
      ]
     },
     "execution_count": 142,
     "metadata": {},
     "output_type": "execute_result"
    }
   ],
   "source": [
    "INT.columns"
   ]
  },
  {
   "cell_type": "code",
   "execution_count": 143,
   "metadata": {},
   "outputs": [
    {
     "data": {
      "text/plain": [
       "Index(['Contact ID (18-digit)', 'Opportunity Name', 'Term: Term Name',\n",
       "       'Opportunity Record Type', 'Inquiry', 'Inquiry Date',\n",
       "       'Opportunity ID (18-digit)', 'Empl ID', 'Application Number'],\n",
       "      dtype='object')"
      ]
     },
     "execution_count": 143,
     "metadata": {},
     "output_type": "execute_result"
    }
   ],
   "source": [
    "CON.columns"
   ]
  },
  {
   "cell_type": "code",
   "execution_count": 144,
   "metadata": {},
   "outputs": [],
   "source": [
    "#CON.info()"
   ]
  },
  {
   "cell_type": "code",
   "execution_count": 145,
   "metadata": {},
   "outputs": [
    {
     "ename": "KeyError",
     "evalue": "\"['Full Name'] not found in axis\"",
     "output_type": "error",
     "traceback": [
      "\u001b[1;31m---------------------------------------------------------------------------\u001b[0m",
      "\u001b[1;31mKeyError\u001b[0m                                  Traceback (most recent call last)",
      "\u001b[1;32m<ipython-input-145-c81ece18db5b>\u001b[0m in \u001b[0;36m<module>\u001b[1;34m()\u001b[0m\n\u001b[0;32m      1\u001b[0m \u001b[1;31m#remove columns with identifing info\u001b[0m\u001b[1;33m\u001b[0m\u001b[1;33m\u001b[0m\u001b[0m\n\u001b[1;32m----> 2\u001b[1;33m \u001b[0mCON\u001b[0m \u001b[1;33m=\u001b[0m \u001b[0mCON\u001b[0m\u001b[1;33m.\u001b[0m\u001b[0mdrop\u001b[0m\u001b[1;33m(\u001b[0m\u001b[0mcolumns\u001b[0m \u001b[1;33m=\u001b[0m\u001b[1;33m[\u001b[0m\u001b[1;34m'Full Name'\u001b[0m\u001b[1;33m]\u001b[0m\u001b[1;33m)\u001b[0m\u001b[1;33m\u001b[0m\u001b[0m\n\u001b[0m",
      "\u001b[1;32m~\\AppData\\Local\\Continuum\\Anaconda3\\lib\\site-packages\\pandas\\core\\frame.py\u001b[0m in \u001b[0;36mdrop\u001b[1;34m(self, labels, axis, index, columns, level, inplace, errors)\u001b[0m\n\u001b[0;32m   3695\u001b[0m                                            \u001b[0mindex\u001b[0m\u001b[1;33m=\u001b[0m\u001b[0mindex\u001b[0m\u001b[1;33m,\u001b[0m \u001b[0mcolumns\u001b[0m\u001b[1;33m=\u001b[0m\u001b[0mcolumns\u001b[0m\u001b[1;33m,\u001b[0m\u001b[1;33m\u001b[0m\u001b[0m\n\u001b[0;32m   3696\u001b[0m                                            \u001b[0mlevel\u001b[0m\u001b[1;33m=\u001b[0m\u001b[0mlevel\u001b[0m\u001b[1;33m,\u001b[0m \u001b[0minplace\u001b[0m\u001b[1;33m=\u001b[0m\u001b[0minplace\u001b[0m\u001b[1;33m,\u001b[0m\u001b[1;33m\u001b[0m\u001b[0m\n\u001b[1;32m-> 3697\u001b[1;33m                                            errors=errors)\n\u001b[0m\u001b[0;32m   3698\u001b[0m \u001b[1;33m\u001b[0m\u001b[0m\n\u001b[0;32m   3699\u001b[0m     @rewrite_axis_style_signature('mapper', [('copy', True),\n",
      "\u001b[1;32m~\\AppData\\Local\\Continuum\\Anaconda3\\lib\\site-packages\\pandas\\core\\generic.py\u001b[0m in \u001b[0;36mdrop\u001b[1;34m(self, labels, axis, index, columns, level, inplace, errors)\u001b[0m\n\u001b[0;32m   3109\u001b[0m         \u001b[1;32mfor\u001b[0m \u001b[0maxis\u001b[0m\u001b[1;33m,\u001b[0m \u001b[0mlabels\u001b[0m \u001b[1;32min\u001b[0m \u001b[0maxes\u001b[0m\u001b[1;33m.\u001b[0m\u001b[0mitems\u001b[0m\u001b[1;33m(\u001b[0m\u001b[1;33m)\u001b[0m\u001b[1;33m:\u001b[0m\u001b[1;33m\u001b[0m\u001b[0m\n\u001b[0;32m   3110\u001b[0m             \u001b[1;32mif\u001b[0m \u001b[0mlabels\u001b[0m \u001b[1;32mis\u001b[0m \u001b[1;32mnot\u001b[0m \u001b[1;32mNone\u001b[0m\u001b[1;33m:\u001b[0m\u001b[1;33m\u001b[0m\u001b[0m\n\u001b[1;32m-> 3111\u001b[1;33m                 \u001b[0mobj\u001b[0m \u001b[1;33m=\u001b[0m \u001b[0mobj\u001b[0m\u001b[1;33m.\u001b[0m\u001b[0m_drop_axis\u001b[0m\u001b[1;33m(\u001b[0m\u001b[0mlabels\u001b[0m\u001b[1;33m,\u001b[0m \u001b[0maxis\u001b[0m\u001b[1;33m,\u001b[0m \u001b[0mlevel\u001b[0m\u001b[1;33m=\u001b[0m\u001b[0mlevel\u001b[0m\u001b[1;33m,\u001b[0m \u001b[0merrors\u001b[0m\u001b[1;33m=\u001b[0m\u001b[0merrors\u001b[0m\u001b[1;33m)\u001b[0m\u001b[1;33m\u001b[0m\u001b[0m\n\u001b[0m\u001b[0;32m   3112\u001b[0m \u001b[1;33m\u001b[0m\u001b[0m\n\u001b[0;32m   3113\u001b[0m         \u001b[1;32mif\u001b[0m \u001b[0minplace\u001b[0m\u001b[1;33m:\u001b[0m\u001b[1;33m\u001b[0m\u001b[0m\n",
      "\u001b[1;32m~\\AppData\\Local\\Continuum\\Anaconda3\\lib\\site-packages\\pandas\\core\\generic.py\u001b[0m in \u001b[0;36m_drop_axis\u001b[1;34m(self, labels, axis, level, errors)\u001b[0m\n\u001b[0;32m   3141\u001b[0m                 \u001b[0mnew_axis\u001b[0m \u001b[1;33m=\u001b[0m \u001b[0maxis\u001b[0m\u001b[1;33m.\u001b[0m\u001b[0mdrop\u001b[0m\u001b[1;33m(\u001b[0m\u001b[0mlabels\u001b[0m\u001b[1;33m,\u001b[0m \u001b[0mlevel\u001b[0m\u001b[1;33m=\u001b[0m\u001b[0mlevel\u001b[0m\u001b[1;33m,\u001b[0m \u001b[0merrors\u001b[0m\u001b[1;33m=\u001b[0m\u001b[0merrors\u001b[0m\u001b[1;33m)\u001b[0m\u001b[1;33m\u001b[0m\u001b[0m\n\u001b[0;32m   3142\u001b[0m             \u001b[1;32melse\u001b[0m\u001b[1;33m:\u001b[0m\u001b[1;33m\u001b[0m\u001b[0m\n\u001b[1;32m-> 3143\u001b[1;33m                 \u001b[0mnew_axis\u001b[0m \u001b[1;33m=\u001b[0m \u001b[0maxis\u001b[0m\u001b[1;33m.\u001b[0m\u001b[0mdrop\u001b[0m\u001b[1;33m(\u001b[0m\u001b[0mlabels\u001b[0m\u001b[1;33m,\u001b[0m \u001b[0merrors\u001b[0m\u001b[1;33m=\u001b[0m\u001b[0merrors\u001b[0m\u001b[1;33m)\u001b[0m\u001b[1;33m\u001b[0m\u001b[0m\n\u001b[0m\u001b[0;32m   3144\u001b[0m             \u001b[0mresult\u001b[0m \u001b[1;33m=\u001b[0m \u001b[0mself\u001b[0m\u001b[1;33m.\u001b[0m\u001b[0mreindex\u001b[0m\u001b[1;33m(\u001b[0m\u001b[1;33m**\u001b[0m\u001b[1;33m{\u001b[0m\u001b[0maxis_name\u001b[0m\u001b[1;33m:\u001b[0m \u001b[0mnew_axis\u001b[0m\u001b[1;33m}\u001b[0m\u001b[1;33m)\u001b[0m\u001b[1;33m\u001b[0m\u001b[0m\n\u001b[0;32m   3145\u001b[0m \u001b[1;33m\u001b[0m\u001b[0m\n",
      "\u001b[1;32m~\\AppData\\Local\\Continuum\\Anaconda3\\lib\\site-packages\\pandas\\core\\indexes\\base.py\u001b[0m in \u001b[0;36mdrop\u001b[1;34m(self, labels, errors)\u001b[0m\n\u001b[0;32m   4402\u001b[0m             \u001b[1;32mif\u001b[0m \u001b[0merrors\u001b[0m \u001b[1;33m!=\u001b[0m \u001b[1;34m'ignore'\u001b[0m\u001b[1;33m:\u001b[0m\u001b[1;33m\u001b[0m\u001b[0m\n\u001b[0;32m   4403\u001b[0m                 raise KeyError(\n\u001b[1;32m-> 4404\u001b[1;33m                     '{} not found in axis'.format(labels[mask]))\n\u001b[0m\u001b[0;32m   4405\u001b[0m             \u001b[0mindexer\u001b[0m \u001b[1;33m=\u001b[0m \u001b[0mindexer\u001b[0m\u001b[1;33m[\u001b[0m\u001b[1;33m~\u001b[0m\u001b[0mmask\u001b[0m\u001b[1;33m]\u001b[0m\u001b[1;33m\u001b[0m\u001b[0m\n\u001b[0;32m   4406\u001b[0m         \u001b[1;32mreturn\u001b[0m \u001b[0mself\u001b[0m\u001b[1;33m.\u001b[0m\u001b[0mdelete\u001b[0m\u001b[1;33m(\u001b[0m\u001b[0mindexer\u001b[0m\u001b[1;33m)\u001b[0m\u001b[1;33m\u001b[0m\u001b[0m\n",
      "\u001b[1;31mKeyError\u001b[0m: \"['Full Name'] not found in axis\""
     ]
    }
   ],
   "source": [
    "#remove columns with identifing info\n",
    "CON = CON.drop(columns =['Full Name'])"
   ]
  },
  {
   "cell_type": "code",
   "execution_count": 146,
   "metadata": {},
   "outputs": [],
   "source": [
    "#remove columsn with identifing info\n",
    "INT = INT.drop(columns= ['Contact: First Name', 'Contact: Middle Name',\n",
    "       'Contact: Last Name'])"
   ]
  },
  {
   "cell_type": "code",
   "execution_count": 147,
   "metadata": {},
   "outputs": [],
   "source": [
    "#changed the name of columns using a dictionary\n",
    "INT = INT.rename(columns ={'Contact: Contact ID (18-digit)':'Contact_ID','Interaction: Interaction Name':'Int_Name',\n",
    "       'Admit Type':'Admit_Type','Contact: Ethnic Group': 'Ethnic_Group', 'Contact: Ethnicity':'Ethnicity',\n",
    "       'Contact: Gender':'Gender', 'Term':'Term', 'Lead Source':'Lead_Source', 'Interaction: Created Date':'Create_Date',\n",
    "       'Contact: Mailing Street':'Mailing_Street', 'Contact: Mailing City':'Mailing_City',\n",
    "       'Contact: Mailing State/Province':'Mailing_State', 'Contact: Mailing Zip/Postal Code':'Mailing_Postal',\n",
    "       'Contact: Mailing Country':'Mailing_Country', 'Contact: Other City':'Other_City',\n",
    "       'Contact: Other State/Province':'Other_State', 'Contact: Other Zip/Postal Code':'Other_Postal',\n",
    "       'Contact: Other Country':'Mailing_Country', 'Contact: Market Segment Code':'Market_Segment_Code',\n",
    "       'Contact: Market Segment':'Market_Segment'},inplace =False)"
   ]
  },
  {
   "cell_type": "code",
   "execution_count": 148,
   "metadata": {},
   "outputs": [],
   "source": [
    "#changed the name of columns\n",
    "CON = CON.rename(columns={  'Contact ID (18-digit)':'Contact_ID', 'Opportunity Name':'OppName', \n",
    "       'Term: Term Name':'Term', 'Opportunity Record Type':'Record_Type', 'Inquiry':'Inquiry', 'Inquiry Date':'Inquiry_Date',\n",
    "       'Opportunity ID (18-digit)':'Opp_ID', 'Empl ID':'EMPL', 'Application Number':'App_Number'})"
   ]
  },
  {
   "cell_type": "code",
   "execution_count": 149,
   "metadata": {},
   "outputs": [],
   "source": [
    "#Sort INT by Contact_ID and Interaction Name\n",
    "INT = INT.sort_values(by = ['Contact_ID','Int_Name'])"
   ]
  },
  {
   "cell_type": "code",
   "execution_count": 150,
   "metadata": {},
   "outputs": [],
   "source": [
    "#Sort CON by Contact_ID and Opportunity Name\n",
    "CON = CON.sort_values(by = ['Contact_ID','OppName'])"
   ]
  },
  {
   "cell_type": "code",
   "execution_count": 151,
   "metadata": {},
   "outputs": [],
   "source": [
    "#Dropping the duplicates to then merge later\n",
    "CON=CON.drop_duplicates(['Contact_ID'], keep='first')"
   ]
  },
  {
   "cell_type": "code",
   "execution_count": 152,
   "metadata": {},
   "outputs": [
    {
     "data": {
      "text/html": [
       "<div>\n",
       "<style scoped>\n",
       "    .dataframe tbody tr th:only-of-type {\n",
       "        vertical-align: middle;\n",
       "    }\n",
       "\n",
       "    .dataframe tbody tr th {\n",
       "        vertical-align: top;\n",
       "    }\n",
       "\n",
       "    .dataframe thead th {\n",
       "        text-align: right;\n",
       "    }\n",
       "</style>\n",
       "<table border=\"1\" class=\"dataframe\">\n",
       "  <thead>\n",
       "    <tr style=\"text-align: right;\">\n",
       "      <th></th>\n",
       "      <th>Contact_ID</th>\n",
       "      <th>Int_Name</th>\n",
       "      <th>Admit_Type</th>\n",
       "      <th>Ethnic_Group</th>\n",
       "      <th>Ethnicity</th>\n",
       "      <th>Gender</th>\n",
       "      <th>Term</th>\n",
       "      <th>Lead_Source</th>\n",
       "      <th>Create_Date</th>\n",
       "      <th>Mailing_Street</th>\n",
       "      <th>Mailing_City</th>\n",
       "      <th>Mailing_State</th>\n",
       "      <th>Mailing_Postal</th>\n",
       "      <th>Mailing_Country</th>\n",
       "      <th>Other_City</th>\n",
       "      <th>Other_State</th>\n",
       "      <th>Other_Postal</th>\n",
       "      <th>Mailing_Country</th>\n",
       "      <th>Market_Segment_Code</th>\n",
       "      <th>Market_Segment</th>\n",
       "    </tr>\n",
       "  </thead>\n",
       "  <tbody>\n",
       "    <tr>\n",
       "      <th>665089</th>\n",
       "      <td>0031500001d4Si8AAE</td>\n",
       "      <td>20160320-0100599</td>\n",
       "      <td>New Student</td>\n",
       "      <td>NaN</td>\n",
       "      <td>NaN</td>\n",
       "      <td>Female</td>\n",
       "      <td>Fall 2015</td>\n",
       "      <td>Purchased List</td>\n",
       "      <td>1/4/2013</td>\n",
       "      <td>12831 sw 43 dr</td>\n",
       "      <td>miami</td>\n",
       "      <td>FL</td>\n",
       "      <td>33175</td>\n",
       "      <td>United States</td>\n",
       "      <td>NaN</td>\n",
       "      <td>NaN</td>\n",
       "      <td>NaN</td>\n",
       "      <td>NaN</td>\n",
       "      <td>NaN</td>\n",
       "      <td>NaN</td>\n",
       "    </tr>\n",
       "  </tbody>\n",
       "</table>\n",
       "</div>"
      ],
      "text/plain": [
       "                Contact_ID          Int_Name   Admit_Type Ethnic_Group  \\\n",
       "665089  0031500001d4Si8AAE  20160320-0100599  New Student          NaN   \n",
       "\n",
       "       Ethnicity  Gender       Term     Lead_Source Create_Date  \\\n",
       "665089       NaN  Female  Fall 2015  Purchased List    1/4/2013   \n",
       "\n",
       "        Mailing_Street Mailing_City Mailing_State Mailing_Postal  \\\n",
       "665089  12831 sw 43 dr        miami            FL          33175   \n",
       "\n",
       "       Mailing_Country Other_City Other_State Other_Postal Mailing_Country  \\\n",
       "665089   United States        NaN         NaN          NaN             NaN   \n",
       "\n",
       "       Market_Segment_Code Market_Segment  \n",
       "665089                 NaN            NaN  "
      ]
     },
     "execution_count": 152,
     "metadata": {},
     "output_type": "execute_result"
    }
   ],
   "source": [
    "INT.head(1)"
   ]
  },
  {
   "cell_type": "code",
   "execution_count": 153,
   "metadata": {},
   "outputs": [],
   "source": [
    "# Create a datetime variable from Create_Date this operation takes up to 3 min\n",
    "INT['Create_Date']= pd.to_datetime(INT.Create_Date)"
   ]
  },
  {
   "cell_type": "code",
   "execution_count": 154,
   "metadata": {},
   "outputs": [
    {
     "data": {
      "text/plain": [
       "Timestamp('2001-08-06 00:00:00')"
      ]
     },
     "execution_count": 154,
     "metadata": {},
     "output_type": "execute_result"
    }
   ],
   "source": [
    "#find earliest create date\n",
    "INT['Create_Date'].min()"
   ]
  },
  {
   "cell_type": "markdown",
   "metadata": {},
   "source": [
    "Here we will insert the lambda function to extract the YEAR and MONTH from the new datetime type so we can filter on YEAR and groupby MONTH also add M col that can be dictionaried to Names of MONTHS instead of numbers. Question can we format the month names at the conversion?"
   ]
  },
  {
   "cell_type": "code",
   "execution_count": 155,
   "metadata": {},
   "outputs": [],
   "source": [
    "INT.loc[:,'YEAR'] =INT['Create_Date'].apply(lambda x: \"%d\" % (x.year))"
   ]
  },
  {
   "cell_type": "code",
   "execution_count": 156,
   "metadata": {},
   "outputs": [],
   "source": [
    "INT.loc[:,'MONTH'] = INT['Create_Date'].apply(lambda x: \"%d\" % (x.month))"
   ]
  },
  {
   "cell_type": "code",
   "execution_count": 157,
   "metadata": {},
   "outputs": [],
   "source": [
    "#This line is depreciated because I found another way to map the month names\n",
    "#INT.loc[:,'M'] = INT['Create_Date'].apply(lambda x: \"%d\" % (x.month))"
   ]
  },
  {
   "cell_type": "code",
   "execution_count": 158,
   "metadata": {},
   "outputs": [
    {
     "data": {
      "text/html": [
       "<div>\n",
       "<style scoped>\n",
       "    .dataframe tbody tr th:only-of-type {\n",
       "        vertical-align: middle;\n",
       "    }\n",
       "\n",
       "    .dataframe tbody tr th {\n",
       "        vertical-align: top;\n",
       "    }\n",
       "\n",
       "    .dataframe thead th {\n",
       "        text-align: right;\n",
       "    }\n",
       "</style>\n",
       "<table border=\"1\" class=\"dataframe\">\n",
       "  <thead>\n",
       "    <tr style=\"text-align: right;\">\n",
       "      <th></th>\n",
       "      <th>Contact_ID</th>\n",
       "      <th>Int_Name</th>\n",
       "      <th>Admit_Type</th>\n",
       "      <th>Ethnic_Group</th>\n",
       "      <th>Ethnicity</th>\n",
       "      <th>Gender</th>\n",
       "      <th>Term</th>\n",
       "      <th>Lead_Source</th>\n",
       "      <th>Create_Date</th>\n",
       "      <th>Mailing_Street</th>\n",
       "      <th>...</th>\n",
       "      <th>Mailing_Postal</th>\n",
       "      <th>Mailing_Country</th>\n",
       "      <th>Other_City</th>\n",
       "      <th>Other_State</th>\n",
       "      <th>Other_Postal</th>\n",
       "      <th>Mailing_Country</th>\n",
       "      <th>Market_Segment_Code</th>\n",
       "      <th>Market_Segment</th>\n",
       "      <th>YEAR</th>\n",
       "      <th>MONTH</th>\n",
       "    </tr>\n",
       "  </thead>\n",
       "  <tbody>\n",
       "    <tr>\n",
       "      <th>665089</th>\n",
       "      <td>0031500001d4Si8AAE</td>\n",
       "      <td>20160320-0100599</td>\n",
       "      <td>New Student</td>\n",
       "      <td>NaN</td>\n",
       "      <td>NaN</td>\n",
       "      <td>Female</td>\n",
       "      <td>Fall 2015</td>\n",
       "      <td>Purchased List</td>\n",
       "      <td>2013-01-04</td>\n",
       "      <td>12831 sw 43 dr</td>\n",
       "      <td>...</td>\n",
       "      <td>33175</td>\n",
       "      <td>United States</td>\n",
       "      <td>NaN</td>\n",
       "      <td>NaN</td>\n",
       "      <td>NaN</td>\n",
       "      <td>NaN</td>\n",
       "      <td>NaN</td>\n",
       "      <td>NaN</td>\n",
       "      <td>2013</td>\n",
       "      <td>1</td>\n",
       "    </tr>\n",
       "  </tbody>\n",
       "</table>\n",
       "<p>1 rows × 22 columns</p>\n",
       "</div>"
      ],
      "text/plain": [
       "                Contact_ID          Int_Name   Admit_Type Ethnic_Group  \\\n",
       "665089  0031500001d4Si8AAE  20160320-0100599  New Student          NaN   \n",
       "\n",
       "       Ethnicity  Gender       Term     Lead_Source Create_Date  \\\n",
       "665089       NaN  Female  Fall 2015  Purchased List  2013-01-04   \n",
       "\n",
       "        Mailing_Street  ...  Mailing_Postal Mailing_Country Other_City  \\\n",
       "665089  12831 sw 43 dr  ...           33175   United States        NaN   \n",
       "\n",
       "       Other_State Other_Postal Mailing_Country Market_Segment_Code  \\\n",
       "665089         NaN          NaN             NaN                 NaN   \n",
       "\n",
       "       Market_Segment  YEAR MONTH  \n",
       "665089            NaN  2013     1  \n",
       "\n",
       "[1 rows x 22 columns]"
      ]
     },
     "execution_count": 158,
     "metadata": {},
     "output_type": "execute_result"
    }
   ],
   "source": [
    "INT.head(1)"
   ]
  },
  {
   "cell_type": "code",
   "execution_count": 159,
   "metadata": {},
   "outputs": [],
   "source": [
    "# filter on term for 2017,2018,2019,2020\n",
    "TERM2017 = INT.loc[(INT.Term == 'Fall 2017')]\n",
    "TERM2018 = INT.loc[(INT.Term == 'Fall 2018')]\n",
    "TERM2019 = INT.loc[(INT.Term == 'Fall 2019')]\n",
    "TERM2020 = INT.loc[(INT.Term == 'Fall 2020')]"
   ]
  },
  {
   "cell_type": "code",
   "execution_count": 160,
   "metadata": {},
   "outputs": [
    {
     "data": {
      "text/plain": [
       "182460"
      ]
     },
     "execution_count": 160,
     "metadata": {},
     "output_type": "execute_result"
    }
   ],
   "source": [
    "len(TERM2017)"
   ]
  },
  {
   "cell_type": "code",
   "execution_count": 161,
   "metadata": {},
   "outputs": [
    {
     "data": {
      "text/plain": [
       "143347"
      ]
     },
     "execution_count": 161,
     "metadata": {},
     "output_type": "execute_result"
    }
   ],
   "source": [
    "len(TERM2018)"
   ]
  },
  {
   "cell_type": "code",
   "execution_count": 162,
   "metadata": {},
   "outputs": [
    {
     "data": {
      "text/plain": [
       "80922"
      ]
     },
     "execution_count": 162,
     "metadata": {},
     "output_type": "execute_result"
    }
   ],
   "source": [
    "len(TERM2019)"
   ]
  },
  {
   "cell_type": "code",
   "execution_count": 163,
   "metadata": {},
   "outputs": [
    {
     "data": {
      "text/plain": [
       "24410"
      ]
     },
     "execution_count": 163,
     "metadata": {},
     "output_type": "execute_result"
    }
   ],
   "source": [
    "len(TERM2020)"
   ]
  },
  {
   "cell_type": "code",
   "execution_count": 164,
   "metadata": {},
   "outputs": [],
   "source": [
    "#filter on YEAR for  2016,2017,2018,2019\n",
    "INQ2016 = TERM2017[TERM2017['YEAR'] == '2016']\n",
    "INQ2017 = TERM2018[TERM2018['YEAR'] == '2017']\n",
    "INQ2018 = TERM2019[TERM2019['YEAR'] == '2018']\n",
    "INQ2019 = TERM2020[TERM2020['YEAR'] == '2019']"
   ]
  },
  {
   "cell_type": "code",
   "execution_count": 165,
   "metadata": {},
   "outputs": [
    {
     "data": {
      "text/plain": [
       "100697"
      ]
     },
     "execution_count": 165,
     "metadata": {},
     "output_type": "execute_result"
    }
   ],
   "source": [
    "len(INQ2016)"
   ]
  },
  {
   "cell_type": "code",
   "execution_count": 166,
   "metadata": {},
   "outputs": [
    {
     "data": {
      "text/plain": [
       "86803"
      ]
     },
     "execution_count": 166,
     "metadata": {},
     "output_type": "execute_result"
    }
   ],
   "source": [
    "len(INQ2017)"
   ]
  },
  {
   "cell_type": "code",
   "execution_count": 167,
   "metadata": {},
   "outputs": [
    {
     "data": {
      "text/plain": [
       "53500"
      ]
     },
     "execution_count": 167,
     "metadata": {},
     "output_type": "execute_result"
    }
   ],
   "source": [
    "len(INQ2018)"
   ]
  },
  {
   "cell_type": "code",
   "execution_count": 168,
   "metadata": {},
   "outputs": [
    {
     "data": {
      "text/plain": [
       "0"
      ]
     },
     "execution_count": 168,
     "metadata": {},
     "output_type": "execute_result"
    }
   ],
   "source": [
    "len(INQ2019)"
   ]
  },
  {
   "cell_type": "code",
   "execution_count": 169,
   "metadata": {},
   "outputs": [
    {
     "data": {
      "text/html": [
       "<div>\n",
       "<style scoped>\n",
       "    .dataframe tbody tr th:only-of-type {\n",
       "        vertical-align: middle;\n",
       "    }\n",
       "\n",
       "    .dataframe tbody tr th {\n",
       "        vertical-align: top;\n",
       "    }\n",
       "\n",
       "    .dataframe thead th {\n",
       "        text-align: right;\n",
       "    }\n",
       "</style>\n",
       "<table border=\"1\" class=\"dataframe\">\n",
       "  <thead>\n",
       "    <tr style=\"text-align: right;\">\n",
       "      <th></th>\n",
       "      <th>Contact_ID</th>\n",
       "      <th>Int_Name</th>\n",
       "      <th>Admit_Type</th>\n",
       "      <th>Ethnic_Group</th>\n",
       "      <th>Ethnicity</th>\n",
       "      <th>Gender</th>\n",
       "      <th>Term</th>\n",
       "      <th>Lead_Source</th>\n",
       "      <th>Create_Date</th>\n",
       "      <th>Mailing_Street</th>\n",
       "      <th>...</th>\n",
       "      <th>Mailing_Postal</th>\n",
       "      <th>Mailing_Country</th>\n",
       "      <th>Other_City</th>\n",
       "      <th>Other_State</th>\n",
       "      <th>Other_Postal</th>\n",
       "      <th>Mailing_Country</th>\n",
       "      <th>Market_Segment_Code</th>\n",
       "      <th>Market_Segment</th>\n",
       "      <th>YEAR</th>\n",
       "      <th>MONTH</th>\n",
       "    </tr>\n",
       "  </thead>\n",
       "  <tbody>\n",
       "    <tr>\n",
       "      <th>1304180</th>\n",
       "      <td>0031500001d4SiCAAU</td>\n",
       "      <td>20160320-0910984</td>\n",
       "      <td>New Student</td>\n",
       "      <td>NaN</td>\n",
       "      <td>Black/African American</td>\n",
       "      <td>Female</td>\n",
       "      <td>Fall 2017</td>\n",
       "      <td>Web Form</td>\n",
       "      <td>2016-01-12</td>\n",
       "      <td>3 Horsley Road</td>\n",
       "      <td>...</td>\n",
       "      <td>SL6 7RL</td>\n",
       "      <td>ENGLAND</td>\n",
       "      <td>Clermont</td>\n",
       "      <td>Florida</td>\n",
       "      <td>34714</td>\n",
       "      <td>United States</td>\n",
       "      <td>EW-5</td>\n",
       "      <td>EW-5-I-England</td>\n",
       "      <td>2016</td>\n",
       "      <td>1</td>\n",
       "    </tr>\n",
       "  </tbody>\n",
       "</table>\n",
       "<p>1 rows × 22 columns</p>\n",
       "</div>"
      ],
      "text/plain": [
       "                 Contact_ID          Int_Name   Admit_Type Ethnic_Group  \\\n",
       "1304180  0031500001d4SiCAAU  20160320-0910984  New Student          NaN   \n",
       "\n",
       "                      Ethnicity  Gender       Term Lead_Source Create_Date  \\\n",
       "1304180  Black/African American  Female  Fall 2017    Web Form  2016-01-12   \n",
       "\n",
       "         Mailing_Street  ...  Mailing_Postal Mailing_Country Other_City  \\\n",
       "1304180  3 Horsley Road  ...         SL6 7RL         ENGLAND   Clermont   \n",
       "\n",
       "        Other_State Other_Postal Mailing_Country Market_Segment_Code  \\\n",
       "1304180     Florida        34714   United States                EW-5   \n",
       "\n",
       "         Market_Segment  YEAR MONTH  \n",
       "1304180  EW-5-I-England  2016     1  \n",
       "\n",
       "[1 rows x 22 columns]"
      ]
     },
     "execution_count": 169,
     "metadata": {},
     "output_type": "execute_result"
    }
   ],
   "source": [
    "#show head of INQ2016 same for 2017,2018,2019\n",
    "INQ2016.head(1)"
   ]
  },
  {
   "cell_type": "code",
   "execution_count": 170,
   "metadata": {},
   "outputs": [
    {
     "data": {
      "text/plain": [
       "Index(['Contact_ID', 'Int_Name', 'Admit_Type', 'Ethnic_Group', 'Ethnicity',\n",
       "       'Gender', 'Term', 'Lead_Source', 'Create_Date', 'Mailing_Street',\n",
       "       'Mailing_City', 'Mailing_State', 'Mailing_Postal', 'Mailing_Country',\n",
       "       'Other_City', 'Other_State', 'Other_Postal', 'Mailing_Country',\n",
       "       'Market_Segment_Code', 'Market_Segment', 'YEAR', 'MONTH'],\n",
       "      dtype='object')"
      ]
     },
     "execution_count": 170,
     "metadata": {},
     "output_type": "execute_result"
    }
   ],
   "source": [
    "INQ2016.columns"
   ]
  },
  {
   "cell_type": "code",
   "execution_count": 171,
   "metadata": {},
   "outputs": [
    {
     "data": {
      "text/plain": [
       "pandas.core.frame.DataFrame"
      ]
     },
     "execution_count": 171,
     "metadata": {},
     "output_type": "execute_result"
    }
   ],
   "source": [
    "#confirm that filtered data is a datafram\n",
    "type(INQ2016)"
   ]
  },
  {
   "cell_type": "code",
   "execution_count": 172,
   "metadata": {},
   "outputs": [],
   "source": [
    "#pd.show_versions()"
   ]
  },
  {
   "cell_type": "code",
   "execution_count": 173,
   "metadata": {},
   "outputs": [
    {
     "data": {
      "text/plain": [
       "1      3503\n",
       "2      4667\n",
       "3      1686\n",
       "4      1413\n",
       "5      2547\n",
       "6     12483\n",
       "7     12933\n",
       "8      2435\n",
       "9      7714\n",
       "10    18403\n",
       "11    17757\n",
       "12    15156\n",
       "Name: Create_Date, dtype: int64"
      ]
     },
     "execution_count": 173,
     "metadata": {},
     "output_type": "execute_result"
    }
   ],
   "source": [
    "#get count by month of each term\n",
    "INQ2016.Create_Date.dt.month.value_counts().sort_index()"
   ]
  },
  {
   "cell_type": "code",
   "execution_count": 174,
   "metadata": {},
   "outputs": [
    {
     "data": {
      "text/plain": [
       "1      1882\n",
       "2      3795\n",
       "3      3614\n",
       "4      3558\n",
       "5     10576\n",
       "6      6946\n",
       "7      3798\n",
       "8      4993\n",
       "9      5989\n",
       "10    20881\n",
       "11    15739\n",
       "12     5032\n",
       "Name: Create_Date, dtype: int64"
      ]
     },
     "execution_count": 174,
     "metadata": {},
     "output_type": "execute_result"
    }
   ],
   "source": [
    "INQ2017.Create_Date.dt.month.value_counts().sort_index()"
   ]
  },
  {
   "cell_type": "code",
   "execution_count": 175,
   "metadata": {},
   "outputs": [
    {
     "data": {
      "text/plain": [
       "1     2418\n",
       "2     2754\n",
       "3     9018\n",
       "4    11967\n",
       "5     7052\n",
       "6    11067\n",
       "7     6753\n",
       "8     2471\n",
       "Name: Create_Date, dtype: int64"
      ]
     },
     "execution_count": 175,
     "metadata": {},
     "output_type": "execute_result"
    }
   ],
   "source": [
    "INQ2018.Create_Date.dt.month.value_counts().sort_index()"
   ]
  },
  {
   "cell_type": "code",
   "execution_count": 176,
   "metadata": {},
   "outputs": [],
   "source": [
    "#this creates an empty list because no INQ can be found for 2019\n",
    "#INQ2019.Create_Date.dt.month.value_counts().sort_index()"
   ]
  },
  {
   "cell_type": "code",
   "execution_count": 177,
   "metadata": {},
   "outputs": [],
   "source": [
    "#create a timestamp to get values from the FAll 2018 term that are prior to Jan 1 2017\n",
    "tsprior = pd.Timestamp('1/1/2016')\n",
    "tsprior2 = pd.Timestamp ('1/1/2017')\n",
    "tsprior3 = pd.Timestamp('1/1/2018')\n",
    "tsprior4 = pd.Timestamp('1/1/2019')"
   ]
  },
  {
   "cell_type": "code",
   "execution_count": 178,
   "metadata": {},
   "outputs": [
    {
     "data": {
      "text/plain": [
       "Timestamp('2017-01-01 00:00:00')"
      ]
     },
     "execution_count": 178,
     "metadata": {},
     "output_type": "execute_result"
    }
   ],
   "source": [
    "tsprior2"
   ]
  },
  {
   "cell_type": "code",
   "execution_count": 179,
   "metadata": {},
   "outputs": [],
   "source": [
    "B4JAN16 = TERM2017.loc[TERM2017.Create_Date <= tsprior,:]\n",
    "B4JAN17 = TERM2018.loc[TERM2018.Create_Date <= tsprior2,:]\n",
    "B4JAN18 = TERM2019.loc[TERM2019.Create_Date <= tsprior3,:]\n",
    "#B4JAN19 = TERM2020.loc[TERM2019.Create_Date <= tsprior4,:]"
   ]
  },
  {
   "cell_type": "code",
   "execution_count": 180,
   "metadata": {},
   "outputs": [
    {
     "data": {
      "text/plain": [
       "58727"
      ]
     },
     "execution_count": 180,
     "metadata": {},
     "output_type": "execute_result"
    }
   ],
   "source": [
    "len(B4JAN16)"
   ]
  },
  {
   "cell_type": "code",
   "execution_count": 181,
   "metadata": {},
   "outputs": [
    {
     "data": {
      "text/plain": [
       "35764"
      ]
     },
     "execution_count": 181,
     "metadata": {},
     "output_type": "execute_result"
    }
   ],
   "source": [
    "len(B4JAN17)"
   ]
  },
  {
   "cell_type": "code",
   "execution_count": 182,
   "metadata": {},
   "outputs": [
    {
     "data": {
      "text/plain": [
       "27464"
      ]
     },
     "execution_count": 182,
     "metadata": {},
     "output_type": "execute_result"
    }
   ],
   "source": [
    "len(B4JAN18)"
   ]
  },
  {
   "cell_type": "code",
   "execution_count": 183,
   "metadata": {},
   "outputs": [
    {
     "data": {
      "text/plain": [
       "80922"
      ]
     },
     "execution_count": 183,
     "metadata": {},
     "output_type": "execute_result"
    }
   ],
   "source": [
    "len(B4JAN19)"
   ]
  },
  {
   "cell_type": "code",
   "execution_count": 184,
   "metadata": {},
   "outputs": [
    {
     "data": {
      "text/plain": [
       "58727"
      ]
     },
     "execution_count": 184,
     "metadata": {},
     "output_type": "execute_result"
    }
   ],
   "source": [
    "#test the counts\n",
    "B4JAN16['Contact_ID'].value_counts().sum()\n",
    "#B4JAN17['Contact_ID'].value_counts().sum()\n",
    "#B4JAN18['Contact_ID'].value_counts().sum()"
   ]
  },
  {
   "cell_type": "code",
   "execution_count": 185,
   "metadata": {},
   "outputs": [],
   "source": [
    "#B4JAN19['Contact_ID'].value_counts().sum()"
   ]
  },
  {
   "cell_type": "code",
   "execution_count": 187,
   "metadata": {},
   "outputs": [],
   "source": [
    "R16 = INQ2016.Create_Date.dt.month.value_counts().sort_index()\n",
    "R17 = INQ2017.Create_Date.dt.month.value_counts().sort_index()\n",
    "R18 = INQ2018.Create_Date.dt.month.value_counts().sort_index()\n",
    "R19 = INQ2019.Create_Date.dt.month.value_counts().sort_index()"
   ]
  },
  {
   "cell_type": "code",
   "execution_count": 188,
   "metadata": {},
   "outputs": [],
   "source": [
    "R16df = pd.DataFrame([R16]).T\n",
    "R17df = pd.DataFrame([R17]).T\n",
    "R18df = pd.DataFrame([R18]).T\n",
    "R19df = pd.DataFrame([R19]).T"
   ]
  },
  {
   "cell_type": "code",
   "execution_count": 189,
   "metadata": {},
   "outputs": [],
   "source": [
    "#R16df.head()"
   ]
  },
  {
   "cell_type": "code",
   "execution_count": 190,
   "metadata": {},
   "outputs": [],
   "source": [
    "a =R16df.rename({'Create_Date': 'Count-2016'}, axis = 'columns')\n",
    "#R16df.rename({'Create_Date': 'Count-2016'}, axis = 'columns')"
   ]
  },
  {
   "cell_type": "code",
   "execution_count": 191,
   "metadata": {},
   "outputs": [],
   "source": [
    "b = R17df.rename({'Create_Date': 'Count-2017'}, axis = 'columns')\n",
    "#R17df.rename({'Create_Date': 'Count-2017'}, axis = 'columns')"
   ]
  },
  {
   "cell_type": "code",
   "execution_count": 192,
   "metadata": {},
   "outputs": [],
   "source": [
    "#R18df.rename({'Create_Date': 'Count-2018'}, axis = 'columns')\n",
    "c = R18df.rename({'Create_Date': 'Count-2018'}, axis = 'columns')"
   ]
  },
  {
   "cell_type": "code",
   "execution_count": 193,
   "metadata": {},
   "outputs": [],
   "source": [
    "#d = R19df.rename({'Create_Date': 'Count-2019'}, axis = 'columns')"
   ]
  },
  {
   "cell_type": "code",
   "execution_count": 194,
   "metadata": {},
   "outputs": [],
   "source": [
    " j = pd.concat([a, b], axis=1, join_axes=[a.index])"
   ]
  },
  {
   "cell_type": "code",
   "execution_count": 195,
   "metadata": {},
   "outputs": [],
   "source": [
    "#j.head(1)"
   ]
  },
  {
   "cell_type": "code",
   "execution_count": 196,
   "metadata": {},
   "outputs": [],
   "source": [
    "k = pd.concat([j, c], axis=1, join_axes=[a.index])"
   ]
  },
  {
   "cell_type": "code",
   "execution_count": 197,
   "metadata": {},
   "outputs": [],
   "source": [
    "#k2 = pd.concat([k, d], axis=1, join_axes=[a.index])"
   ]
  },
  {
   "cell_type": "code",
   "execution_count": 198,
   "metadata": {},
   "outputs": [
    {
     "data": {
      "text/html": [
       "<div>\n",
       "<style scoped>\n",
       "    .dataframe tbody tr th:only-of-type {\n",
       "        vertical-align: middle;\n",
       "    }\n",
       "\n",
       "    .dataframe tbody tr th {\n",
       "        vertical-align: top;\n",
       "    }\n",
       "\n",
       "    .dataframe thead th {\n",
       "        text-align: right;\n",
       "    }\n",
       "</style>\n",
       "<table border=\"1\" class=\"dataframe\">\n",
       "  <thead>\n",
       "    <tr style=\"text-align: right;\">\n",
       "      <th></th>\n",
       "      <th>Count-2016</th>\n",
       "      <th>Count-2017</th>\n",
       "      <th>Count-2018</th>\n",
       "    </tr>\n",
       "  </thead>\n",
       "  <tbody>\n",
       "    <tr>\n",
       "      <th>1</th>\n",
       "      <td>3503</td>\n",
       "      <td>1882</td>\n",
       "      <td>2418.0</td>\n",
       "    </tr>\n",
       "    <tr>\n",
       "      <th>2</th>\n",
       "      <td>4667</td>\n",
       "      <td>3795</td>\n",
       "      <td>2754.0</td>\n",
       "    </tr>\n",
       "    <tr>\n",
       "      <th>3</th>\n",
       "      <td>1686</td>\n",
       "      <td>3614</td>\n",
       "      <td>9018.0</td>\n",
       "    </tr>\n",
       "    <tr>\n",
       "      <th>4</th>\n",
       "      <td>1413</td>\n",
       "      <td>3558</td>\n",
       "      <td>11967.0</td>\n",
       "    </tr>\n",
       "    <tr>\n",
       "      <th>5</th>\n",
       "      <td>2547</td>\n",
       "      <td>10576</td>\n",
       "      <td>7052.0</td>\n",
       "    </tr>\n",
       "  </tbody>\n",
       "</table>\n",
       "</div>"
      ],
      "text/plain": [
       "   Count-2016  Count-2017  Count-2018\n",
       "1        3503        1882      2418.0\n",
       "2        4667        3795      2754.0\n",
       "3        1686        3614      9018.0\n",
       "4        1413        3558     11967.0\n",
       "5        2547       10576      7052.0"
      ]
     },
     "execution_count": 198,
     "metadata": {},
     "output_type": "execute_result"
    }
   ],
   "source": [
    "k.head()"
   ]
  },
  {
   "cell_type": "code",
   "execution_count": 199,
   "metadata": {},
   "outputs": [],
   "source": [
    "#2019 has no results so do not include d\n",
    "#k2.head()"
   ]
  },
  {
   "cell_type": "code",
   "execution_count": 200,
   "metadata": {},
   "outputs": [
    {
     "data": {
      "text/plain": [
       "pandas.core.frame.DataFrame"
      ]
     },
     "execution_count": 200,
     "metadata": {},
     "output_type": "execute_result"
    }
   ],
   "source": [
    "type(k)"
   ]
  },
  {
   "cell_type": "code",
   "execution_count": 201,
   "metadata": {},
   "outputs": [
    {
     "data": {
      "text/plain": [
       "Count-2016      int64\n",
       "Count-2017      int64\n",
       "Count-2018    float64\n",
       "dtype: object"
      ]
     },
     "execution_count": 201,
     "metadata": {},
     "output_type": "execute_result"
    }
   ],
   "source": [
    "k.dtypes"
   ]
  },
  {
   "cell_type": "code",
   "execution_count": 202,
   "metadata": {},
   "outputs": [],
   "source": [
    "k =  k.replace(np.nan,0)"
   ]
  },
  {
   "cell_type": "code",
   "execution_count": 203,
   "metadata": {},
   "outputs": [
    {
     "data": {
      "text/html": [
       "<div>\n",
       "<style scoped>\n",
       "    .dataframe tbody tr th:only-of-type {\n",
       "        vertical-align: middle;\n",
       "    }\n",
       "\n",
       "    .dataframe tbody tr th {\n",
       "        vertical-align: top;\n",
       "    }\n",
       "\n",
       "    .dataframe thead th {\n",
       "        text-align: right;\n",
       "    }\n",
       "</style>\n",
       "<table border=\"1\" class=\"dataframe\">\n",
       "  <thead>\n",
       "    <tr style=\"text-align: right;\">\n",
       "      <th></th>\n",
       "      <th>Count-2016</th>\n",
       "      <th>Count-2017</th>\n",
       "      <th>Count-2018</th>\n",
       "    </tr>\n",
       "  </thead>\n",
       "  <tbody>\n",
       "    <tr>\n",
       "      <th>1</th>\n",
       "      <td>3503</td>\n",
       "      <td>1882</td>\n",
       "      <td>2418</td>\n",
       "    </tr>\n",
       "    <tr>\n",
       "      <th>2</th>\n",
       "      <td>4667</td>\n",
       "      <td>3795</td>\n",
       "      <td>2754</td>\n",
       "    </tr>\n",
       "    <tr>\n",
       "      <th>3</th>\n",
       "      <td>1686</td>\n",
       "      <td>3614</td>\n",
       "      <td>9018</td>\n",
       "    </tr>\n",
       "    <tr>\n",
       "      <th>4</th>\n",
       "      <td>1413</td>\n",
       "      <td>3558</td>\n",
       "      <td>11967</td>\n",
       "    </tr>\n",
       "    <tr>\n",
       "      <th>5</th>\n",
       "      <td>2547</td>\n",
       "      <td>10576</td>\n",
       "      <td>7052</td>\n",
       "    </tr>\n",
       "    <tr>\n",
       "      <th>6</th>\n",
       "      <td>12483</td>\n",
       "      <td>6946</td>\n",
       "      <td>11067</td>\n",
       "    </tr>\n",
       "    <tr>\n",
       "      <th>7</th>\n",
       "      <td>12933</td>\n",
       "      <td>3798</td>\n",
       "      <td>6753</td>\n",
       "    </tr>\n",
       "    <tr>\n",
       "      <th>8</th>\n",
       "      <td>2435</td>\n",
       "      <td>4993</td>\n",
       "      <td>2471</td>\n",
       "    </tr>\n",
       "    <tr>\n",
       "      <th>9</th>\n",
       "      <td>7714</td>\n",
       "      <td>5989</td>\n",
       "      <td>0</td>\n",
       "    </tr>\n",
       "    <tr>\n",
       "      <th>10</th>\n",
       "      <td>18403</td>\n",
       "      <td>20881</td>\n",
       "      <td>0</td>\n",
       "    </tr>\n",
       "    <tr>\n",
       "      <th>11</th>\n",
       "      <td>17757</td>\n",
       "      <td>15739</td>\n",
       "      <td>0</td>\n",
       "    </tr>\n",
       "    <tr>\n",
       "      <th>12</th>\n",
       "      <td>15156</td>\n",
       "      <td>5032</td>\n",
       "      <td>0</td>\n",
       "    </tr>\n",
       "  </tbody>\n",
       "</table>\n",
       "</div>"
      ],
      "text/plain": [
       "    Count-2016  Count-2017  Count-2018\n",
       "1         3503        1882        2418\n",
       "2         4667        3795        2754\n",
       "3         1686        3614        9018\n",
       "4         1413        3558       11967\n",
       "5         2547       10576        7052\n",
       "6        12483        6946       11067\n",
       "7        12933        3798        6753\n",
       "8         2435        4993        2471\n",
       "9         7714        5989           0\n",
       "10       18403       20881           0\n",
       "11       17757       15739           0\n",
       "12       15156        5032           0"
      ]
     },
     "execution_count": 203,
     "metadata": {},
     "output_type": "execute_result"
    }
   ],
   "source": [
    "k['Count-2018'] =k['Count-2018'].astype(int)\n",
    "k"
   ]
  },
  {
   "cell_type": "code",
   "execution_count": 204,
   "metadata": {},
   "outputs": [],
   "source": [
    "#k.dtypes"
   ]
  },
  {
   "cell_type": "code",
   "execution_count": 205,
   "metadata": {},
   "outputs": [
    {
     "data": {
      "text/plain": [
       "Int64Index([1, 2, 3, 4, 5, 6, 7, 8, 9, 10, 11, 12], dtype='int64')"
      ]
     },
     "execution_count": 205,
     "metadata": {},
     "output_type": "execute_result"
    }
   ],
   "source": [
    "k.index"
   ]
  },
  {
   "cell_type": "code",
   "execution_count": 206,
   "metadata": {},
   "outputs": [],
   "source": [
    "# create  a dictionary to map the month values\n",
    "dict = {1:'JAN',2:'FEB',3:'MAR',4:'APR',5:'MAY',6:'JUN',7:'JUL',8:'AUG',9:'SEP',10:'OCT',11:'NOV',12:'DEC'}"
   ]
  },
  {
   "cell_type": "code",
   "execution_count": 207,
   "metadata": {},
   "outputs": [],
   "source": [
    "#map the dictionary to the new col on index\n",
    "k ['MONTH'] = k.index.map(dict)"
   ]
  },
  {
   "cell_type": "code",
   "execution_count": 208,
   "metadata": {},
   "outputs": [
    {
     "data": {
      "text/html": [
       "<div>\n",
       "<style scoped>\n",
       "    .dataframe tbody tr th:only-of-type {\n",
       "        vertical-align: middle;\n",
       "    }\n",
       "\n",
       "    .dataframe tbody tr th {\n",
       "        vertical-align: top;\n",
       "    }\n",
       "\n",
       "    .dataframe thead th {\n",
       "        text-align: right;\n",
       "    }\n",
       "</style>\n",
       "<table border=\"1\" class=\"dataframe\">\n",
       "  <thead>\n",
       "    <tr style=\"text-align: right;\">\n",
       "      <th></th>\n",
       "      <th>Count-2016</th>\n",
       "      <th>Count-2017</th>\n",
       "      <th>Count-2018</th>\n",
       "      <th>MONTH</th>\n",
       "    </tr>\n",
       "  </thead>\n",
       "  <tbody>\n",
       "    <tr>\n",
       "      <th>1</th>\n",
       "      <td>3503</td>\n",
       "      <td>1882</td>\n",
       "      <td>2418</td>\n",
       "      <td>JAN</td>\n",
       "    </tr>\n",
       "    <tr>\n",
       "      <th>2</th>\n",
       "      <td>4667</td>\n",
       "      <td>3795</td>\n",
       "      <td>2754</td>\n",
       "      <td>FEB</td>\n",
       "    </tr>\n",
       "    <tr>\n",
       "      <th>3</th>\n",
       "      <td>1686</td>\n",
       "      <td>3614</td>\n",
       "      <td>9018</td>\n",
       "      <td>MAR</td>\n",
       "    </tr>\n",
       "    <tr>\n",
       "      <th>4</th>\n",
       "      <td>1413</td>\n",
       "      <td>3558</td>\n",
       "      <td>11967</td>\n",
       "      <td>APR</td>\n",
       "    </tr>\n",
       "    <tr>\n",
       "      <th>5</th>\n",
       "      <td>2547</td>\n",
       "      <td>10576</td>\n",
       "      <td>7052</td>\n",
       "      <td>MAY</td>\n",
       "    </tr>\n",
       "    <tr>\n",
       "      <th>6</th>\n",
       "      <td>12483</td>\n",
       "      <td>6946</td>\n",
       "      <td>11067</td>\n",
       "      <td>JUN</td>\n",
       "    </tr>\n",
       "    <tr>\n",
       "      <th>7</th>\n",
       "      <td>12933</td>\n",
       "      <td>3798</td>\n",
       "      <td>6753</td>\n",
       "      <td>JUL</td>\n",
       "    </tr>\n",
       "    <tr>\n",
       "      <th>8</th>\n",
       "      <td>2435</td>\n",
       "      <td>4993</td>\n",
       "      <td>2471</td>\n",
       "      <td>AUG</td>\n",
       "    </tr>\n",
       "    <tr>\n",
       "      <th>9</th>\n",
       "      <td>7714</td>\n",
       "      <td>5989</td>\n",
       "      <td>0</td>\n",
       "      <td>SEP</td>\n",
       "    </tr>\n",
       "    <tr>\n",
       "      <th>10</th>\n",
       "      <td>18403</td>\n",
       "      <td>20881</td>\n",
       "      <td>0</td>\n",
       "      <td>OCT</td>\n",
       "    </tr>\n",
       "    <tr>\n",
       "      <th>11</th>\n",
       "      <td>17757</td>\n",
       "      <td>15739</td>\n",
       "      <td>0</td>\n",
       "      <td>NOV</td>\n",
       "    </tr>\n",
       "    <tr>\n",
       "      <th>12</th>\n",
       "      <td>15156</td>\n",
       "      <td>5032</td>\n",
       "      <td>0</td>\n",
       "      <td>DEC</td>\n",
       "    </tr>\n",
       "  </tbody>\n",
       "</table>\n",
       "</div>"
      ],
      "text/plain": [
       "    Count-2016  Count-2017  Count-2018 MONTH\n",
       "1         3503        1882        2418   JAN\n",
       "2         4667        3795        2754   FEB\n",
       "3         1686        3614        9018   MAR\n",
       "4         1413        3558       11967   APR\n",
       "5         2547       10576        7052   MAY\n",
       "6        12483        6946       11067   JUN\n",
       "7        12933        3798        6753   JUL\n",
       "8         2435        4993        2471   AUG\n",
       "9         7714        5989           0   SEP\n",
       "10       18403       20881           0   OCT\n",
       "11       17757       15739           0   NOV\n",
       "12       15156        5032           0   DEC"
      ]
     },
     "execution_count": 208,
     "metadata": {},
     "output_type": "execute_result"
    }
   ],
   "source": [
    "k"
   ]
  },
  {
   "cell_type": "code",
   "execution_count": 209,
   "metadata": {},
   "outputs": [],
   "source": [
    "#change the name of the df and rearragne the cols\n",
    "INQbyMONTH = k[['MONTH','Count-2016','Count-2017','Count-2018']]"
   ]
  },
  {
   "cell_type": "code",
   "execution_count": 210,
   "metadata": {},
   "outputs": [
    {
     "data": {
      "text/html": [
       "<div>\n",
       "<style scoped>\n",
       "    .dataframe tbody tr th:only-of-type {\n",
       "        vertical-align: middle;\n",
       "    }\n",
       "\n",
       "    .dataframe tbody tr th {\n",
       "        vertical-align: top;\n",
       "    }\n",
       "\n",
       "    .dataframe thead th {\n",
       "        text-align: right;\n",
       "    }\n",
       "</style>\n",
       "<table border=\"1\" class=\"dataframe\">\n",
       "  <thead>\n",
       "    <tr style=\"text-align: right;\">\n",
       "      <th></th>\n",
       "      <th>MONTH</th>\n",
       "      <th>Count-2016</th>\n",
       "      <th>Count-2017</th>\n",
       "      <th>Count-2018</th>\n",
       "    </tr>\n",
       "  </thead>\n",
       "  <tbody>\n",
       "    <tr>\n",
       "      <th>1</th>\n",
       "      <td>JAN</td>\n",
       "      <td>3503</td>\n",
       "      <td>1882</td>\n",
       "      <td>2418</td>\n",
       "    </tr>\n",
       "    <tr>\n",
       "      <th>2</th>\n",
       "      <td>FEB</td>\n",
       "      <td>4667</td>\n",
       "      <td>3795</td>\n",
       "      <td>2754</td>\n",
       "    </tr>\n",
       "    <tr>\n",
       "      <th>3</th>\n",
       "      <td>MAR</td>\n",
       "      <td>1686</td>\n",
       "      <td>3614</td>\n",
       "      <td>9018</td>\n",
       "    </tr>\n",
       "    <tr>\n",
       "      <th>4</th>\n",
       "      <td>APR</td>\n",
       "      <td>1413</td>\n",
       "      <td>3558</td>\n",
       "      <td>11967</td>\n",
       "    </tr>\n",
       "    <tr>\n",
       "      <th>5</th>\n",
       "      <td>MAY</td>\n",
       "      <td>2547</td>\n",
       "      <td>10576</td>\n",
       "      <td>7052</td>\n",
       "    </tr>\n",
       "    <tr>\n",
       "      <th>6</th>\n",
       "      <td>JUN</td>\n",
       "      <td>12483</td>\n",
       "      <td>6946</td>\n",
       "      <td>11067</td>\n",
       "    </tr>\n",
       "    <tr>\n",
       "      <th>7</th>\n",
       "      <td>JUL</td>\n",
       "      <td>12933</td>\n",
       "      <td>3798</td>\n",
       "      <td>6753</td>\n",
       "    </tr>\n",
       "    <tr>\n",
       "      <th>8</th>\n",
       "      <td>AUG</td>\n",
       "      <td>2435</td>\n",
       "      <td>4993</td>\n",
       "      <td>2471</td>\n",
       "    </tr>\n",
       "    <tr>\n",
       "      <th>9</th>\n",
       "      <td>SEP</td>\n",
       "      <td>7714</td>\n",
       "      <td>5989</td>\n",
       "      <td>0</td>\n",
       "    </tr>\n",
       "    <tr>\n",
       "      <th>10</th>\n",
       "      <td>OCT</td>\n",
       "      <td>18403</td>\n",
       "      <td>20881</td>\n",
       "      <td>0</td>\n",
       "    </tr>\n",
       "    <tr>\n",
       "      <th>11</th>\n",
       "      <td>NOV</td>\n",
       "      <td>17757</td>\n",
       "      <td>15739</td>\n",
       "      <td>0</td>\n",
       "    </tr>\n",
       "    <tr>\n",
       "      <th>12</th>\n",
       "      <td>DEC</td>\n",
       "      <td>15156</td>\n",
       "      <td>5032</td>\n",
       "      <td>0</td>\n",
       "    </tr>\n",
       "  </tbody>\n",
       "</table>\n",
       "</div>"
      ],
      "text/plain": [
       "   MONTH  Count-2016  Count-2017  Count-2018\n",
       "1    JAN        3503        1882        2418\n",
       "2    FEB        4667        3795        2754\n",
       "3    MAR        1686        3614        9018\n",
       "4    APR        1413        3558       11967\n",
       "5    MAY        2547       10576        7052\n",
       "6    JUN       12483        6946       11067\n",
       "7    JUL       12933        3798        6753\n",
       "8    AUG        2435        4993        2471\n",
       "9    SEP        7714        5989           0\n",
       "10   OCT       18403       20881           0\n",
       "11   NOV       17757       15739           0\n",
       "12   DEC       15156        5032           0"
      ]
     },
     "execution_count": 210,
     "metadata": {},
     "output_type": "execute_result"
    }
   ],
   "source": [
    "#this is the result\n",
    "INQbyMONTH"
   ]
  },
  {
   "cell_type": "code",
   "execution_count": 211,
   "metadata": {},
   "outputs": [
    {
     "data": {
      "text/plain": [
       "pandas.core.frame.DataFrame"
      ]
     },
     "execution_count": 211,
     "metadata": {},
     "output_type": "execute_result"
    }
   ],
   "source": [
    "#it is a df\n",
    "type(INQbyMONTH)"
   ]
  },
  {
   "cell_type": "code",
   "execution_count": 212,
   "metadata": {},
   "outputs": [],
   "source": [
    "x = B4JAN16['Contact_ID'].value_counts().sum()\n",
    "y = B4JAN17['Contact_ID'].value_counts().sum()\n",
    "z = B4JAN18['Contact_ID'].value_counts().sum()\n",
    "xx = B4JAN19['Contact_ID'].value_counts().sum()"
   ]
  },
  {
   "cell_type": "code",
   "execution_count": 213,
   "metadata": {},
   "outputs": [],
   "source": [
    "PRIOR = pd.DataFrame({'Prior to Jan 2016': x , 'Prior to Jan 2017': y , 'Prior to Jan 2018': z, 'Prior to Jan 2019': xx},index = [0])"
   ]
  },
  {
   "cell_type": "code",
   "execution_count": 214,
   "metadata": {},
   "outputs": [
    {
     "data": {
      "text/html": [
       "<div>\n",
       "<style scoped>\n",
       "    .dataframe tbody tr th:only-of-type {\n",
       "        vertical-align: middle;\n",
       "    }\n",
       "\n",
       "    .dataframe tbody tr th {\n",
       "        vertical-align: top;\n",
       "    }\n",
       "\n",
       "    .dataframe thead th {\n",
       "        text-align: right;\n",
       "    }\n",
       "</style>\n",
       "<table border=\"1\" class=\"dataframe\">\n",
       "  <thead>\n",
       "    <tr style=\"text-align: right;\">\n",
       "      <th></th>\n",
       "      <th>Prior to Jan 2016</th>\n",
       "      <th>Prior to Jan 2017</th>\n",
       "      <th>Prior to Jan 2018</th>\n",
       "      <th>Prior to Jan 2019</th>\n",
       "    </tr>\n",
       "  </thead>\n",
       "  <tbody>\n",
       "    <tr>\n",
       "      <th>0</th>\n",
       "      <td>58727</td>\n",
       "      <td>35764</td>\n",
       "      <td>27464</td>\n",
       "      <td>80922</td>\n",
       "    </tr>\n",
       "  </tbody>\n",
       "</table>\n",
       "</div>"
      ],
      "text/plain": [
       "   Prior to Jan 2016  Prior to Jan 2017  Prior to Jan 2018  Prior to Jan 2019\n",
       "0              58727              35764              27464              80922"
      ]
     },
     "execution_count": 214,
     "metadata": {},
     "output_type": "execute_result"
    }
   ],
   "source": [
    "PRIOR"
   ]
  },
  {
   "cell_type": "code",
   "execution_count": 215,
   "metadata": {},
   "outputs": [],
   "source": [
    "#create a timestamp to get prior values for FEB and AUG\n",
    "tspriorFEB17 = pd.Timestamp('2/1/2017')\n",
    "tspriorFEB18 = pd.Timestamp ('2/1/2018')\n",
    "tspriorFEB19 = pd.Timestamp('2/1/2019')\n",
    "tspriorAUG17 = pd.Timestamp('8/1/2017')\n",
    "tspriorAUG18 = pd.Timestamp ('8/1/2018')\n",
    "tspriorAUG19 = pd.Timestamp('8/1/2019')"
   ]
  },
  {
   "cell_type": "code",
   "execution_count": null,
   "metadata": {},
   "outputs": [],
   "source": []
  },
  {
   "cell_type": "code",
   "execution_count": 216,
   "metadata": {},
   "outputs": [],
   "source": [
    "# create the path where the results willbe sent\n",
    "path_final = r'C:/Users/mjc341/Desktop/EMSA-GIT/COLAB'"
   ]
  },
  {
   "cell_type": "code",
   "execution_count": 217,
   "metadata": {},
   "outputs": [
    {
     "data": {
      "text/plain": [
       "'C:/Users/mjc341/Desktop/EMSA-GIT/COLAB'"
      ]
     },
     "execution_count": 217,
     "metadata": {},
     "output_type": "execute_result"
    }
   ],
   "source": [
    "path_final"
   ]
  },
  {
   "cell_type": "code",
   "execution_count": 377,
   "metadata": {},
   "outputs": [],
   "source": [
    "writer = pd.ExcelWriter(path_final + '/' + 'SalesForceByMonth1' + '.xlsx')\n",
    "INQbyMONTH.to_excel(writer,'Results')\n",
    "PRIOR.to_excel(writer, 'PRIOR')\n",
    "workbook = writer.book\n",
    "worksheet = writer.sheets['Results'] \n",
    "worksheet2 = writer.sheets ['PRIOR']\n",
    "\n",
    "format1 = workbook.add_format({'num_format': '#,##', 'bold': True, 'border': '1'})\n",
    "format2 = workbook.add_format({'num_format': '##,###', 'border': '1','bg_color':'#FFC7CE'})\n",
    "format3 = workbook.add_format({'border': '1','bg_color':'#DAF7A6'})\n",
    "format4 = workbook.add_format({'border': '1','bg_color':'#DAF7A6'})\n",
    "#added bkground color so we can show different years\n",
    "\n",
    "# Note: It isn't possible to format any cells that already have a format such\n",
    "# as the index or headers or any cells that contain dates or datetimes.\n",
    "\n",
    "worksheet.set_column('A:A', 10)\n",
    "worksheet.set_column('B:E', 12)\n",
    "worksheet.set_row(1, None, format2)\n",
    "worksheet.set_row(2, None, format2)\n",
    "worksheet.set_row(3, None, format2)\n",
    "worksheet.set_row(4, None, format2)\n",
    "worksheet.set_row(5, None, format2)\n",
    "worksheet.set_row(6, None, format2)\n",
    "worksheet.set_row(7, None, format2)\n",
    "worksheet.set_row(8, None, format2)\n",
    "worksheet.set_row(9, None, format2)\n",
    "worksheet.set_row(10, None, format2)\n",
    "worksheet.set_row(11, None, format2)\n",
    "worksheet.set_row(12, None, format2)\n",
    "\n",
    "worksheet2.set_column('A:A', 10)\n",
    "worksheet2.set_column('B:E', 18)\n",
    "worksheet2.set_row(1, None, format3)\n",
    "worksheet2.set_row(2, None, format4)\n",
    "\n",
    "#dont write unbti you check the code then remove the # below\n",
    "#writer.save()"
   ]
  },
  {
   "cell_type": "code",
   "execution_count": null,
   "metadata": {},
   "outputs": [],
   "source": []
  }
 ],
 "metadata": {
  "kernelspec": {
   "display_name": "Python [conda env:Anaconda3]",
   "language": "python",
   "name": "conda-env-Anaconda3-py"
  },
  "language_info": {
   "codemirror_mode": {
    "name": "ipython",
    "version": 3
   },
   "file_extension": ".py",
   "mimetype": "text/x-python",
   "name": "python",
   "nbconvert_exporter": "python",
   "pygments_lexer": "ipython3",
   "version": "3.6.6"
  }
 },
 "nbformat": 4,
 "nbformat_minor": 2
}
